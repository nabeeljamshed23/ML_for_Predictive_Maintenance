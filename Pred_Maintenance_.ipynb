{
  "cells": [
    {
      "cell_type": "code",
      "execution_count": null,
      "id": "7683f249-8079-4afe-b65b-be826c5502d5",
      "metadata": {
        "id": "7683f249-8079-4afe-b65b-be826c5502d5"
      },
      "outputs": [],
      "source": [
        "import pandas as pd\n",
        "from ydata_profiling import ProfileReport\n",
        "import matplotlib.pyplot as plt\n",
        "import seaborn as sns\n",
        "import numpy as np"
      ]
    },
    {
      "cell_type": "code",
      "execution_count": null,
      "id": "ce32a883-2a9c-4f0b-ac21-ed8970bfbe36",
      "metadata": {
        "id": "ce32a883-2a9c-4f0b-ac21-ed8970bfbe36"
      },
      "outputs": [],
      "source": [
        "# Data Analysis"
      ]
    },
    {
      "cell_type": "code",
      "execution_count": null,
      "id": "79f4deb2-66b4-4634-b114-dac47f472e3e",
      "metadata": {
        "id": "79f4deb2-66b4-4634-b114-dac47f472e3e",
        "outputId": "ab30d8d6-8c1d-4324-9b5a-4d99f2580a1a"
      },
      "outputs": [
        {
          "data": {
            "text/html": [
              "<div>\n",
              "<style scoped>\n",
              "    .dataframe tbody tr th:only-of-type {\n",
              "        vertical-align: middle;\n",
              "    }\n",
              "\n",
              "    .dataframe tbody tr th {\n",
              "        vertical-align: top;\n",
              "    }\n",
              "\n",
              "    .dataframe thead th {\n",
              "        text-align: right;\n",
              "    }\n",
              "</style>\n",
              "<table border=\"1\" class=\"dataframe\">\n",
              "  <thead>\n",
              "    <tr style=\"text-align: right;\">\n",
              "      <th></th>\n",
              "      <th>date</th>\n",
              "      <th>device</th>\n",
              "      <th>failure</th>\n",
              "      <th>metric1</th>\n",
              "      <th>metric2</th>\n",
              "      <th>metric3</th>\n",
              "      <th>metric4</th>\n",
              "      <th>metric5</th>\n",
              "      <th>metric6</th>\n",
              "      <th>metric7</th>\n",
              "      <th>metric8</th>\n",
              "      <th>metric9</th>\n",
              "    </tr>\n",
              "  </thead>\n",
              "  <tbody>\n",
              "    <tr>\n",
              "      <th>0</th>\n",
              "      <td>1/1/15</td>\n",
              "      <td>S1F01085</td>\n",
              "      <td>0</td>\n",
              "      <td>215630672</td>\n",
              "      <td>56</td>\n",
              "      <td>0</td>\n",
              "      <td>52</td>\n",
              "      <td>6</td>\n",
              "      <td>407438</td>\n",
              "      <td>0</td>\n",
              "      <td>0</td>\n",
              "      <td>7</td>\n",
              "    </tr>\n",
              "    <tr>\n",
              "      <th>1</th>\n",
              "      <td>1/1/15</td>\n",
              "      <td>S1F0166B</td>\n",
              "      <td>0</td>\n",
              "      <td>61370680</td>\n",
              "      <td>0</td>\n",
              "      <td>3</td>\n",
              "      <td>0</td>\n",
              "      <td>6</td>\n",
              "      <td>403174</td>\n",
              "      <td>0</td>\n",
              "      <td>0</td>\n",
              "      <td>0</td>\n",
              "    </tr>\n",
              "    <tr>\n",
              "      <th>2</th>\n",
              "      <td>1/1/15</td>\n",
              "      <td>S1F01E6Y</td>\n",
              "      <td>0</td>\n",
              "      <td>173295968</td>\n",
              "      <td>0</td>\n",
              "      <td>0</td>\n",
              "      <td>0</td>\n",
              "      <td>12</td>\n",
              "      <td>237394</td>\n",
              "      <td>0</td>\n",
              "      <td>0</td>\n",
              "      <td>0</td>\n",
              "    </tr>\n",
              "    <tr>\n",
              "      <th>3</th>\n",
              "      <td>1/1/15</td>\n",
              "      <td>S1F01JE0</td>\n",
              "      <td>0</td>\n",
              "      <td>79694024</td>\n",
              "      <td>0</td>\n",
              "      <td>0</td>\n",
              "      <td>0</td>\n",
              "      <td>6</td>\n",
              "      <td>410186</td>\n",
              "      <td>0</td>\n",
              "      <td>0</td>\n",
              "      <td>0</td>\n",
              "    </tr>\n",
              "    <tr>\n",
              "      <th>4</th>\n",
              "      <td>1/1/15</td>\n",
              "      <td>S1F01R2B</td>\n",
              "      <td>0</td>\n",
              "      <td>135970480</td>\n",
              "      <td>0</td>\n",
              "      <td>0</td>\n",
              "      <td>0</td>\n",
              "      <td>15</td>\n",
              "      <td>313173</td>\n",
              "      <td>0</td>\n",
              "      <td>0</td>\n",
              "      <td>3</td>\n",
              "    </tr>\n",
              "    <tr>\n",
              "      <th>...</th>\n",
              "      <td>...</td>\n",
              "      <td>...</td>\n",
              "      <td>...</td>\n",
              "      <td>...</td>\n",
              "      <td>...</td>\n",
              "      <td>...</td>\n",
              "      <td>...</td>\n",
              "      <td>...</td>\n",
              "      <td>...</td>\n",
              "      <td>...</td>\n",
              "      <td>...</td>\n",
              "      <td>...</td>\n",
              "    </tr>\n",
              "    <tr>\n",
              "      <th>124489</th>\n",
              "      <td>11/2/15</td>\n",
              "      <td>Z1F0MA1S</td>\n",
              "      <td>0</td>\n",
              "      <td>18310224</td>\n",
              "      <td>0</td>\n",
              "      <td>0</td>\n",
              "      <td>0</td>\n",
              "      <td>10</td>\n",
              "      <td>353705</td>\n",
              "      <td>8</td>\n",
              "      <td>8</td>\n",
              "      <td>0</td>\n",
              "    </tr>\n",
              "    <tr>\n",
              "      <th>124490</th>\n",
              "      <td>11/2/15</td>\n",
              "      <td>Z1F0Q8RT</td>\n",
              "      <td>0</td>\n",
              "      <td>172556680</td>\n",
              "      <td>96</td>\n",
              "      <td>107</td>\n",
              "      <td>4</td>\n",
              "      <td>11</td>\n",
              "      <td>332792</td>\n",
              "      <td>0</td>\n",
              "      <td>0</td>\n",
              "      <td>13</td>\n",
              "    </tr>\n",
              "    <tr>\n",
              "      <th>124491</th>\n",
              "      <td>11/2/15</td>\n",
              "      <td>Z1F0QK05</td>\n",
              "      <td>0</td>\n",
              "      <td>19029120</td>\n",
              "      <td>4832</td>\n",
              "      <td>0</td>\n",
              "      <td>0</td>\n",
              "      <td>11</td>\n",
              "      <td>350410</td>\n",
              "      <td>0</td>\n",
              "      <td>0</td>\n",
              "      <td>0</td>\n",
              "    </tr>\n",
              "    <tr>\n",
              "      <th>124492</th>\n",
              "      <td>11/2/15</td>\n",
              "      <td>Z1F0QL3N</td>\n",
              "      <td>0</td>\n",
              "      <td>226953408</td>\n",
              "      <td>0</td>\n",
              "      <td>0</td>\n",
              "      <td>0</td>\n",
              "      <td>12</td>\n",
              "      <td>358980</td>\n",
              "      <td>0</td>\n",
              "      <td>0</td>\n",
              "      <td>0</td>\n",
              "    </tr>\n",
              "    <tr>\n",
              "      <th>124493</th>\n",
              "      <td>11/2/15</td>\n",
              "      <td>Z1F0QLC1</td>\n",
              "      <td>0</td>\n",
              "      <td>17572840</td>\n",
              "      <td>0</td>\n",
              "      <td>0</td>\n",
              "      <td>0</td>\n",
              "      <td>10</td>\n",
              "      <td>351431</td>\n",
              "      <td>0</td>\n",
              "      <td>0</td>\n",
              "      <td>0</td>\n",
              "    </tr>\n",
              "  </tbody>\n",
              "</table>\n",
              "<p>124494 rows × 12 columns</p>\n",
              "</div>"
            ],
            "text/plain": [
              "           date    device  failure    metric1  metric2  metric3  metric4  \\\n",
              "0        1/1/15  S1F01085        0  215630672       56        0       52   \n",
              "1        1/1/15  S1F0166B        0   61370680        0        3        0   \n",
              "2        1/1/15  S1F01E6Y        0  173295968        0        0        0   \n",
              "3        1/1/15  S1F01JE0        0   79694024        0        0        0   \n",
              "4        1/1/15  S1F01R2B        0  135970480        0        0        0   \n",
              "...         ...       ...      ...        ...      ...      ...      ...   \n",
              "124489  11/2/15  Z1F0MA1S        0   18310224        0        0        0   \n",
              "124490  11/2/15  Z1F0Q8RT        0  172556680       96      107        4   \n",
              "124491  11/2/15  Z1F0QK05        0   19029120     4832        0        0   \n",
              "124492  11/2/15  Z1F0QL3N        0  226953408        0        0        0   \n",
              "124493  11/2/15  Z1F0QLC1        0   17572840        0        0        0   \n",
              "\n",
              "        metric5  metric6  metric7  metric8  metric9  \n",
              "0             6   407438        0        0        7  \n",
              "1             6   403174        0        0        0  \n",
              "2            12   237394        0        0        0  \n",
              "3             6   410186        0        0        0  \n",
              "4            15   313173        0        0        3  \n",
              "...         ...      ...      ...      ...      ...  \n",
              "124489       10   353705        8        8        0  \n",
              "124490       11   332792        0        0       13  \n",
              "124491       11   350410        0        0        0  \n",
              "124492       12   358980        0        0        0  \n",
              "124493       10   351431        0        0        0  \n",
              "\n",
              "[124494 rows x 12 columns]"
            ]
          },
          "execution_count": 3,
          "metadata": {},
          "output_type": "execute_result"
        }
      ],
      "source": [
        "df = pd.read_csv('predictive_maintenance.csv')\n",
        "df"
      ]
    },
    {
      "cell_type": "code",
      "execution_count": null,
      "id": "3942437e-710b-403b-92b9-ffa1130cc83c",
      "metadata": {
        "id": "3942437e-710b-403b-92b9-ffa1130cc83c",
        "outputId": "f8d23d63-1be1-4cf8-b707-773d1813afad"
      },
      "outputs": [
        {
          "data": {
            "text/html": [
              "<div>\n",
              "<style scoped>\n",
              "    .dataframe tbody tr th:only-of-type {\n",
              "        vertical-align: middle;\n",
              "    }\n",
              "\n",
              "    .dataframe tbody tr th {\n",
              "        vertical-align: top;\n",
              "    }\n",
              "\n",
              "    .dataframe thead th {\n",
              "        text-align: right;\n",
              "    }\n",
              "</style>\n",
              "<table border=\"1\" class=\"dataframe\">\n",
              "  <thead>\n",
              "    <tr style=\"text-align: right;\">\n",
              "      <th></th>\n",
              "      <th>failure</th>\n",
              "      <th>metric1</th>\n",
              "      <th>metric2</th>\n",
              "      <th>metric3</th>\n",
              "      <th>metric4</th>\n",
              "      <th>metric5</th>\n",
              "      <th>metric6</th>\n",
              "      <th>metric7</th>\n",
              "      <th>metric8</th>\n",
              "      <th>metric9</th>\n",
              "    </tr>\n",
              "  </thead>\n",
              "  <tbody>\n",
              "    <tr>\n",
              "      <th>failure</th>\n",
              "      <td>1.000000</td>\n",
              "      <td>0.001983</td>\n",
              "      <td>0.052902</td>\n",
              "      <td>-0.000948</td>\n",
              "      <td>0.067398</td>\n",
              "      <td>0.002270</td>\n",
              "      <td>-0.000550</td>\n",
              "      <td>0.119055</td>\n",
              "      <td>0.119055</td>\n",
              "      <td>0.001622</td>\n",
              "    </tr>\n",
              "    <tr>\n",
              "      <th>metric1</th>\n",
              "      <td>0.001983</td>\n",
              "      <td>1.000000</td>\n",
              "      <td>-0.004250</td>\n",
              "      <td>0.003701</td>\n",
              "      <td>0.001836</td>\n",
              "      <td>-0.003376</td>\n",
              "      <td>-0.001522</td>\n",
              "      <td>0.000151</td>\n",
              "      <td>0.000151</td>\n",
              "      <td>0.001121</td>\n",
              "    </tr>\n",
              "    <tr>\n",
              "      <th>metric2</th>\n",
              "      <td>0.052902</td>\n",
              "      <td>-0.004250</td>\n",
              "      <td>1.000000</td>\n",
              "      <td>-0.002617</td>\n",
              "      <td>0.146593</td>\n",
              "      <td>-0.013999</td>\n",
              "      <td>-0.026350</td>\n",
              "      <td>0.141367</td>\n",
              "      <td>0.141367</td>\n",
              "      <td>-0.002736</td>\n",
              "    </tr>\n",
              "    <tr>\n",
              "      <th>metric3</th>\n",
              "      <td>-0.000948</td>\n",
              "      <td>0.003701</td>\n",
              "      <td>-0.002617</td>\n",
              "      <td>1.000000</td>\n",
              "      <td>0.097452</td>\n",
              "      <td>-0.006696</td>\n",
              "      <td>0.009027</td>\n",
              "      <td>-0.001884</td>\n",
              "      <td>-0.001884</td>\n",
              "      <td>0.532366</td>\n",
              "    </tr>\n",
              "    <tr>\n",
              "      <th>metric4</th>\n",
              "      <td>0.067398</td>\n",
              "      <td>0.001836</td>\n",
              "      <td>0.146593</td>\n",
              "      <td>0.097452</td>\n",
              "      <td>1.000000</td>\n",
              "      <td>-0.009773</td>\n",
              "      <td>0.024870</td>\n",
              "      <td>0.045631</td>\n",
              "      <td>0.045631</td>\n",
              "      <td>0.036069</td>\n",
              "    </tr>\n",
              "    <tr>\n",
              "      <th>metric5</th>\n",
              "      <td>0.002270</td>\n",
              "      <td>-0.003376</td>\n",
              "      <td>-0.013999</td>\n",
              "      <td>-0.006696</td>\n",
              "      <td>-0.009773</td>\n",
              "      <td>1.000000</td>\n",
              "      <td>-0.017049</td>\n",
              "      <td>-0.009384</td>\n",
              "      <td>-0.009384</td>\n",
              "      <td>0.005949</td>\n",
              "    </tr>\n",
              "    <tr>\n",
              "      <th>metric6</th>\n",
              "      <td>-0.000550</td>\n",
              "      <td>-0.001522</td>\n",
              "      <td>-0.026350</td>\n",
              "      <td>0.009027</td>\n",
              "      <td>0.024870</td>\n",
              "      <td>-0.017049</td>\n",
              "      <td>1.000000</td>\n",
              "      <td>-0.012207</td>\n",
              "      <td>-0.012207</td>\n",
              "      <td>0.021152</td>\n",
              "    </tr>\n",
              "    <tr>\n",
              "      <th>metric7</th>\n",
              "      <td>0.119055</td>\n",
              "      <td>0.000151</td>\n",
              "      <td>0.141367</td>\n",
              "      <td>-0.001884</td>\n",
              "      <td>0.045631</td>\n",
              "      <td>-0.009384</td>\n",
              "      <td>-0.012207</td>\n",
              "      <td>1.000000</td>\n",
              "      <td>1.000000</td>\n",
              "      <td>0.006861</td>\n",
              "    </tr>\n",
              "    <tr>\n",
              "      <th>metric8</th>\n",
              "      <td>0.119055</td>\n",
              "      <td>0.000151</td>\n",
              "      <td>0.141367</td>\n",
              "      <td>-0.001884</td>\n",
              "      <td>0.045631</td>\n",
              "      <td>-0.009384</td>\n",
              "      <td>-0.012207</td>\n",
              "      <td>1.000000</td>\n",
              "      <td>1.000000</td>\n",
              "      <td>0.006861</td>\n",
              "    </tr>\n",
              "    <tr>\n",
              "      <th>metric9</th>\n",
              "      <td>0.001622</td>\n",
              "      <td>0.001121</td>\n",
              "      <td>-0.002736</td>\n",
              "      <td>0.532366</td>\n",
              "      <td>0.036069</td>\n",
              "      <td>0.005949</td>\n",
              "      <td>0.021152</td>\n",
              "      <td>0.006861</td>\n",
              "      <td>0.006861</td>\n",
              "      <td>1.000000</td>\n",
              "    </tr>\n",
              "  </tbody>\n",
              "</table>\n",
              "</div>"
            ],
            "text/plain": [
              "          failure   metric1   metric2   metric3   metric4   metric5   metric6  \\\n",
              "failure  1.000000  0.001983  0.052902 -0.000948  0.067398  0.002270 -0.000550   \n",
              "metric1  0.001983  1.000000 -0.004250  0.003701  0.001836 -0.003376 -0.001522   \n",
              "metric2  0.052902 -0.004250  1.000000 -0.002617  0.146593 -0.013999 -0.026350   \n",
              "metric3 -0.000948  0.003701 -0.002617  1.000000  0.097452 -0.006696  0.009027   \n",
              "metric4  0.067398  0.001836  0.146593  0.097452  1.000000 -0.009773  0.024870   \n",
              "metric5  0.002270 -0.003376 -0.013999 -0.006696 -0.009773  1.000000 -0.017049   \n",
              "metric6 -0.000550 -0.001522 -0.026350  0.009027  0.024870 -0.017049  1.000000   \n",
              "metric7  0.119055  0.000151  0.141367 -0.001884  0.045631 -0.009384 -0.012207   \n",
              "metric8  0.119055  0.000151  0.141367 -0.001884  0.045631 -0.009384 -0.012207   \n",
              "metric9  0.001622  0.001121 -0.002736  0.532366  0.036069  0.005949  0.021152   \n",
              "\n",
              "          metric7   metric8   metric9  \n",
              "failure  0.119055  0.119055  0.001622  \n",
              "metric1  0.000151  0.000151  0.001121  \n",
              "metric2  0.141367  0.141367 -0.002736  \n",
              "metric3 -0.001884 -0.001884  0.532366  \n",
              "metric4  0.045631  0.045631  0.036069  \n",
              "metric5 -0.009384 -0.009384  0.005949  \n",
              "metric6 -0.012207 -0.012207  0.021152  \n",
              "metric7  1.000000  1.000000  0.006861  \n",
              "metric8  1.000000  1.000000  0.006861  \n",
              "metric9  0.006861  0.006861  1.000000  "
            ]
          },
          "execution_count": 4,
          "metadata": {},
          "output_type": "execute_result"
        }
      ],
      "source": [
        "df1 = df.drop(['date', 'device'], axis = 1)\n",
        "df1.corr()"
      ]
    },
    {
      "cell_type": "code",
      "execution_count": null,
      "id": "e71132d1-91bb-4a4c-aedc-56d20b9ef2ab",
      "metadata": {
        "id": "e71132d1-91bb-4a4c-aedc-56d20b9ef2ab"
      },
      "outputs": [],
      "source": [
        "# profile = ProfileReport(df)\n",
        "# # profile.config.plot.wordcloud = False\n",
        "# profile.to_file(output_file=\"pm.html\")"
      ]
    },
    {
      "cell_type": "code",
      "execution_count": null,
      "id": "c2d493d3-1184-4239-a083-5c3fed7d7a78",
      "metadata": {
        "id": "c2d493d3-1184-4239-a083-5c3fed7d7a78",
        "outputId": "75a1b5ce-a527-4f54-c7ba-c316153877ed"
      },
      "outputs": [
        {
          "data": {
            "text/plain": [
              "date       0\n",
              "device     0\n",
              "failure    0\n",
              "metric1    0\n",
              "metric2    0\n",
              "metric3    0\n",
              "metric4    0\n",
              "metric5    0\n",
              "metric6    0\n",
              "metric7    0\n",
              "metric8    0\n",
              "metric9    0\n",
              "dtype: int64"
            ]
          },
          "execution_count": 6,
          "metadata": {},
          "output_type": "execute_result"
        }
      ],
      "source": [
        "df.isnull().sum()"
      ]
    },
    {
      "cell_type": "code",
      "execution_count": null,
      "id": "7290cd60-c90d-430e-ac7e-2f0310363401",
      "metadata": {
        "id": "7290cd60-c90d-430e-ac7e-2f0310363401"
      },
      "outputs": [],
      "source": [
        "#The dataset is highly imbalanced"
      ]
    },
    {
      "cell_type": "code",
      "execution_count": null,
      "id": "7f574a7e-196e-4f26-95bf-9ffc17bcfd46",
      "metadata": {
        "id": "7f574a7e-196e-4f26-95bf-9ffc17bcfd46",
        "outputId": "bd21c482-a8f0-4a67-a21e-645728cade99"
      },
      "outputs": [
        {
          "data": {
            "text/plain": [
              "failure\n",
              "0    124388\n",
              "1       106\n",
              "Name: count, dtype: int64"
            ]
          },
          "execution_count": 8,
          "metadata": {},
          "output_type": "execute_result"
        }
      ],
      "source": [
        "df.failure.value_counts()"
      ]
    },
    {
      "cell_type": "code",
      "execution_count": null,
      "id": "7fe544b5-98eb-4d11-8581-186ea62b81bb",
      "metadata": {
        "id": "7fe544b5-98eb-4d11-8581-186ea62b81bb",
        "outputId": "202e12ef-b1c9-4601-84ac-749f3bc1f4b0"
      },
      "outputs": [
        {
          "data": {
            "text/plain": [
              "1"
            ]
          },
          "execution_count": 9,
          "metadata": {},
          "output_type": "execute_result"
        }
      ],
      "source": [
        "df.duplicated().sum()"
      ]
    },
    {
      "cell_type": "code",
      "execution_count": null,
      "id": "4df584f8-8d15-4d6d-875b-966be40c8783",
      "metadata": {
        "id": "4df584f8-8d15-4d6d-875b-966be40c8783",
        "outputId": "1eab0e68-9645-4ef5-a16f-952a96691581"
      },
      "outputs": [
        {
          "data": {
            "text/plain": [
              "1169"
            ]
          },
          "execution_count": 10,
          "metadata": {},
          "output_type": "execute_result"
        }
      ],
      "source": [
        "len(df.device.unique())"
      ]
    },
    {
      "cell_type": "code",
      "execution_count": null,
      "id": "c4281906-9591-4886-b00d-a59f681bd383",
      "metadata": {
        "id": "c4281906-9591-4886-b00d-a59f681bd383",
        "outputId": "eec96321-240d-4671-edd5-2c7aa5c966d9"
      },
      "outputs": [
        {
          "data": {
            "text/plain": [
              "106"
            ]
          },
          "execution_count": 11,
          "metadata": {},
          "output_type": "execute_result"
        }
      ],
      "source": [
        "(len(df[df.failure==1].device.unique()))"
      ]
    },
    {
      "cell_type": "code",
      "execution_count": null,
      "id": "fe4a70c7-0d07-4604-9890-0e68a79f1e8c",
      "metadata": {
        "id": "fe4a70c7-0d07-4604-9890-0e68a79f1e8c",
        "outputId": "97ccf82e-d613-419b-d31f-aec8e2d366d8"
      },
      "outputs": [
        {
          "data": {
            "text/plain": [
              "date          304\n",
              "device       1169\n",
              "failure         2\n",
              "metric1    123877\n",
              "metric2       558\n",
              "metric3        47\n",
              "metric4       115\n",
              "metric5        60\n",
              "metric6     44838\n",
              "metric7        28\n",
              "metric8        28\n",
              "metric9        65\n",
              "dtype: int64"
            ]
          },
          "execution_count": 12,
          "metadata": {},
          "output_type": "execute_result"
        }
      ],
      "source": [
        "df.nunique()"
      ]
    },
    {
      "cell_type": "code",
      "execution_count": null,
      "id": "c5db2d45-2158-45a7-a3dc-34900b75e753",
      "metadata": {
        "id": "c5db2d45-2158-45a7-a3dc-34900b75e753",
        "outputId": "caaf7f38-0658-43b5-adb7-f91eea50bcae"
      },
      "outputs": [
        {
          "name": "stderr",
          "output_type": "stream",
          "text": [
            "/tmp/ipykernel_78262/972920065.py:1: UserWarning: Could not infer format, so each element will be parsed individually, falling back to `dateutil`. To ensure parsing is consistent and as-expected, please specify a format.\n",
            "  df.date = pd.to_datetime(df.date)\n"
          ]
        },
        {
          "data": {
            "text/html": [
              "<div>\n",
              "<style scoped>\n",
              "    .dataframe tbody tr th:only-of-type {\n",
              "        vertical-align: middle;\n",
              "    }\n",
              "\n",
              "    .dataframe tbody tr th {\n",
              "        vertical-align: top;\n",
              "    }\n",
              "\n",
              "    .dataframe thead th {\n",
              "        text-align: right;\n",
              "    }\n",
              "</style>\n",
              "<table border=\"1\" class=\"dataframe\">\n",
              "  <thead>\n",
              "    <tr style=\"text-align: right;\">\n",
              "      <th></th>\n",
              "      <th>date</th>\n",
              "      <th>device</th>\n",
              "      <th>failure</th>\n",
              "      <th>metric1</th>\n",
              "      <th>metric2</th>\n",
              "      <th>metric3</th>\n",
              "      <th>metric4</th>\n",
              "      <th>metric5</th>\n",
              "      <th>metric6</th>\n",
              "      <th>metric7</th>\n",
              "      <th>metric8</th>\n",
              "      <th>metric9</th>\n",
              "      <th>No_of_days_the_device_has_been_active</th>\n",
              "      <th>month</th>\n",
              "      <th>week_day</th>\n",
              "    </tr>\n",
              "  </thead>\n",
              "  <tbody>\n",
              "    <tr>\n",
              "      <th>0</th>\n",
              "      <td>2015-01-01</td>\n",
              "      <td>S1F01085</td>\n",
              "      <td>0</td>\n",
              "      <td>215630672</td>\n",
              "      <td>56</td>\n",
              "      <td>0</td>\n",
              "      <td>52</td>\n",
              "      <td>6</td>\n",
              "      <td>407438</td>\n",
              "      <td>0</td>\n",
              "      <td>0</td>\n",
              "      <td>7</td>\n",
              "      <td>0 days</td>\n",
              "      <td>1</td>\n",
              "      <td>3</td>\n",
              "    </tr>\n",
              "    <tr>\n",
              "      <th>1</th>\n",
              "      <td>2015-01-01</td>\n",
              "      <td>S1F0166B</td>\n",
              "      <td>0</td>\n",
              "      <td>61370680</td>\n",
              "      <td>0</td>\n",
              "      <td>3</td>\n",
              "      <td>0</td>\n",
              "      <td>6</td>\n",
              "      <td>403174</td>\n",
              "      <td>0</td>\n",
              "      <td>0</td>\n",
              "      <td>0</td>\n",
              "      <td>0 days</td>\n",
              "      <td>1</td>\n",
              "      <td>3</td>\n",
              "    </tr>\n",
              "    <tr>\n",
              "      <th>2</th>\n",
              "      <td>2015-01-01</td>\n",
              "      <td>S1F01E6Y</td>\n",
              "      <td>0</td>\n",
              "      <td>173295968</td>\n",
              "      <td>0</td>\n",
              "      <td>0</td>\n",
              "      <td>0</td>\n",
              "      <td>12</td>\n",
              "      <td>237394</td>\n",
              "      <td>0</td>\n",
              "      <td>0</td>\n",
              "      <td>0</td>\n",
              "      <td>0 days</td>\n",
              "      <td>1</td>\n",
              "      <td>3</td>\n",
              "    </tr>\n",
              "    <tr>\n",
              "      <th>3</th>\n",
              "      <td>2015-01-01</td>\n",
              "      <td>S1F01JE0</td>\n",
              "      <td>0</td>\n",
              "      <td>79694024</td>\n",
              "      <td>0</td>\n",
              "      <td>0</td>\n",
              "      <td>0</td>\n",
              "      <td>6</td>\n",
              "      <td>410186</td>\n",
              "      <td>0</td>\n",
              "      <td>0</td>\n",
              "      <td>0</td>\n",
              "      <td>0 days</td>\n",
              "      <td>1</td>\n",
              "      <td>3</td>\n",
              "    </tr>\n",
              "    <tr>\n",
              "      <th>4</th>\n",
              "      <td>2015-01-01</td>\n",
              "      <td>S1F01R2B</td>\n",
              "      <td>0</td>\n",
              "      <td>135970480</td>\n",
              "      <td>0</td>\n",
              "      <td>0</td>\n",
              "      <td>0</td>\n",
              "      <td>15</td>\n",
              "      <td>313173</td>\n",
              "      <td>0</td>\n",
              "      <td>0</td>\n",
              "      <td>3</td>\n",
              "      <td>0 days</td>\n",
              "      <td>1</td>\n",
              "      <td>3</td>\n",
              "    </tr>\n",
              "    <tr>\n",
              "      <th>...</th>\n",
              "      <td>...</td>\n",
              "      <td>...</td>\n",
              "      <td>...</td>\n",
              "      <td>...</td>\n",
              "      <td>...</td>\n",
              "      <td>...</td>\n",
              "      <td>...</td>\n",
              "      <td>...</td>\n",
              "      <td>...</td>\n",
              "      <td>...</td>\n",
              "      <td>...</td>\n",
              "      <td>...</td>\n",
              "      <td>...</td>\n",
              "      <td>...</td>\n",
              "      <td>...</td>\n",
              "    </tr>\n",
              "    <tr>\n",
              "      <th>124489</th>\n",
              "      <td>2015-11-02</td>\n",
              "      <td>Z1F0MA1S</td>\n",
              "      <td>0</td>\n",
              "      <td>18310224</td>\n",
              "      <td>0</td>\n",
              "      <td>0</td>\n",
              "      <td>0</td>\n",
              "      <td>10</td>\n",
              "      <td>353705</td>\n",
              "      <td>8</td>\n",
              "      <td>8</td>\n",
              "      <td>0</td>\n",
              "      <td>305 days</td>\n",
              "      <td>11</td>\n",
              "      <td>7</td>\n",
              "    </tr>\n",
              "    <tr>\n",
              "      <th>124490</th>\n",
              "      <td>2015-11-02</td>\n",
              "      <td>Z1F0Q8RT</td>\n",
              "      <td>0</td>\n",
              "      <td>172556680</td>\n",
              "      <td>96</td>\n",
              "      <td>107</td>\n",
              "      <td>4</td>\n",
              "      <td>11</td>\n",
              "      <td>332792</td>\n",
              "      <td>0</td>\n",
              "      <td>0</td>\n",
              "      <td>13</td>\n",
              "      <td>305 days</td>\n",
              "      <td>11</td>\n",
              "      <td>7</td>\n",
              "    </tr>\n",
              "    <tr>\n",
              "      <th>124491</th>\n",
              "      <td>2015-11-02</td>\n",
              "      <td>Z1F0QK05</td>\n",
              "      <td>0</td>\n",
              "      <td>19029120</td>\n",
              "      <td>4832</td>\n",
              "      <td>0</td>\n",
              "      <td>0</td>\n",
              "      <td>11</td>\n",
              "      <td>350410</td>\n",
              "      <td>0</td>\n",
              "      <td>0</td>\n",
              "      <td>0</td>\n",
              "      <td>305 days</td>\n",
              "      <td>11</td>\n",
              "      <td>7</td>\n",
              "    </tr>\n",
              "    <tr>\n",
              "      <th>124492</th>\n",
              "      <td>2015-11-02</td>\n",
              "      <td>Z1F0QL3N</td>\n",
              "      <td>0</td>\n",
              "      <td>226953408</td>\n",
              "      <td>0</td>\n",
              "      <td>0</td>\n",
              "      <td>0</td>\n",
              "      <td>12</td>\n",
              "      <td>358980</td>\n",
              "      <td>0</td>\n",
              "      <td>0</td>\n",
              "      <td>0</td>\n",
              "      <td>305 days</td>\n",
              "      <td>11</td>\n",
              "      <td>7</td>\n",
              "    </tr>\n",
              "    <tr>\n",
              "      <th>124493</th>\n",
              "      <td>2015-11-02</td>\n",
              "      <td>Z1F0QLC1</td>\n",
              "      <td>0</td>\n",
              "      <td>17572840</td>\n",
              "      <td>0</td>\n",
              "      <td>0</td>\n",
              "      <td>0</td>\n",
              "      <td>10</td>\n",
              "      <td>351431</td>\n",
              "      <td>0</td>\n",
              "      <td>0</td>\n",
              "      <td>0</td>\n",
              "      <td>305 days</td>\n",
              "      <td>11</td>\n",
              "      <td>7</td>\n",
              "    </tr>\n",
              "  </tbody>\n",
              "</table>\n",
              "<p>124494 rows × 15 columns</p>\n",
              "</div>"
            ],
            "text/plain": [
              "             date    device  failure    metric1  metric2  metric3  metric4  \\\n",
              "0      2015-01-01  S1F01085        0  215630672       56        0       52   \n",
              "1      2015-01-01  S1F0166B        0   61370680        0        3        0   \n",
              "2      2015-01-01  S1F01E6Y        0  173295968        0        0        0   \n",
              "3      2015-01-01  S1F01JE0        0   79694024        0        0        0   \n",
              "4      2015-01-01  S1F01R2B        0  135970480        0        0        0   \n",
              "...           ...       ...      ...        ...      ...      ...      ...   \n",
              "124489 2015-11-02  Z1F0MA1S        0   18310224        0        0        0   \n",
              "124490 2015-11-02  Z1F0Q8RT        0  172556680       96      107        4   \n",
              "124491 2015-11-02  Z1F0QK05        0   19029120     4832        0        0   \n",
              "124492 2015-11-02  Z1F0QL3N        0  226953408        0        0        0   \n",
              "124493 2015-11-02  Z1F0QLC1        0   17572840        0        0        0   \n",
              "\n",
              "        metric5  metric6  metric7  metric8  metric9  \\\n",
              "0             6   407438        0        0        7   \n",
              "1             6   403174        0        0        0   \n",
              "2            12   237394        0        0        0   \n",
              "3             6   410186        0        0        0   \n",
              "4            15   313173        0        0        3   \n",
              "...         ...      ...      ...      ...      ...   \n",
              "124489       10   353705        8        8        0   \n",
              "124490       11   332792        0        0       13   \n",
              "124491       11   350410        0        0        0   \n",
              "124492       12   358980        0        0        0   \n",
              "124493       10   351431        0        0        0   \n",
              "\n",
              "       No_of_days_the_device_has_been_active  month  week_day  \n",
              "0                                     0 days      1         3  \n",
              "1                                     0 days      1         3  \n",
              "2                                     0 days      1         3  \n",
              "3                                     0 days      1         3  \n",
              "4                                     0 days      1         3  \n",
              "...                                      ...    ...       ...  \n",
              "124489                              305 days     11         7  \n",
              "124490                              305 days     11         7  \n",
              "124491                              305 days     11         7  \n",
              "124492                              305 days     11         7  \n",
              "124493                              305 days     11         7  \n",
              "\n",
              "[124494 rows x 15 columns]"
            ]
          },
          "execution_count": 13,
          "metadata": {},
          "output_type": "execute_result"
        }
      ],
      "source": [
        "df.date = pd.to_datetime(df.date)\n",
        "\n",
        "df['No_of_days_the_device_has_been_active']=df.date-df.date[0]\n",
        "\n",
        "df['month']=df['date'].dt.month\n",
        "df['week_day']=df.date.dt.weekday\n",
        "df['week_day'].replace(0,7,inplace=True)\n",
        "# df = df.drop('No. of days the device has been active', axis=1)\n",
        "\n",
        "df"
      ]
    },
    {
      "cell_type": "code",
      "execution_count": null,
      "id": "4419f39e-88ee-4a52-8745-5093880b104d",
      "metadata": {
        "id": "4419f39e-88ee-4a52-8745-5093880b104d"
      },
      "outputs": [],
      "source": [
        "\n",
        "unique_devices_per_month = df.groupby('month')['device'].nunique()\n"
      ]
    },
    {
      "cell_type": "code",
      "execution_count": null,
      "id": "9088bd48-af3f-4d80-93c2-6d52f96089a2",
      "metadata": {
        "id": "9088bd48-af3f-4d80-93c2-6d52f96089a2",
        "outputId": "267adb13-0e5f-4d86-cf85-7db5c951aaed"
      },
      "outputs": [
        {
          "name": "stdout",
          "output_type": "stream",
          "text": [
            "month\n",
            "1     1164\n",
            "2      726\n",
            "3      685\n",
            "4      491\n",
            "5      424\n",
            "6      353\n",
            "7      346\n",
            "8      334\n",
            "9      184\n",
            "10     146\n",
            "11      31\n",
            "Name: device, dtype: int64\n"
          ]
        }
      ],
      "source": [
        "print(unique_devices_per_month)"
      ]
    },
    {
      "cell_type": "code",
      "execution_count": null,
      "id": "f7aa80d1-25b0-42c1-a320-1f2ac1133864",
      "metadata": {
        "id": "f7aa80d1-25b0-42c1-a320-1f2ac1133864",
        "outputId": "ba0a5544-d19c-4ba9-b312-55fbfb5ff518"
      },
      "outputs": [
        {
          "data": {
            "image/png": "[encoded data removed]",
            "text/plain": [
              "<Figure size 640x480 with 1 Axes>"
            ]
          },
          "metadata": {},
          "output_type": "display_data"
        }
      ],
      "source": [
        "unique_devices_per_month.plot()\n",
        "plt.show()"
      ]
    },
    {
      "cell_type": "code",
      "execution_count": null,
      "id": "7c622809-3b6e-4c04-b929-4278dd64b9b5",
      "metadata": {
        "id": "7c622809-3b6e-4c04-b929-4278dd64b9b5"
      },
      "outputs": [],
      "source": [
        "monday_failures = df[(df['week_day'] == 1) & (df['failure'] == 1)]"
      ]
    },
    {
      "cell_type": "code",
      "execution_count": null,
      "id": "c76cacc2-d317-4b68-a670-c0c674b24793",
      "metadata": {
        "id": "c76cacc2-d317-4b68-a670-c0c674b24793",
        "outputId": "f46124a3-b099-4be8-a3f3-159b0d639c16"
      },
      "outputs": [
        {
          "name": "stdout",
          "output_type": "stream",
          "text": [
            "failure\n",
            "1    18\n",
            "Name: count, dtype: int64\n"
          ]
        }
      ],
      "source": [
        "print(monday_failures.failure.value_counts())"
      ]
    },
    {
      "cell_type": "code",
      "execution_count": null,
      "id": "b1360f26-536e-4816-ad02-c19b6c79f824",
      "metadata": {
        "id": "b1360f26-536e-4816-ad02-c19b6c79f824",
        "outputId": "ebefb15a-a231-4e11-8134-46d9cdfe77a4"
      },
      "outputs": [
        {
          "name": "stdout",
          "output_type": "stream",
          "text": [
            "failure\n",
            "1    15\n",
            "Name: count, dtype: int64\n"
          ]
        }
      ],
      "source": [
        "tuesday_failures = df[(df['week_day'] == 2) & (df['failure'] == 1)]\n",
        "print(tuesday_failures.failure.value_counts())"
      ]
    },
    {
      "cell_type": "code",
      "execution_count": null,
      "id": "8b4698b8-eca7-45e9-93f1-2cdc521e7ce7",
      "metadata": {
        "id": "8b4698b8-eca7-45e9-93f1-2cdc521e7ce7",
        "outputId": "ad11a28b-bdf0-4348-9030-acda1427bced"
      },
      "outputs": [
        {
          "name": "stdout",
          "output_type": "stream",
          "text": [
            "failure\n",
            "1    22\n",
            "Name: count, dtype: int64\n"
          ]
        }
      ],
      "source": [
        "wednesday_failures = df[(df['week_day'] == 3) & (df['failure'] == 1)]\n",
        "print(wednesday_failures.failure.value_counts())"
      ]
    },
    {
      "cell_type": "code",
      "execution_count": null,
      "id": "92ab3440-5711-4b87-b88d-e9db5e84a8c6",
      "metadata": {
        "id": "92ab3440-5711-4b87-b88d-e9db5e84a8c6",
        "outputId": "dd13fb5a-db0f-46ec-9ac4-3241ad06cd76"
      },
      "outputs": [
        {
          "name": "stdout",
          "output_type": "stream",
          "text": [
            "failure\n",
            "1    12\n",
            "Name: count, dtype: int64\n"
          ]
        }
      ],
      "source": [
        "thursday_failures = df[(df['week_day'] == 4) & (df['failure'] == 1)]\n",
        "print(thursday_failures.failure.value_counts())"
      ]
    },
    {
      "cell_type": "code",
      "execution_count": null,
      "id": "4738cc0c-a261-4a36-b06a-cc29b68fa366",
      "metadata": {
        "id": "4738cc0c-a261-4a36-b06a-cc29b68fa366",
        "outputId": "eea31b23-bf77-4851-aedc-1a3878289a34"
      },
      "outputs": [
        {
          "name": "stdout",
          "output_type": "stream",
          "text": [
            "failure\n",
            "1    8\n",
            "Name: count, dtype: int64\n"
          ]
        }
      ],
      "source": [
        "friday_failures = df[(df['week_day'] == 5) & (df['failure'] == 1)]\n",
        "print(friday_failures.failure.value_counts())"
      ]
    },
    {
      "cell_type": "code",
      "execution_count": null,
      "id": "bbd6ab20-b9d1-4d59-8c25-97ff61af10ab",
      "metadata": {
        "id": "bbd6ab20-b9d1-4d59-8c25-97ff61af10ab",
        "outputId": "f6667b9a-da0f-4914-d800-e95155c52568"
      },
      "outputs": [
        {
          "name": "stdout",
          "output_type": "stream",
          "text": [
            "failure\n",
            "1    4\n",
            "Name: count, dtype: int64\n"
          ]
        }
      ],
      "source": [
        "saturday_failures = df[(df['week_day'] == 6) & (df['failure'] == 1)]\n",
        "print(saturday_failures.failure.value_counts())"
      ]
    },
    {
      "cell_type": "code",
      "execution_count": null,
      "id": "dfa3312a-f28e-4af9-848b-b7974a999e54",
      "metadata": {
        "id": "dfa3312a-f28e-4af9-848b-b7974a999e54",
        "outputId": "189c96fa-cbde-40e5-d449-7f7686da6091"
      },
      "outputs": [
        {
          "name": "stdout",
          "output_type": "stream",
          "text": [
            "failure\n",
            "1    27\n",
            "Name: count, dtype: int64\n"
          ]
        }
      ],
      "source": [
        "sunday_failures = df[(df['week_day'] == 7) & (df['failure'] == 1)]\n",
        "print(sunday_failures.failure.value_counts())"
      ]
    },
    {
      "cell_type": "code",
      "execution_count": null,
      "id": "04070fd9-5f99-42ae-b29d-d229350fe282",
      "metadata": {
        "id": "04070fd9-5f99-42ae-b29d-d229350fe282"
      },
      "outputs": [],
      "source": [
        "# From the above it can be seen that most of the devices failed on sunday and less on the saturday"
      ]
    },
    {
      "cell_type": "code",
      "execution_count": null,
      "id": "d57a7f61-8899-47ec-8ea6-6b05fe3d0f00",
      "metadata": {
        "id": "d57a7f61-8899-47ec-8ea6-6b05fe3d0f00",
        "outputId": "01eb0dea-b319-4b93-f068-e1271d5f39a8"
      },
      "outputs": [
        {
          "name": "stderr",
          "output_type": "stream",
          "text": [
            "/home/nabeel/.local/lib/python3.10/site-packages/seaborn/_oldcore.py:1498: FutureWarning: is_categorical_dtype is deprecated and will be removed in a future version. Use isinstance(dtype, CategoricalDtype) instead\n",
            "  if pd.api.types.is_categorical_dtype(vector):\n",
            "/home/nabeel/.local/lib/python3.10/site-packages/seaborn/_oldcore.py:1498: FutureWarning: is_categorical_dtype is deprecated and will be removed in a future version. Use isinstance(dtype, CategoricalDtype) instead\n",
            "  if pd.api.types.is_categorical_dtype(vector):\n",
            "/home/nabeel/.local/lib/python3.10/site-packages/seaborn/_oldcore.py:1498: FutureWarning: is_categorical_dtype is deprecated and will be removed in a future version. Use isinstance(dtype, CategoricalDtype) instead\n",
            "  if pd.api.types.is_categorical_dtype(vector):\n"
          ]
        },
        {
          "data": {
            "image/png": "[encoded data removed]",
            "text/plain": [
              "<Figure size 1000x600 with 1 Axes>"
            ]
          },
          "metadata": {},
          "output_type": "display_data"
        }
      ],
      "source": [
        "plt.figure(figsize=(10, 6))\n",
        "sns.countplot(x='No_of_days_the_device_has_been_active', data=df)\n",
        "plt.xlabel('Number of Active Days')\n",
        "plt.ylabel('Count of Devices')\n",
        "plt.title('Count of Devices by Number of Active Days')\n",
        "plt.show()\n"
      ]
    },
    {
      "cell_type": "code",
      "execution_count": null,
      "id": "e9b8f70a-f9d4-4a31-b987-0935d5f6c5f1",
      "metadata": {
        "id": "e9b8f70a-f9d4-4a31-b987-0935d5f6c5f1",
        "outputId": "d3cb8685-57db-4eca-cd10-26b80a3356b0"
      },
      "outputs": [
        {
          "data": {
            "text/plain": [
              "Timedelta('305 days 00:00:00')"
            ]
          },
          "execution_count": 27,
          "metadata": {},
          "output_type": "execute_result"
        }
      ],
      "source": [
        "df.No_of_days_the_device_has_been_active.max()"
      ]
    },
    {
      "cell_type": "code",
      "execution_count": null,
      "id": "f6675361-6511-4099-8571-6096c6550b38",
      "metadata": {
        "id": "f6675361-6511-4099-8571-6096c6550b38"
      },
      "outputs": [],
      "source": [
        "#From the above plot we can see that there is some introduction of the repaired devices since the count is going up"
      ]
    },
    {
      "cell_type": "code",
      "execution_count": null,
      "id": "fb1ae194-fd39-4fa9-af9d-070276fcb01c",
      "metadata": {
        "id": "fb1ae194-fd39-4fa9-af9d-070276fcb01c",
        "outputId": "04b6aade-6053-450e-c3cf-e0641f47d83d"
      },
      "outputs": [
        {
          "data": {
            "text/plain": [
              "Timestamp('2015-11-02 00:00:00')"
            ]
          },
          "execution_count": 29,
          "metadata": {},
          "output_type": "execute_result"
        }
      ],
      "source": [
        "df.date.max()"
      ]
    },
    {
      "cell_type": "code",
      "execution_count": null,
      "id": "2b01e1e9-db64-4f79-bdb7-2e8127c9a57a",
      "metadata": {
        "id": "2b01e1e9-db64-4f79-bdb7-2e8127c9a57a",
        "outputId": "7c0c7bc1-3dd7-4eea-ea03-624cbd7bca43"
      },
      "outputs": [
        {
          "data": {
            "text/plain": [
              "Timestamp('2015-01-01 00:00:00')"
            ]
          },
          "execution_count": 30,
          "metadata": {},
          "output_type": "execute_result"
        }
      ],
      "source": [
        "df.date.min()"
      ]
    },
    {
      "cell_type": "code",
      "execution_count": null,
      "id": "9c114070-4216-4bbe-96f4-8d4a570052e5",
      "metadata": {
        "id": "9c114070-4216-4bbe-96f4-8d4a570052e5"
      },
      "outputs": [],
      "source": [
        "#Here we can see the samples were collected between January 1,2015 and November 2,2015"
      ]
    },
    {
      "cell_type": "code",
      "execution_count": null,
      "id": "5b5ada66-43c7-4e46-a3c3-32f5df118f16",
      "metadata": {
        "id": "5b5ada66-43c7-4e46-a3c3-32f5df118f16",
        "outputId": "5086d42d-b44f-40a7-95cd-7d6e568e63b7"
      },
      "outputs": [
        {
          "name": "stdout",
          "output_type": "stream",
          "text": [
            "           date    device  failure    metric1  metric2  metric3  metric4  \\\n",
            "0    2015-01-01  S1F01085        0  215630672       56        0       52   \n",
            "1163 2015-01-02  S1F01085        0    1650864       56        0       52   \n",
            "2326 2015-01-03  S1F01085        0  124017368       56        0       52   \n",
            "3489 2015-01-04  S1F01085        0  128073224       56        0       52   \n",
            "4651 2015-01-05  S1F01085        0   97393448       56        0       52   \n",
            "5812 2015-01-06  S1F01085        0  128832128       56        0       52   \n",
            "\n",
            "      metric5  metric6  metric7  metric8  metric9  \\\n",
            "0           6   407438        0        0        7   \n",
            "1163        6   407438        0        0        7   \n",
            "2326        6   407438        0        0        7   \n",
            "3489        6   407439        0        0        7   \n",
            "4651        6   408114        0        0        7   \n",
            "5812        6   409404        0        0        7   \n",
            "\n",
            "     No_of_days_the_device_has_been_active  month  week_day  \n",
            "0                                   0 days      1         3  \n",
            "1163                                1 days      1         4  \n",
            "2326                                2 days      1         5  \n",
            "3489                                3 days      1         6  \n",
            "4651                                4 days      1         7  \n",
            "5812                                5 days      1         1  \n"
          ]
        }
      ],
      "source": [
        "device_name = 'S1F01085'\n",
        "\n",
        "# Filter the DataFrame based on the device name\n",
        "device_data = df[df['device'] == device_name]\n",
        "print(device_data)"
      ]
    },
    {
      "cell_type": "code",
      "execution_count": null,
      "id": "79a6c049-8bb4-46fe-b270-7b399ff898e7",
      "metadata": {
        "id": "79a6c049-8bb4-46fe-b270-7b399ff898e7",
        "outputId": "c5c67908-c301-49e2-82c6-19e19a540312"
      },
      "outputs": [
        {
          "name": "stderr",
          "output_type": "stream",
          "text": [
            "/tmp/ipykernel_78262/362513023.py:1: FutureWarning: The provided callable <built-in function max> is currently using SeriesGroupBy.max. In a future version of pandas, the provided callable will be used directly. To keep current behavior pass the string \"max\" instead.\n",
            "  df_date = df.groupby('device').agg({'date':max})\n"
          ]
        }
      ],
      "source": [
        "df_date = df.groupby('device').agg({'date':max})\n",
        "\n",
        "df_date.date.to_dict()\n",
        "\n",
        "df_failure = df.loc[df.failure==1,['device','date']]\n",
        "\n",
        "df_good = df.loc[df.failure==0,['device','date']]\n",
        "\n",
        "df_date.shape,df_failure.shape\n",
        "\n",
        "df['max_date']=df.device.map(df_date.date.to_dict())\n",
        "\n",
        "#df"
      ]
    },
    {
      "cell_type": "code",
      "execution_count": null,
      "id": "9789bd9e-9608-4218-aa2f-f1075f1d4665",
      "metadata": {
        "id": "9789bd9e-9608-4218-aa2f-f1075f1d4665",
        "outputId": "ab374e33-20dd-48f9-85e6-9d6f37d77c7a"
      },
      "outputs": [
        {
          "data": {
            "text/html": [
              "<div>\n",
              "<style scoped>\n",
              "    .dataframe tbody tr th:only-of-type {\n",
              "        vertical-align: middle;\n",
              "    }\n",
              "\n",
              "    .dataframe tbody tr th {\n",
              "        vertical-align: top;\n",
              "    }\n",
              "\n",
              "    .dataframe thead th {\n",
              "        text-align: right;\n",
              "    }\n",
              "</style>\n",
              "<table border=\"1\" class=\"dataframe\">\n",
              "  <thead>\n",
              "    <tr style=\"text-align: right;\">\n",
              "      <th></th>\n",
              "      <th>date</th>\n",
              "      <th>device</th>\n",
              "      <th>failure</th>\n",
              "      <th>metric1</th>\n",
              "      <th>metric2</th>\n",
              "      <th>metric3</th>\n",
              "      <th>metric4</th>\n",
              "      <th>metric5</th>\n",
              "      <th>metric6</th>\n",
              "      <th>metric7</th>\n",
              "      <th>metric8</th>\n",
              "      <th>metric9</th>\n",
              "      <th>No_of_days_the_device_has_been_active</th>\n",
              "      <th>month</th>\n",
              "      <th>week_day</th>\n",
              "      <th>max_date</th>\n",
              "    </tr>\n",
              "  </thead>\n",
              "  <tbody>\n",
              "    <tr>\n",
              "      <th>77958</th>\n",
              "      <td>2015-05-05</td>\n",
              "      <td>S1F136J0</td>\n",
              "      <td>1</td>\n",
              "      <td>131519808</td>\n",
              "      <td>0</td>\n",
              "      <td>0</td>\n",
              "      <td>25</td>\n",
              "      <td>16</td>\n",
              "      <td>343464</td>\n",
              "      <td>8</td>\n",
              "      <td>8</td>\n",
              "      <td>0</td>\n",
              "      <td>124 days</td>\n",
              "      <td>5</td>\n",
              "      <td>1</td>\n",
              "      <td>2015-05-06</td>\n",
              "    </tr>\n",
              "    <tr>\n",
              "      <th>79590</th>\n",
              "      <td>2015-05-09</td>\n",
              "      <td>W1F0KCP2</td>\n",
              "      <td>1</td>\n",
              "      <td>176861128</td>\n",
              "      <td>10392</td>\n",
              "      <td>0</td>\n",
              "      <td>121</td>\n",
              "      <td>6</td>\n",
              "      <td>310699</td>\n",
              "      <td>0</td>\n",
              "      <td>0</td>\n",
              "      <td>0</td>\n",
              "      <td>128 days</td>\n",
              "      <td>5</td>\n",
              "      <td>5</td>\n",
              "      <td>2015-05-11</td>\n",
              "    </tr>\n",
              "    <tr>\n",
              "      <th>79601</th>\n",
              "      <td>2015-05-09</td>\n",
              "      <td>W1F0M35B</td>\n",
              "      <td>1</td>\n",
              "      <td>141805096</td>\n",
              "      <td>0</td>\n",
              "      <td>0</td>\n",
              "      <td>1</td>\n",
              "      <td>7</td>\n",
              "      <td>267203</td>\n",
              "      <td>0</td>\n",
              "      <td>0</td>\n",
              "      <td>0</td>\n",
              "      <td>128 days</td>\n",
              "      <td>5</td>\n",
              "      <td>5</td>\n",
              "      <td>2015-05-11</td>\n",
              "    </tr>\n",
              "    <tr>\n",
              "      <th>101999</th>\n",
              "      <td>2015-07-12</td>\n",
              "      <td>S1F0GPFZ</td>\n",
              "      <td>1</td>\n",
              "      <td>236544080</td>\n",
              "      <td>0</td>\n",
              "      <td>0</td>\n",
              "      <td>0</td>\n",
              "      <td>9</td>\n",
              "      <td>264594</td>\n",
              "      <td>0</td>\n",
              "      <td>0</td>\n",
              "      <td>0</td>\n",
              "      <td>192 days</td>\n",
              "      <td>7</td>\n",
              "      <td>6</td>\n",
              "      <td>2015-07-24</td>\n",
              "    </tr>\n",
              "    <tr>\n",
              "      <th>104223</th>\n",
              "      <td>2015-07-18</td>\n",
              "      <td>W1F11ZG9</td>\n",
              "      <td>1</td>\n",
              "      <td>32671632</td>\n",
              "      <td>368</td>\n",
              "      <td>9</td>\n",
              "      <td>486</td>\n",
              "      <td>3</td>\n",
              "      <td>344433</td>\n",
              "      <td>0</td>\n",
              "      <td>0</td>\n",
              "      <td>1</td>\n",
              "      <td>198 days</td>\n",
              "      <td>7</td>\n",
              "      <td>5</td>\n",
              "      <td>2015-08-17</td>\n",
              "    </tr>\n",
              "  </tbody>\n",
              "</table>\n",
              "</div>"
            ],
            "text/plain": [
              "             date    device  failure    metric1  metric2  metric3  metric4  \\\n",
              "77958  2015-05-05  S1F136J0        1  131519808        0        0       25   \n",
              "79590  2015-05-09  W1F0KCP2        1  176861128    10392        0      121   \n",
              "79601  2015-05-09  W1F0M35B        1  141805096        0        0        1   \n",
              "101999 2015-07-12  S1F0GPFZ        1  236544080        0        0        0   \n",
              "104223 2015-07-18  W1F11ZG9        1   32671632      368        9      486   \n",
              "\n",
              "        metric5  metric6  metric7  metric8  metric9  \\\n",
              "77958        16   343464        8        8        0   \n",
              "79590         6   310699        0        0        0   \n",
              "79601         7   267203        0        0        0   \n",
              "101999        9   264594        0        0        0   \n",
              "104223        3   344433        0        0        1   \n",
              "\n",
              "       No_of_days_the_device_has_been_active  month  week_day   max_date  \n",
              "77958                               124 days      5         1 2015-05-06  \n",
              "79590                               128 days      5         5 2015-05-11  \n",
              "79601                               128 days      5         5 2015-05-11  \n",
              "101999                              192 days      7         6 2015-07-24  \n",
              "104223                              198 days      7         5 2015-08-17  "
            ]
          },
          "execution_count": 34,
          "metadata": {},
          "output_type": "execute_result"
        }
      ],
      "source": [
        "dff=df[(df.failure==1)&(df.date!=df.max_date)]\n",
        "\n",
        "\n",
        "dff\n",
        "\n"
      ]
    },
    {
      "cell_type": "code",
      "execution_count": null,
      "id": "47c88043-2eb6-4bb4-a5c3-a8000ba6a183",
      "metadata": {
        "id": "47c88043-2eb6-4bb4-a5c3-a8000ba6a183",
        "outputId": "9999ac2d-931b-4660-8a38-504eb7b76f1c"
      },
      "outputs": [
        {
          "name": "stdout",
          "output_type": "stream",
          "text": [
            "device\n",
            "S1F136J0    1\n",
            "W1F0KCP2    1\n",
            "W1F0M35B    1\n",
            "S1F0GPFZ    1\n",
            "W1F11ZG9    1\n",
            "Name: count, dtype: int64\n"
          ]
        }
      ],
      "source": [
        "print(dff.device.value_counts())"
      ]
    },
    {
      "cell_type": "code",
      "execution_count": null,
      "id": "c157a952-bcaa-4409-9f3b-2c05cc061d9c",
      "metadata": {
        "id": "c157a952-bcaa-4409-9f3b-2c05cc061d9c",
        "outputId": "114ebd1f-521c-432c-89cb-5440d97abfa0"
      },
      "outputs": [
        {
          "data": {
            "text/plain": [
              "123877"
            ]
          },
          "execution_count": 36,
          "metadata": {},
          "output_type": "execute_result"
        }
      ],
      "source": [
        "df.metric1.nunique()"
      ]
    },
    {
      "cell_type": "code",
      "execution_count": null,
      "id": "0ea43818-c840-482b-b4aa-2616805bda7c",
      "metadata": {
        "id": "0ea43818-c840-482b-b4aa-2616805bda7c",
        "outputId": "44098b12-b506-45e8-8388-147430f9c97f"
      },
      "outputs": [
        {
          "name": "stderr",
          "output_type": "stream",
          "text": [
            "/tmp/ipykernel_78262/1774015242.py:1: FutureWarning: The provided callable <built-in function max> is currently using SeriesGroupBy.max. In a future version of pandas, the provided callable will be used directly. To keep current behavior pass the string \"max\" instead.\n",
            "  df1 = df.groupby('device').agg({'date':max})\n"
          ]
        }
      ],
      "source": [
        "df1 = df.groupby('device').agg({'date':max})"
      ]
    },
    {
      "cell_type": "code",
      "execution_count": null,
      "id": "3bc39fa1-1c8d-4430-88a0-7906b179212d",
      "metadata": {
        "id": "3bc39fa1-1c8d-4430-88a0-7906b179212d",
        "outputId": "66b6f573-2258-43e8-d56b-38e138316074"
      },
      "outputs": [
        {
          "data": {
            "text/html": [
              "<div>\n",
              "<style scoped>\n",
              "    .dataframe tbody tr th:only-of-type {\n",
              "        vertical-align: middle;\n",
              "    }\n",
              "\n",
              "    .dataframe tbody tr th {\n",
              "        vertical-align: top;\n",
              "    }\n",
              "\n",
              "    .dataframe thead th {\n",
              "        text-align: right;\n",
              "    }\n",
              "</style>\n",
              "<table border=\"1\" class=\"dataframe\">\n",
              "  <thead>\n",
              "    <tr style=\"text-align: right;\">\n",
              "      <th></th>\n",
              "      <th>date</th>\n",
              "      <th>device</th>\n",
              "      <th>failure</th>\n",
              "      <th>metric1</th>\n",
              "      <th>metric2</th>\n",
              "      <th>metric3</th>\n",
              "      <th>metric4</th>\n",
              "      <th>metric5</th>\n",
              "      <th>metric6</th>\n",
              "      <th>metric7</th>\n",
              "      <th>metric8</th>\n",
              "      <th>metric9</th>\n",
              "      <th>No_of_days_the_device_has_been_active</th>\n",
              "      <th>month</th>\n",
              "      <th>week_day</th>\n",
              "      <th>max_date</th>\n",
              "    </tr>\n",
              "  </thead>\n",
              "  <tbody>\n",
              "    <tr>\n",
              "      <th>500</th>\n",
              "      <td>2015-01-01</td>\n",
              "      <td>S1F136J0</td>\n",
              "      <td>0</td>\n",
              "      <td>229928576</td>\n",
              "      <td>0</td>\n",
              "      <td>0</td>\n",
              "      <td>25</td>\n",
              "      <td>16</td>\n",
              "      <td>312312</td>\n",
              "      <td>0</td>\n",
              "      <td>0</td>\n",
              "      <td>0</td>\n",
              "      <td>0 days</td>\n",
              "      <td>1</td>\n",
              "      <td>3</td>\n",
              "      <td>2015-05-06</td>\n",
              "    </tr>\n",
              "    <tr>\n",
              "      <th>1663</th>\n",
              "      <td>2015-01-02</td>\n",
              "      <td>S1F136J0</td>\n",
              "      <td>0</td>\n",
              "      <td>6051808</td>\n",
              "      <td>0</td>\n",
              "      <td>0</td>\n",
              "      <td>25</td>\n",
              "      <td>16</td>\n",
              "      <td>313710</td>\n",
              "      <td>0</td>\n",
              "      <td>0</td>\n",
              "      <td>0</td>\n",
              "      <td>1 days</td>\n",
              "      <td>1</td>\n",
              "      <td>4</td>\n",
              "      <td>2015-05-06</td>\n",
              "    </tr>\n",
              "    <tr>\n",
              "      <th>2826</th>\n",
              "      <td>2015-01-03</td>\n",
              "      <td>S1F136J0</td>\n",
              "      <td>0</td>\n",
              "      <td>29281832</td>\n",
              "      <td>0</td>\n",
              "      <td>0</td>\n",
              "      <td>25</td>\n",
              "      <td>16</td>\n",
              "      <td>315035</td>\n",
              "      <td>0</td>\n",
              "      <td>0</td>\n",
              "      <td>0</td>\n",
              "      <td>2 days</td>\n",
              "      <td>1</td>\n",
              "      <td>5</td>\n",
              "      <td>2015-05-06</td>\n",
              "    </tr>\n",
              "    <tr>\n",
              "      <th>3989</th>\n",
              "      <td>2015-01-04</td>\n",
              "      <td>S1F136J0</td>\n",
              "      <td>0</td>\n",
              "      <td>54942936</td>\n",
              "      <td>0</td>\n",
              "      <td>0</td>\n",
              "      <td>25</td>\n",
              "      <td>16</td>\n",
              "      <td>316364</td>\n",
              "      <td>0</td>\n",
              "      <td>0</td>\n",
              "      <td>0</td>\n",
              "      <td>3 days</td>\n",
              "      <td>1</td>\n",
              "      <td>6</td>\n",
              "      <td>2015-05-06</td>\n",
              "    </tr>\n",
              "    <tr>\n",
              "      <th>5150</th>\n",
              "      <td>2015-01-05</td>\n",
              "      <td>S1F136J0</td>\n",
              "      <td>0</td>\n",
              "      <td>73810232</td>\n",
              "      <td>0</td>\n",
              "      <td>0</td>\n",
              "      <td>25</td>\n",
              "      <td>16</td>\n",
              "      <td>317707</td>\n",
              "      <td>0</td>\n",
              "      <td>0</td>\n",
              "      <td>0</td>\n",
              "      <td>4 days</td>\n",
              "      <td>1</td>\n",
              "      <td>7</td>\n",
              "      <td>2015-05-06</td>\n",
              "    </tr>\n",
              "    <tr>\n",
              "      <th>...</th>\n",
              "      <td>...</td>\n",
              "      <td>...</td>\n",
              "      <td>...</td>\n",
              "      <td>...</td>\n",
              "      <td>...</td>\n",
              "      <td>...</td>\n",
              "      <td>...</td>\n",
              "      <td>...</td>\n",
              "      <td>...</td>\n",
              "      <td>...</td>\n",
              "      <td>...</td>\n",
              "      <td>...</td>\n",
              "      <td>...</td>\n",
              "      <td>...</td>\n",
              "      <td>...</td>\n",
              "      <td>...</td>\n",
              "    </tr>\n",
              "    <tr>\n",
              "      <th>76881</th>\n",
              "      <td>2015-05-02</td>\n",
              "      <td>S1F136J0</td>\n",
              "      <td>0</td>\n",
              "      <td>55535800</td>\n",
              "      <td>0</td>\n",
              "      <td>0</td>\n",
              "      <td>25</td>\n",
              "      <td>16</td>\n",
              "      <td>340161</td>\n",
              "      <td>8</td>\n",
              "      <td>8</td>\n",
              "      <td>0</td>\n",
              "      <td>121 days</td>\n",
              "      <td>5</td>\n",
              "      <td>5</td>\n",
              "      <td>2015-05-06</td>\n",
              "    </tr>\n",
              "    <tr>\n",
              "      <th>77240</th>\n",
              "      <td>2015-05-03</td>\n",
              "      <td>S1F136J0</td>\n",
              "      <td>0</td>\n",
              "      <td>72745992</td>\n",
              "      <td>0</td>\n",
              "      <td>0</td>\n",
              "      <td>25</td>\n",
              "      <td>16</td>\n",
              "      <td>341416</td>\n",
              "      <td>8</td>\n",
              "      <td>8</td>\n",
              "      <td>0</td>\n",
              "      <td>122 days</td>\n",
              "      <td>5</td>\n",
              "      <td>6</td>\n",
              "      <td>2015-05-06</td>\n",
              "    </tr>\n",
              "    <tr>\n",
              "      <th>77599</th>\n",
              "      <td>2015-05-04</td>\n",
              "      <td>S1F136J0</td>\n",
              "      <td>0</td>\n",
              "      <td>81808304</td>\n",
              "      <td>0</td>\n",
              "      <td>0</td>\n",
              "      <td>25</td>\n",
              "      <td>16</td>\n",
              "      <td>342707</td>\n",
              "      <td>8</td>\n",
              "      <td>8</td>\n",
              "      <td>0</td>\n",
              "      <td>123 days</td>\n",
              "      <td>5</td>\n",
              "      <td>7</td>\n",
              "      <td>2015-05-06</td>\n",
              "    </tr>\n",
              "    <tr>\n",
              "      <th>77958</th>\n",
              "      <td>2015-05-05</td>\n",
              "      <td>S1F136J0</td>\n",
              "      <td>1</td>\n",
              "      <td>131519808</td>\n",
              "      <td>0</td>\n",
              "      <td>0</td>\n",
              "      <td>25</td>\n",
              "      <td>16</td>\n",
              "      <td>343464</td>\n",
              "      <td>8</td>\n",
              "      <td>8</td>\n",
              "      <td>0</td>\n",
              "      <td>124 days</td>\n",
              "      <td>5</td>\n",
              "      <td>1</td>\n",
              "      <td>2015-05-06</td>\n",
              "    </tr>\n",
              "    <tr>\n",
              "      <th>78335</th>\n",
              "      <td>2015-05-06</td>\n",
              "      <td>S1F136J0</td>\n",
              "      <td>0</td>\n",
              "      <td>194511456</td>\n",
              "      <td>0</td>\n",
              "      <td>0</td>\n",
              "      <td>28</td>\n",
              "      <td>16</td>\n",
              "      <td>343593</td>\n",
              "      <td>0</td>\n",
              "      <td>0</td>\n",
              "      <td>0</td>\n",
              "      <td>125 days</td>\n",
              "      <td>5</td>\n",
              "      <td>2</td>\n",
              "      <td>2015-05-06</td>\n",
              "    </tr>\n",
              "  </tbody>\n",
              "</table>\n",
              "<p>126 rows × 16 columns</p>\n",
              "</div>"
            ],
            "text/plain": [
              "            date    device  failure    metric1  metric2  metric3  metric4  \\\n",
              "500   2015-01-01  S1F136J0        0  229928576        0        0       25   \n",
              "1663  2015-01-02  S1F136J0        0    6051808        0        0       25   \n",
              "2826  2015-01-03  S1F136J0        0   29281832        0        0       25   \n",
              "3989  2015-01-04  S1F136J0        0   54942936        0        0       25   \n",
              "5150  2015-01-05  S1F136J0        0   73810232        0        0       25   \n",
              "...          ...       ...      ...        ...      ...      ...      ...   \n",
              "76881 2015-05-02  S1F136J0        0   55535800        0        0       25   \n",
              "77240 2015-05-03  S1F136J0        0   72745992        0        0       25   \n",
              "77599 2015-05-04  S1F136J0        0   81808304        0        0       25   \n",
              "77958 2015-05-05  S1F136J0        1  131519808        0        0       25   \n",
              "78335 2015-05-06  S1F136J0        0  194511456        0        0       28   \n",
              "\n",
              "       metric5  metric6  metric7  metric8  metric9  \\\n",
              "500         16   312312        0        0        0   \n",
              "1663        16   313710        0        0        0   \n",
              "2826        16   315035        0        0        0   \n",
              "3989        16   316364        0        0        0   \n",
              "5150        16   317707        0        0        0   \n",
              "...        ...      ...      ...      ...      ...   \n",
              "76881       16   340161        8        8        0   \n",
              "77240       16   341416        8        8        0   \n",
              "77599       16   342707        8        8        0   \n",
              "77958       16   343464        8        8        0   \n",
              "78335       16   343593        0        0        0   \n",
              "\n",
              "      No_of_days_the_device_has_been_active  month  week_day   max_date  \n",
              "500                                  0 days      1         3 2015-05-06  \n",
              "1663                                 1 days      1         4 2015-05-06  \n",
              "2826                                 2 days      1         5 2015-05-06  \n",
              "3989                                 3 days      1         6 2015-05-06  \n",
              "5150                                 4 days      1         7 2015-05-06  \n",
              "...                                     ...    ...       ...        ...  \n",
              "76881                              121 days      5         5 2015-05-06  \n",
              "77240                              122 days      5         6 2015-05-06  \n",
              "77599                              123 days      5         7 2015-05-06  \n",
              "77958                              124 days      5         1 2015-05-06  \n",
              "78335                              125 days      5         2 2015-05-06  \n",
              "\n",
              "[126 rows x 16 columns]"
            ]
          },
          "execution_count": 38,
          "metadata": {},
          "output_type": "execute_result"
        }
      ],
      "source": [
        "df[df['device']== 'S1F136J0']"
      ]
    },
    {
      "cell_type": "code",
      "execution_count": null,
      "id": "e8e62fe0-00c1-4272-996e-4580cb808a3d",
      "metadata": {
        "id": "e8e62fe0-00c1-4272-996e-4580cb808a3d",
        "outputId": "44d19ec9-8499-4b45-d580-4639cef567b5"
      },
      "outputs": [
        {
          "data": {
            "text/plain": [
              "(1169, 16)"
            ]
          },
          "execution_count": 39,
          "metadata": {},
          "output_type": "execute_result"
        }
      ],
      "source": [
        "df1=df1.reset_index()\n",
        "\n",
        "df=df.reset_index(drop=True)\n",
        "\n",
        "df2= pd.merge(df1,df,how='left',on=['device','date'])\n",
        "\n",
        "df2.shape"
      ]
    },
    {
      "cell_type": "code",
      "execution_count": null,
      "id": "87aebce2-13ed-454e-8a06-ee7dc091ecf2",
      "metadata": {
        "id": "87aebce2-13ed-454e-8a06-ee7dc091ecf2",
        "outputId": "a44ccdf3-af4d-4c49-bf68-5bc2921a3c9e"
      },
      "outputs": [
        {
          "data": {
            "text/html": [
              "<div>\n",
              "<style scoped>\n",
              "    .dataframe tbody tr th:only-of-type {\n",
              "        vertical-align: middle;\n",
              "    }\n",
              "\n",
              "    .dataframe tbody tr th {\n",
              "        vertical-align: top;\n",
              "    }\n",
              "\n",
              "    .dataframe thead th {\n",
              "        text-align: right;\n",
              "    }\n",
              "</style>\n",
              "<table border=\"1\" class=\"dataframe\">\n",
              "  <thead>\n",
              "    <tr style=\"text-align: right;\">\n",
              "      <th></th>\n",
              "      <th>device</th>\n",
              "      <th>date</th>\n",
              "      <th>failure</th>\n",
              "      <th>metric1</th>\n",
              "      <th>metric2</th>\n",
              "      <th>metric3</th>\n",
              "      <th>metric4</th>\n",
              "      <th>metric5</th>\n",
              "      <th>metric6</th>\n",
              "      <th>metric7</th>\n",
              "      <th>metric8</th>\n",
              "      <th>metric9</th>\n",
              "      <th>No_of_days_the_device_has_been_active</th>\n",
              "      <th>month</th>\n",
              "      <th>week_day</th>\n",
              "      <th>max_date</th>\n",
              "    </tr>\n",
              "  </thead>\n",
              "  <tbody>\n",
              "    <tr>\n",
              "      <th>0</th>\n",
              "      <td>S1F01085</td>\n",
              "      <td>2015-01-06</td>\n",
              "      <td>0</td>\n",
              "      <td>128832128</td>\n",
              "      <td>56</td>\n",
              "      <td>0</td>\n",
              "      <td>52</td>\n",
              "      <td>6</td>\n",
              "      <td>409404</td>\n",
              "      <td>0</td>\n",
              "      <td>0</td>\n",
              "      <td>7</td>\n",
              "      <td>5 days</td>\n",
              "      <td>1</td>\n",
              "      <td>1</td>\n",
              "      <td>2015-01-06</td>\n",
              "    </tr>\n",
              "    <tr>\n",
              "      <th>1</th>\n",
              "      <td>S1F013BB</td>\n",
              "      <td>2015-05-11</td>\n",
              "      <td>0</td>\n",
              "      <td>115676688</td>\n",
              "      <td>0</td>\n",
              "      <td>0</td>\n",
              "      <td>0</td>\n",
              "      <td>5</td>\n",
              "      <td>689161</td>\n",
              "      <td>0</td>\n",
              "      <td>0</td>\n",
              "      <td>0</td>\n",
              "      <td>130 days</td>\n",
              "      <td>5</td>\n",
              "      <td>7</td>\n",
              "      <td>2015-05-11</td>\n",
              "    </tr>\n",
              "    <tr>\n",
              "      <th>2</th>\n",
              "      <td>S1F0166B</td>\n",
              "      <td>2015-01-06</td>\n",
              "      <td>0</td>\n",
              "      <td>7441792</td>\n",
              "      <td>0</td>\n",
              "      <td>3</td>\n",
              "      <td>0</td>\n",
              "      <td>6</td>\n",
              "      <td>404786</td>\n",
              "      <td>0</td>\n",
              "      <td>0</td>\n",
              "      <td>0</td>\n",
              "      <td>5 days</td>\n",
              "      <td>1</td>\n",
              "      <td>1</td>\n",
              "      <td>2015-01-06</td>\n",
              "    </tr>\n",
              "    <tr>\n",
              "      <th>3</th>\n",
              "      <td>S1F01E6Y</td>\n",
              "      <td>2015-02-17</td>\n",
              "      <td>0</td>\n",
              "      <td>147350000</td>\n",
              "      <td>0</td>\n",
              "      <td>0</td>\n",
              "      <td>0</td>\n",
              "      <td>12</td>\n",
              "      <td>259491</td>\n",
              "      <td>0</td>\n",
              "      <td>0</td>\n",
              "      <td>0</td>\n",
              "      <td>47 days</td>\n",
              "      <td>2</td>\n",
              "      <td>1</td>\n",
              "      <td>2015-02-17</td>\n",
              "    </tr>\n",
              "    <tr>\n",
              "      <th>4</th>\n",
              "      <td>S1F01JE0</td>\n",
              "      <td>2015-01-06</td>\n",
              "      <td>0</td>\n",
              "      <td>185424928</td>\n",
              "      <td>0</td>\n",
              "      <td>0</td>\n",
              "      <td>0</td>\n",
              "      <td>6</td>\n",
              "      <td>412151</td>\n",
              "      <td>0</td>\n",
              "      <td>0</td>\n",
              "      <td>0</td>\n",
              "      <td>5 days</td>\n",
              "      <td>1</td>\n",
              "      <td>1</td>\n",
              "      <td>2015-01-06</td>\n",
              "    </tr>\n",
              "    <tr>\n",
              "      <th>...</th>\n",
              "      <td>...</td>\n",
              "      <td>...</td>\n",
              "      <td>...</td>\n",
              "      <td>...</td>\n",
              "      <td>...</td>\n",
              "      <td>...</td>\n",
              "      <td>...</td>\n",
              "      <td>...</td>\n",
              "      <td>...</td>\n",
              "      <td>...</td>\n",
              "      <td>...</td>\n",
              "      <td>...</td>\n",
              "      <td>...</td>\n",
              "      <td>...</td>\n",
              "      <td>...</td>\n",
              "      <td>...</td>\n",
              "    </tr>\n",
              "    <tr>\n",
              "      <th>1164</th>\n",
              "      <td>Z1F1VMZB</td>\n",
              "      <td>2015-10-19</td>\n",
              "      <td>0</td>\n",
              "      <td>96949360</td>\n",
              "      <td>0</td>\n",
              "      <td>0</td>\n",
              "      <td>0</td>\n",
              "      <td>5</td>\n",
              "      <td>263507</td>\n",
              "      <td>0</td>\n",
              "      <td>0</td>\n",
              "      <td>0</td>\n",
              "      <td>291 days</td>\n",
              "      <td>10</td>\n",
              "      <td>7</td>\n",
              "      <td>2015-10-19</td>\n",
              "    </tr>\n",
              "    <tr>\n",
              "      <th>1165</th>\n",
              "      <td>Z1F1VQFY</td>\n",
              "      <td>2015-06-30</td>\n",
              "      <td>1</td>\n",
              "      <td>178051496</td>\n",
              "      <td>0</td>\n",
              "      <td>0</td>\n",
              "      <td>0</td>\n",
              "      <td>7</td>\n",
              "      <td>265316</td>\n",
              "      <td>0</td>\n",
              "      <td>0</td>\n",
              "      <td>0</td>\n",
              "      <td>180 days</td>\n",
              "      <td>6</td>\n",
              "      <td>1</td>\n",
              "      <td>2015-06-30</td>\n",
              "    </tr>\n",
              "    <tr>\n",
              "      <th>1166</th>\n",
              "      <td>Z1F26YZB</td>\n",
              "      <td>2015-03-25</td>\n",
              "      <td>0</td>\n",
              "      <td>229065488</td>\n",
              "      <td>0</td>\n",
              "      <td>1</td>\n",
              "      <td>0</td>\n",
              "      <td>1</td>\n",
              "      <td>292052</td>\n",
              "      <td>0</td>\n",
              "      <td>0</td>\n",
              "      <td>0</td>\n",
              "      <td>83 days</td>\n",
              "      <td>3</td>\n",
              "      <td>2</td>\n",
              "      <td>2015-03-25</td>\n",
              "    </tr>\n",
              "    <tr>\n",
              "      <th>1167</th>\n",
              "      <td>Z1F282ZV</td>\n",
              "      <td>2015-03-25</td>\n",
              "      <td>0</td>\n",
              "      <td>72717600</td>\n",
              "      <td>0</td>\n",
              "      <td>1</td>\n",
              "      <td>0</td>\n",
              "      <td>1</td>\n",
              "      <td>192919</td>\n",
              "      <td>0</td>\n",
              "      <td>0</td>\n",
              "      <td>0</td>\n",
              "      <td>83 days</td>\n",
              "      <td>3</td>\n",
              "      <td>2</td>\n",
              "      <td>2015-03-25</td>\n",
              "    </tr>\n",
              "    <tr>\n",
              "      <th>1168</th>\n",
              "      <td>Z1F2PBHX</td>\n",
              "      <td>2015-04-06</td>\n",
              "      <td>0</td>\n",
              "      <td>130522432</td>\n",
              "      <td>0</td>\n",
              "      <td>0</td>\n",
              "      <td>0</td>\n",
              "      <td>5</td>\n",
              "      <td>164020</td>\n",
              "      <td>0</td>\n",
              "      <td>0</td>\n",
              "      <td>0</td>\n",
              "      <td>95 days</td>\n",
              "      <td>4</td>\n",
              "      <td>7</td>\n",
              "      <td>2015-04-06</td>\n",
              "    </tr>\n",
              "  </tbody>\n",
              "</table>\n",
              "<p>1169 rows × 16 columns</p>\n",
              "</div>"
            ],
            "text/plain": [
              "        device       date  failure    metric1  metric2  metric3  metric4  \\\n",
              "0     S1F01085 2015-01-06        0  128832128       56        0       52   \n",
              "1     S1F013BB 2015-05-11        0  115676688        0        0        0   \n",
              "2     S1F0166B 2015-01-06        0    7441792        0        3        0   \n",
              "3     S1F01E6Y 2015-02-17        0  147350000        0        0        0   \n",
              "4     S1F01JE0 2015-01-06        0  185424928        0        0        0   \n",
              "...        ...        ...      ...        ...      ...      ...      ...   \n",
              "1164  Z1F1VMZB 2015-10-19        0   96949360        0        0        0   \n",
              "1165  Z1F1VQFY 2015-06-30        1  178051496        0        0        0   \n",
              "1166  Z1F26YZB 2015-03-25        0  229065488        0        1        0   \n",
              "1167  Z1F282ZV 2015-03-25        0   72717600        0        1        0   \n",
              "1168  Z1F2PBHX 2015-04-06        0  130522432        0        0        0   \n",
              "\n",
              "      metric5  metric6  metric7  metric8  metric9  \\\n",
              "0           6   409404        0        0        7   \n",
              "1           5   689161        0        0        0   \n",
              "2           6   404786        0        0        0   \n",
              "3          12   259491        0        0        0   \n",
              "4           6   412151        0        0        0   \n",
              "...       ...      ...      ...      ...      ...   \n",
              "1164        5   263507        0        0        0   \n",
              "1165        7   265316        0        0        0   \n",
              "1166        1   292052        0        0        0   \n",
              "1167        1   192919        0        0        0   \n",
              "1168        5   164020        0        0        0   \n",
              "\n",
              "     No_of_days_the_device_has_been_active  month  week_day   max_date  \n",
              "0                                   5 days      1         1 2015-01-06  \n",
              "1                                 130 days      5         7 2015-05-11  \n",
              "2                                   5 days      1         1 2015-01-06  \n",
              "3                                  47 days      2         1 2015-02-17  \n",
              "4                                   5 days      1         1 2015-01-06  \n",
              "...                                    ...    ...       ...        ...  \n",
              "1164                              291 days     10         7 2015-10-19  \n",
              "1165                              180 days      6         1 2015-06-30  \n",
              "1166                               83 days      3         2 2015-03-25  \n",
              "1167                               83 days      3         2 2015-03-25  \n",
              "1168                               95 days      4         7 2015-04-06  \n",
              "\n",
              "[1169 rows x 16 columns]"
            ]
          },
          "execution_count": 40,
          "metadata": {},
          "output_type": "execute_result"
        }
      ],
      "source": [
        "df2"
      ]
    },
    {
      "cell_type": "code",
      "execution_count": null,
      "id": "495ce978-77d0-4ffe-abbc-2a46a7206085",
      "metadata": {
        "id": "495ce978-77d0-4ffe-abbc-2a46a7206085"
      },
      "outputs": [],
      "source": [
        "df2['failure_before']=0\n",
        " # devices features\n",
        "\n",
        "df2['sector'] = df2['device'].str[:4]\n",
        "df2['equipment'] = df2['device'].str[4:]\n",
        "\n"
      ]
    },
    {
      "cell_type": "code",
      "execution_count": null,
      "id": "ae0b555e-9408-42e4-8fdf-cf5cb456a2dc",
      "metadata": {
        "id": "ae0b555e-9408-42e4-8fdf-cf5cb456a2dc",
        "outputId": "66c31aa7-a2e6-4ddb-c0a4-8d7f16d025c6"
      },
      "outputs": [
        {
          "data": {
            "text/html": [
              "<div>\n",
              "<style scoped>\n",
              "    .dataframe tbody tr th:only-of-type {\n",
              "        vertical-align: middle;\n",
              "    }\n",
              "\n",
              "    .dataframe tbody tr th {\n",
              "        vertical-align: top;\n",
              "    }\n",
              "\n",
              "    .dataframe thead th {\n",
              "        text-align: right;\n",
              "    }\n",
              "</style>\n",
              "<table border=\"1\" class=\"dataframe\">\n",
              "  <thead>\n",
              "    <tr style=\"text-align: right;\">\n",
              "      <th></th>\n",
              "      <th>device</th>\n",
              "      <th>date</th>\n",
              "      <th>failure</th>\n",
              "      <th>metric1</th>\n",
              "      <th>metric2</th>\n",
              "      <th>metric3</th>\n",
              "      <th>metric4</th>\n",
              "      <th>metric5</th>\n",
              "      <th>metric6</th>\n",
              "      <th>metric7</th>\n",
              "      <th>metric8</th>\n",
              "      <th>metric9</th>\n",
              "      <th>No_of_days_the_device_has_been_active</th>\n",
              "      <th>month</th>\n",
              "      <th>week_day</th>\n",
              "      <th>max_date</th>\n",
              "      <th>failure_before</th>\n",
              "      <th>sector</th>\n",
              "      <th>equipment</th>\n",
              "    </tr>\n",
              "  </thead>\n",
              "  <tbody>\n",
              "    <tr>\n",
              "      <th>0</th>\n",
              "      <td>S1F01085</td>\n",
              "      <td>2015-01-06</td>\n",
              "      <td>0</td>\n",
              "      <td>128832128</td>\n",
              "      <td>56</td>\n",
              "      <td>0</td>\n",
              "      <td>52</td>\n",
              "      <td>6</td>\n",
              "      <td>409404</td>\n",
              "      <td>0</td>\n",
              "      <td>0</td>\n",
              "      <td>7</td>\n",
              "      <td>5 days</td>\n",
              "      <td>1</td>\n",
              "      <td>1</td>\n",
              "      <td>2015-01-06</td>\n",
              "      <td>0</td>\n",
              "      <td>S1F0</td>\n",
              "      <td>1085</td>\n",
              "    </tr>\n",
              "    <tr>\n",
              "      <th>1</th>\n",
              "      <td>S1F013BB</td>\n",
              "      <td>2015-05-11</td>\n",
              "      <td>0</td>\n",
              "      <td>115676688</td>\n",
              "      <td>0</td>\n",
              "      <td>0</td>\n",
              "      <td>0</td>\n",
              "      <td>5</td>\n",
              "      <td>689161</td>\n",
              "      <td>0</td>\n",
              "      <td>0</td>\n",
              "      <td>0</td>\n",
              "      <td>130 days</td>\n",
              "      <td>5</td>\n",
              "      <td>7</td>\n",
              "      <td>2015-05-11</td>\n",
              "      <td>0</td>\n",
              "      <td>S1F0</td>\n",
              "      <td>13BB</td>\n",
              "    </tr>\n",
              "    <tr>\n",
              "      <th>2</th>\n",
              "      <td>S1F0166B</td>\n",
              "      <td>2015-01-06</td>\n",
              "      <td>0</td>\n",
              "      <td>7441792</td>\n",
              "      <td>0</td>\n",
              "      <td>3</td>\n",
              "      <td>0</td>\n",
              "      <td>6</td>\n",
              "      <td>404786</td>\n",
              "      <td>0</td>\n",
              "      <td>0</td>\n",
              "      <td>0</td>\n",
              "      <td>5 days</td>\n",
              "      <td>1</td>\n",
              "      <td>1</td>\n",
              "      <td>2015-01-06</td>\n",
              "      <td>0</td>\n",
              "      <td>S1F0</td>\n",
              "      <td>166B</td>\n",
              "    </tr>\n",
              "    <tr>\n",
              "      <th>3</th>\n",
              "      <td>S1F01E6Y</td>\n",
              "      <td>2015-02-17</td>\n",
              "      <td>0</td>\n",
              "      <td>147350000</td>\n",
              "      <td>0</td>\n",
              "      <td>0</td>\n",
              "      <td>0</td>\n",
              "      <td>12</td>\n",
              "      <td>259491</td>\n",
              "      <td>0</td>\n",
              "      <td>0</td>\n",
              "      <td>0</td>\n",
              "      <td>47 days</td>\n",
              "      <td>2</td>\n",
              "      <td>1</td>\n",
              "      <td>2015-02-17</td>\n",
              "      <td>0</td>\n",
              "      <td>S1F0</td>\n",
              "      <td>1E6Y</td>\n",
              "    </tr>\n",
              "    <tr>\n",
              "      <th>4</th>\n",
              "      <td>S1F01JE0</td>\n",
              "      <td>2015-01-06</td>\n",
              "      <td>0</td>\n",
              "      <td>185424928</td>\n",
              "      <td>0</td>\n",
              "      <td>0</td>\n",
              "      <td>0</td>\n",
              "      <td>6</td>\n",
              "      <td>412151</td>\n",
              "      <td>0</td>\n",
              "      <td>0</td>\n",
              "      <td>0</td>\n",
              "      <td>5 days</td>\n",
              "      <td>1</td>\n",
              "      <td>1</td>\n",
              "      <td>2015-01-06</td>\n",
              "      <td>0</td>\n",
              "      <td>S1F0</td>\n",
              "      <td>1JE0</td>\n",
              "    </tr>\n",
              "  </tbody>\n",
              "</table>\n",
              "</div>"
            ],
            "text/plain": [
              "     device       date  failure    metric1  metric2  metric3  metric4  \\\n",
              "0  S1F01085 2015-01-06        0  128832128       56        0       52   \n",
              "1  S1F013BB 2015-05-11        0  115676688        0        0        0   \n",
              "2  S1F0166B 2015-01-06        0    7441792        0        3        0   \n",
              "3  S1F01E6Y 2015-02-17        0  147350000        0        0        0   \n",
              "4  S1F01JE0 2015-01-06        0  185424928        0        0        0   \n",
              "\n",
              "   metric5  metric6  metric7  metric8  metric9  \\\n",
              "0        6   409404        0        0        7   \n",
              "1        5   689161        0        0        0   \n",
              "2        6   404786        0        0        0   \n",
              "3       12   259491        0        0        0   \n",
              "4        6   412151        0        0        0   \n",
              "\n",
              "  No_of_days_the_device_has_been_active  month  week_day   max_date  \\\n",
              "0                                5 days      1         1 2015-01-06   \n",
              "1                              130 days      5         7 2015-05-11   \n",
              "2                                5 days      1         1 2015-01-06   \n",
              "3                               47 days      2         1 2015-02-17   \n",
              "4                                5 days      1         1 2015-01-06   \n",
              "\n",
              "   failure_before sector equipment  \n",
              "0               0   S1F0      1085  \n",
              "1               0   S1F0      13BB  \n",
              "2               0   S1F0      166B  \n",
              "3               0   S1F0      1E6Y  \n",
              "4               0   S1F0      1JE0  "
            ]
          },
          "execution_count": 42,
          "metadata": {},
          "output_type": "execute_result"
        }
      ],
      "source": [
        "df2.head()"
      ]
    },
    {
      "cell_type": "code",
      "execution_count": null,
      "id": "c0fb672f-3872-4700-bdfc-922feddc10fc",
      "metadata": {
        "id": "c0fb672f-3872-4700-bdfc-922feddc10fc"
      },
      "outputs": [],
      "source": [
        "# Now assinging the failure_before value to all those 5 devices that failed and then were introduced after repair\n",
        "# Those devices were:\n",
        "                     # S1F136J0    1\n",
        "                     # W1F0KCP2    1\n",
        "                     # W1F0M35B    1\n",
        "                     # S1F0GPFZ    1\n",
        "                     # W1F11ZG9    1"
      ]
    },
    {
      "cell_type": "code",
      "execution_count": null,
      "id": "9833bbde-0d5a-4176-822b-634cbf29ea08",
      "metadata": {
        "id": "9833bbde-0d5a-4176-822b-634cbf29ea08"
      },
      "outputs": [],
      "source": [
        "devices_to_flag = ['S1F136J0', 'W1F0KCP2', 'W1F0M35B', 'S1F0GPFZ', 'W1F11ZG9']\n",
        "for device in devices_to_flag:\n",
        "    df2.loc[df2.device == device,'failure_before'] = 1\n",
        "\n"
      ]
    },
    {
      "cell_type": "code",
      "execution_count": null,
      "id": "46e18791-5309-40ca-8b11-f22f9d7e9965",
      "metadata": {
        "id": "46e18791-5309-40ca-8b11-f22f9d7e9965",
        "outputId": "5d93bb5c-c480-440b-abcc-28d52a905230"
      },
      "outputs": [
        {
          "data": {
            "text/html": [
              "<div>\n",
              "<style scoped>\n",
              "    .dataframe tbody tr th:only-of-type {\n",
              "        vertical-align: middle;\n",
              "    }\n",
              "\n",
              "    .dataframe tbody tr th {\n",
              "        vertical-align: top;\n",
              "    }\n",
              "\n",
              "    .dataframe thead th {\n",
              "        text-align: right;\n",
              "    }\n",
              "</style>\n",
              "<table border=\"1\" class=\"dataframe\">\n",
              "  <thead>\n",
              "    <tr style=\"text-align: right;\">\n",
              "      <th></th>\n",
              "      <th>device</th>\n",
              "      <th>date</th>\n",
              "      <th>failure</th>\n",
              "      <th>metric1</th>\n",
              "      <th>metric2</th>\n",
              "      <th>metric3</th>\n",
              "      <th>metric4</th>\n",
              "      <th>metric5</th>\n",
              "      <th>metric6</th>\n",
              "      <th>metric7</th>\n",
              "      <th>metric8</th>\n",
              "      <th>metric9</th>\n",
              "      <th>No_of_days_the_device_has_been_active</th>\n",
              "      <th>month</th>\n",
              "      <th>week_day</th>\n",
              "      <th>max_date</th>\n",
              "      <th>failure_before</th>\n",
              "      <th>sector</th>\n",
              "      <th>equipment</th>\n",
              "    </tr>\n",
              "  </thead>\n",
              "  <tbody>\n",
              "    <tr>\n",
              "      <th>599</th>\n",
              "      <td>W1F0KCP2</td>\n",
              "      <td>2015-05-11</td>\n",
              "      <td>0</td>\n",
              "      <td>140419256</td>\n",
              "      <td>10440</td>\n",
              "      <td>0</td>\n",
              "      <td>121</td>\n",
              "      <td>6</td>\n",
              "      <td>310801</td>\n",
              "      <td>0</td>\n",
              "      <td>0</td>\n",
              "      <td>0</td>\n",
              "      <td>130 days</td>\n",
              "      <td>5</td>\n",
              "      <td>7</td>\n",
              "      <td>2015-05-11</td>\n",
              "      <td>1</td>\n",
              "      <td>W1F0</td>\n",
              "      <td>KCP2</td>\n",
              "    </tr>\n",
              "  </tbody>\n",
              "</table>\n",
              "</div>"
            ],
            "text/plain": [
              "       device       date  failure    metric1  metric2  metric3  metric4  \\\n",
              "599  W1F0KCP2 2015-05-11        0  140419256    10440        0      121   \n",
              "\n",
              "     metric5  metric6  metric7  metric8  metric9  \\\n",
              "599        6   310801        0        0        0   \n",
              "\n",
              "    No_of_days_the_device_has_been_active  month  week_day   max_date  \\\n",
              "599                              130 days      5         7 2015-05-11   \n",
              "\n",
              "     failure_before sector equipment  \n",
              "599               1   W1F0      KCP2  "
            ]
          },
          "execution_count": 45,
          "metadata": {},
          "output_type": "execute_result"
        }
      ],
      "source": [
        "df2[df2['device']=='W1F0KCP2']"
      ]
    },
    {
      "cell_type": "code",
      "execution_count": null,
      "id": "6780e268-f360-4e71-a3ff-3399efe89a06",
      "metadata": {
        "id": "6780e268-f360-4e71-a3ff-3399efe89a06",
        "outputId": "bbadf679-829a-4f7f-e72d-fc31909fa645"
      },
      "outputs": [
        {
          "data": {
            "text/plain": [
              "0       S1F01085\n",
              "1       S1F013BB\n",
              "2       S1F0166B\n",
              "3       S1F01E6Y\n",
              "4       S1F01JE0\n",
              "          ...   \n",
              "1164    Z1F1VMZB\n",
              "1165    Z1F1VQFY\n",
              "1166    Z1F26YZB\n",
              "1167    Z1F282ZV\n",
              "1168    Z1F2PBHX\n",
              "Name: device, Length: 1169, dtype: object"
            ]
          },
          "execution_count": 46,
          "metadata": {},
          "output_type": "execute_result"
        }
      ],
      "source": [
        "df2.device\n"
      ]
    },
    {
      "cell_type": "code",
      "execution_count": null,
      "id": "f181e790-0efb-4ddb-85bd-c786f9fa570f",
      "metadata": {
        "id": "f181e790-0efb-4ddb-85bd-c786f9fa570f",
        "outputId": "af94120e-3af7-4d02-c88d-b0e3bff227e0"
      },
      "outputs": [
        {
          "data": {
            "text/plain": [
              "device\n",
              "S1F0    391\n",
              "W1F0    282\n",
              "Z1F0    149\n",
              "S1F1    139\n",
              "W1F1    138\n",
              "Z1F1     67\n",
              "Z1F2      3\n",
              "Name: count, dtype: int64"
            ]
          },
          "execution_count": 47,
          "metadata": {},
          "output_type": "execute_result"
        }
      ],
      "source": [
        "#Now analyzing the type of device based on the first four characters of the device name\n",
        "ID = df2.device.values.tolist()\n",
        "\n",
        "ID_real=[]\n",
        "\n",
        "for i in ID:\n",
        "\n",
        "    i=i[:4]\n",
        "    ID_real.append(i)\n",
        "\n",
        "df2.device=ID_real\n",
        "\n",
        "df2.device.value_counts()\n",
        "\n"
      ]
    },
    {
      "cell_type": "code",
      "execution_count": null,
      "id": "5fe70223-1cf3-4ce5-ad20-d91b27acfbde",
      "metadata": {
        "id": "5fe70223-1cf3-4ce5-ad20-d91b27acfbde",
        "outputId": "dbd86a4a-2bf1-4e1c-9663-741522681223"
      },
      "outputs": [
        {
          "data": {
            "image/png": "[encoded data removed]",
            "text/plain": [
              "<Figure size 640x480 with 1 Axes>"
            ]
          },
          "metadata": {},
          "output_type": "display_data"
        }
      ],
      "source": [
        "# Grouping and normalizing\n",
        "normalized_dev = df2.groupby('device')['failure'].value_counts(normalize=True).unstack()\n",
        "\n",
        "# Plotting\n",
        "normalized_dev.plot(kind='bar', stacked=True)\n",
        "plt.show()"
      ]
    },
    {
      "cell_type": "code",
      "execution_count": null,
      "id": "143a88a7-3e91-465d-b95c-376fd9d2764e",
      "metadata": {
        "id": "143a88a7-3e91-465d-b95c-376fd9d2764e"
      },
      "outputs": [],
      "source": [
        "# From the above graph it can be seen that the devices which fail the least starts with \"Z1F2\" and which fails the most with \"Z1F1\"\n"
      ]
    },
    {
      "cell_type": "code",
      "execution_count": null,
      "id": "7185a704-e7cc-4ca6-9c32-7e8c86acc66e",
      "metadata": {
        "id": "7185a704-e7cc-4ca6-9c32-7e8c86acc66e",
        "outputId": "ac19017a-c0db-4266-bfcb-cf4ed75d9187"
      },
      "outputs": [
        {
          "data": {
            "text/html": [
              "<div>\n",
              "<style scoped>\n",
              "    .dataframe tbody tr th:only-of-type {\n",
              "        vertical-align: middle;\n",
              "    }\n",
              "\n",
              "    .dataframe tbody tr th {\n",
              "        vertical-align: top;\n",
              "    }\n",
              "\n",
              "    .dataframe thead th {\n",
              "        text-align: right;\n",
              "    }\n",
              "</style>\n",
              "<table border=\"1\" class=\"dataframe\">\n",
              "  <thead>\n",
              "    <tr style=\"text-align: right;\">\n",
              "      <th></th>\n",
              "      <th>date</th>\n",
              "      <th>device</th>\n",
              "      <th>failure</th>\n",
              "      <th>metric1</th>\n",
              "      <th>metric2</th>\n",
              "      <th>metric3</th>\n",
              "      <th>metric4</th>\n",
              "      <th>metric5</th>\n",
              "      <th>metric6</th>\n",
              "      <th>metric7</th>\n",
              "      <th>metric8</th>\n",
              "      <th>metric9</th>\n",
              "      <th>No_of_days_the_device_has_been_active</th>\n",
              "      <th>month</th>\n",
              "      <th>week_day</th>\n",
              "      <th>max_date</th>\n",
              "    </tr>\n",
              "  </thead>\n",
              "  <tbody>\n",
              "    <tr>\n",
              "      <th>0</th>\n",
              "      <td>2015-01-01</td>\n",
              "      <td>S1F01085</td>\n",
              "      <td>0</td>\n",
              "      <td>215630672</td>\n",
              "      <td>56</td>\n",
              "      <td>0</td>\n",
              "      <td>52</td>\n",
              "      <td>6</td>\n",
              "      <td>407438</td>\n",
              "      <td>0</td>\n",
              "      <td>0</td>\n",
              "      <td>7</td>\n",
              "      <td>0 days</td>\n",
              "      <td>1</td>\n",
              "      <td>3</td>\n",
              "      <td>2015-01-06</td>\n",
              "    </tr>\n",
              "    <tr>\n",
              "      <th>1</th>\n",
              "      <td>2015-01-01</td>\n",
              "      <td>S1F0166B</td>\n",
              "      <td>0</td>\n",
              "      <td>61370680</td>\n",
              "      <td>0</td>\n",
              "      <td>3</td>\n",
              "      <td>0</td>\n",
              "      <td>6</td>\n",
              "      <td>403174</td>\n",
              "      <td>0</td>\n",
              "      <td>0</td>\n",
              "      <td>0</td>\n",
              "      <td>0 days</td>\n",
              "      <td>1</td>\n",
              "      <td>3</td>\n",
              "      <td>2015-01-06</td>\n",
              "    </tr>\n",
              "    <tr>\n",
              "      <th>2</th>\n",
              "      <td>2015-01-01</td>\n",
              "      <td>S1F01E6Y</td>\n",
              "      <td>0</td>\n",
              "      <td>173295968</td>\n",
              "      <td>0</td>\n",
              "      <td>0</td>\n",
              "      <td>0</td>\n",
              "      <td>12</td>\n",
              "      <td>237394</td>\n",
              "      <td>0</td>\n",
              "      <td>0</td>\n",
              "      <td>0</td>\n",
              "      <td>0 days</td>\n",
              "      <td>1</td>\n",
              "      <td>3</td>\n",
              "      <td>2015-02-17</td>\n",
              "    </tr>\n",
              "    <tr>\n",
              "      <th>3</th>\n",
              "      <td>2015-01-01</td>\n",
              "      <td>S1F01JE0</td>\n",
              "      <td>0</td>\n",
              "      <td>79694024</td>\n",
              "      <td>0</td>\n",
              "      <td>0</td>\n",
              "      <td>0</td>\n",
              "      <td>6</td>\n",
              "      <td>410186</td>\n",
              "      <td>0</td>\n",
              "      <td>0</td>\n",
              "      <td>0</td>\n",
              "      <td>0 days</td>\n",
              "      <td>1</td>\n",
              "      <td>3</td>\n",
              "      <td>2015-01-06</td>\n",
              "    </tr>\n",
              "    <tr>\n",
              "      <th>4</th>\n",
              "      <td>2015-01-01</td>\n",
              "      <td>S1F01R2B</td>\n",
              "      <td>0</td>\n",
              "      <td>135970480</td>\n",
              "      <td>0</td>\n",
              "      <td>0</td>\n",
              "      <td>0</td>\n",
              "      <td>15</td>\n",
              "      <td>313173</td>\n",
              "      <td>0</td>\n",
              "      <td>0</td>\n",
              "      <td>3</td>\n",
              "      <td>0 days</td>\n",
              "      <td>1</td>\n",
              "      <td>3</td>\n",
              "      <td>2015-08-24</td>\n",
              "    </tr>\n",
              "    <tr>\n",
              "      <th>...</th>\n",
              "      <td>...</td>\n",
              "      <td>...</td>\n",
              "      <td>...</td>\n",
              "      <td>...</td>\n",
              "      <td>...</td>\n",
              "      <td>...</td>\n",
              "      <td>...</td>\n",
              "      <td>...</td>\n",
              "      <td>...</td>\n",
              "      <td>...</td>\n",
              "      <td>...</td>\n",
              "      <td>...</td>\n",
              "      <td>...</td>\n",
              "      <td>...</td>\n",
              "      <td>...</td>\n",
              "      <td>...</td>\n",
              "    </tr>\n",
              "    <tr>\n",
              "      <th>124489</th>\n",
              "      <td>2015-11-02</td>\n",
              "      <td>Z1F0MA1S</td>\n",
              "      <td>0</td>\n",
              "      <td>18310224</td>\n",
              "      <td>0</td>\n",
              "      <td>0</td>\n",
              "      <td>0</td>\n",
              "      <td>10</td>\n",
              "      <td>353705</td>\n",
              "      <td>8</td>\n",
              "      <td>8</td>\n",
              "      <td>0</td>\n",
              "      <td>305 days</td>\n",
              "      <td>11</td>\n",
              "      <td>7</td>\n",
              "      <td>2015-11-02</td>\n",
              "    </tr>\n",
              "    <tr>\n",
              "      <th>124490</th>\n",
              "      <td>2015-11-02</td>\n",
              "      <td>Z1F0Q8RT</td>\n",
              "      <td>0</td>\n",
              "      <td>172556680</td>\n",
              "      <td>96</td>\n",
              "      <td>107</td>\n",
              "      <td>4</td>\n",
              "      <td>11</td>\n",
              "      <td>332792</td>\n",
              "      <td>0</td>\n",
              "      <td>0</td>\n",
              "      <td>13</td>\n",
              "      <td>305 days</td>\n",
              "      <td>11</td>\n",
              "      <td>7</td>\n",
              "      <td>2015-11-02</td>\n",
              "    </tr>\n",
              "    <tr>\n",
              "      <th>124491</th>\n",
              "      <td>2015-11-02</td>\n",
              "      <td>Z1F0QK05</td>\n",
              "      <td>0</td>\n",
              "      <td>19029120</td>\n",
              "      <td>4832</td>\n",
              "      <td>0</td>\n",
              "      <td>0</td>\n",
              "      <td>11</td>\n",
              "      <td>350410</td>\n",
              "      <td>0</td>\n",
              "      <td>0</td>\n",
              "      <td>0</td>\n",
              "      <td>305 days</td>\n",
              "      <td>11</td>\n",
              "      <td>7</td>\n",
              "      <td>2015-11-02</td>\n",
              "    </tr>\n",
              "    <tr>\n",
              "      <th>124492</th>\n",
              "      <td>2015-11-02</td>\n",
              "      <td>Z1F0QL3N</td>\n",
              "      <td>0</td>\n",
              "      <td>226953408</td>\n",
              "      <td>0</td>\n",
              "      <td>0</td>\n",
              "      <td>0</td>\n",
              "      <td>12</td>\n",
              "      <td>358980</td>\n",
              "      <td>0</td>\n",
              "      <td>0</td>\n",
              "      <td>0</td>\n",
              "      <td>305 days</td>\n",
              "      <td>11</td>\n",
              "      <td>7</td>\n",
              "      <td>2015-11-02</td>\n",
              "    </tr>\n",
              "    <tr>\n",
              "      <th>124493</th>\n",
              "      <td>2015-11-02</td>\n",
              "      <td>Z1F0QLC1</td>\n",
              "      <td>0</td>\n",
              "      <td>17572840</td>\n",
              "      <td>0</td>\n",
              "      <td>0</td>\n",
              "      <td>0</td>\n",
              "      <td>10</td>\n",
              "      <td>351431</td>\n",
              "      <td>0</td>\n",
              "      <td>0</td>\n",
              "      <td>0</td>\n",
              "      <td>305 days</td>\n",
              "      <td>11</td>\n",
              "      <td>7</td>\n",
              "      <td>2015-11-02</td>\n",
              "    </tr>\n",
              "  </tbody>\n",
              "</table>\n",
              "<p>124494 rows × 16 columns</p>\n",
              "</div>"
            ],
            "text/plain": [
              "             date    device  failure    metric1  metric2  metric3  metric4  \\\n",
              "0      2015-01-01  S1F01085        0  215630672       56        0       52   \n",
              "1      2015-01-01  S1F0166B        0   61370680        0        3        0   \n",
              "2      2015-01-01  S1F01E6Y        0  173295968        0        0        0   \n",
              "3      2015-01-01  S1F01JE0        0   79694024        0        0        0   \n",
              "4      2015-01-01  S1F01R2B        0  135970480        0        0        0   \n",
              "...           ...       ...      ...        ...      ...      ...      ...   \n",
              "124489 2015-11-02  Z1F0MA1S        0   18310224        0        0        0   \n",
              "124490 2015-11-02  Z1F0Q8RT        0  172556680       96      107        4   \n",
              "124491 2015-11-02  Z1F0QK05        0   19029120     4832        0        0   \n",
              "124492 2015-11-02  Z1F0QL3N        0  226953408        0        0        0   \n",
              "124493 2015-11-02  Z1F0QLC1        0   17572840        0        0        0   \n",
              "\n",
              "        metric5  metric6  metric7  metric8  metric9  \\\n",
              "0             6   407438        0        0        7   \n",
              "1             6   403174        0        0        0   \n",
              "2            12   237394        0        0        0   \n",
              "3             6   410186        0        0        0   \n",
              "4            15   313173        0        0        3   \n",
              "...         ...      ...      ...      ...      ...   \n",
              "124489       10   353705        8        8        0   \n",
              "124490       11   332792        0        0       13   \n",
              "124491       11   350410        0        0        0   \n",
              "124492       12   358980        0        0        0   \n",
              "124493       10   351431        0        0        0   \n",
              "\n",
              "       No_of_days_the_device_has_been_active  month  week_day   max_date  \n",
              "0                                     0 days      1         3 2015-01-06  \n",
              "1                                     0 days      1         3 2015-01-06  \n",
              "2                                     0 days      1         3 2015-02-17  \n",
              "3                                     0 days      1         3 2015-01-06  \n",
              "4                                     0 days      1         3 2015-08-24  \n",
              "...                                      ...    ...       ...        ...  \n",
              "124489                              305 days     11         7 2015-11-02  \n",
              "124490                              305 days     11         7 2015-11-02  \n",
              "124491                              305 days     11         7 2015-11-02  \n",
              "124492                              305 days     11         7 2015-11-02  \n",
              "124493                              305 days     11         7 2015-11-02  \n",
              "\n",
              "[124494 rows x 16 columns]"
            ]
          },
          "execution_count": 50,
          "metadata": {},
          "output_type": "execute_result"
        }
      ],
      "source": [
        "df\n"
      ]
    },
    {
      "cell_type": "code",
      "execution_count": null,
      "id": "894e8f0b-a119-441f-92e3-9680014f5985",
      "metadata": {
        "id": "894e8f0b-a119-441f-92e3-9680014f5985",
        "outputId": "b3d7c20a-1089-453e-f728-c71a44536d11"
      },
      "outputs": [
        {
          "data": {
            "text/plain": [
              "device                                      7\n",
              "date                                      104\n",
              "failure                                     2\n",
              "metric1                                  1168\n",
              "metric2                                   118\n",
              "metric3                                    44\n",
              "metric4                                    67\n",
              "metric5                                    58\n",
              "metric6                                  1135\n",
              "metric7                                    22\n",
              "metric8                                    22\n",
              "metric9                                    63\n",
              "No_of_days_the_device_has_been_active     104\n",
              "month                                      11\n",
              "week_day                                    7\n",
              "max_date                                  104\n",
              "failure_before                              2\n",
              "sector                                      7\n",
              "equipment                                1169\n",
              "dtype: int64"
            ]
          },
          "execution_count": 51,
          "metadata": {},
          "output_type": "execute_result"
        }
      ],
      "source": [
        "df2.nunique()"
      ]
    },
    {
      "cell_type": "code",
      "execution_count": null,
      "id": "05a93544-d4e1-41c7-bb2a-1583ea536d7a",
      "metadata": {
        "id": "05a93544-d4e1-41c7-bb2a-1583ea536d7a"
      },
      "outputs": [],
      "source": [
        "cat_ftrs = ['metric3','metric4', 'metric5', 'metric7', 'metric9']\n",
        "for col in cat_ftrs:\n",
        "    df2[col]=df2[col].astype('object')"
      ]
    },
    {
      "cell_type": "code",
      "execution_count": null,
      "id": "cbee6e24-769b-46b6-ab73-82d934dbd0be",
      "metadata": {
        "id": "cbee6e24-769b-46b6-ab73-82d934dbd0be",
        "outputId": "551b7f3e-fccb-4fb8-d9ec-0519c607fd8b"
      },
      "outputs": [
        {
          "name": "stdout",
          "output_type": "stream",
          "text": [
            "<class 'pandas.core.frame.DataFrame'>\n",
            "RangeIndex: 1169 entries, 0 to 1168\n",
            "Data columns (total 19 columns):\n",
            " #   Column                                 Non-Null Count  Dtype          \n",
            "---  ------                                 --------------  -----          \n",
            " 0   device                                 1169 non-null   object         \n",
            " 1   date                                   1169 non-null   datetime64[ns] \n",
            " 2   failure                                1169 non-null   int64          \n",
            " 3   metric1                                1169 non-null   int64          \n",
            " 4   metric2                                1169 non-null   int64          \n",
            " 5   metric3                                1169 non-null   object         \n",
            " 6   metric4                                1169 non-null   object         \n",
            " 7   metric5                                1169 non-null   object         \n",
            " 8   metric6                                1169 non-null   int64          \n",
            " 9   metric7                                1169 non-null   object         \n",
            " 10  metric8                                1169 non-null   int64          \n",
            " 11  metric9                                1169 non-null   object         \n",
            " 12  No_of_days_the_device_has_been_active  1169 non-null   timedelta64[ns]\n",
            " 13  month                                  1169 non-null   int32          \n",
            " 14  week_day                               1169 non-null   int32          \n",
            " 15  max_date                               1169 non-null   datetime64[ns] \n",
            " 16  failure_before                         1169 non-null   int64          \n",
            " 17  sector                                 1169 non-null   object         \n",
            " 18  equipment                              1169 non-null   object         \n",
            "dtypes: datetime64[ns](2), int32(2), int64(6), object(8), timedelta64[ns](1)\n",
            "memory usage: 164.5+ KB\n"
          ]
        }
      ],
      "source": [
        "df2.info()\n"
      ]
    },
    {
      "cell_type": "code",
      "execution_count": null,
      "id": "1f405ae3-f0f1-4645-9477-2534dc4b1048",
      "metadata": {
        "scrolled": true,
        "id": "1f405ae3-f0f1-4645-9477-2534dc4b1048",
        "outputId": "205fe0f0-c151-4e08-8b09-d3d18bb04459"
      },
      "outputs": [
        {
          "name": "stdout",
          "output_type": "stream",
          "text": [
            "<class 'pandas.core.frame.DataFrame'>\n",
            "RangeIndex: 1169 entries, 0 to 1168\n",
            "Data columns (total 19 columns):\n",
            " #   Column                                 Non-Null Count  Dtype         \n",
            "---  ------                                 --------------  -----         \n",
            " 0   device                                 1169 non-null   object        \n",
            " 1   date                                   1169 non-null   datetime64[ns]\n",
            " 2   failure                                1169 non-null   int64         \n",
            " 3   metric1                                1169 non-null   int64         \n",
            " 4   metric2                                1169 non-null   int64         \n",
            " 5   metric3                                1169 non-null   object        \n",
            " 6   metric4                                1169 non-null   object        \n",
            " 7   metric5                                1169 non-null   object        \n",
            " 8   metric6                                1169 non-null   int64         \n",
            " 9   metric7                                1169 non-null   object        \n",
            " 10  metric8                                1169 non-null   int64         \n",
            " 11  metric9                                1169 non-null   object        \n",
            " 12  No_of_days_the_device_has_been_active  1169 non-null   int64         \n",
            " 13  month                                  1169 non-null   int32         \n",
            " 14  week_day                               1169 non-null   int32         \n",
            " 15  max_date                               1169 non-null   datetime64[ns]\n",
            " 16  failure_before                         1169 non-null   int64         \n",
            " 17  sector                                 1169 non-null   object        \n",
            " 18  equipment                              1169 non-null   object        \n",
            "dtypes: datetime64[ns](2), int32(2), int64(7), object(8)\n",
            "memory usage: 164.5+ KB\n"
          ]
        }
      ],
      "source": [
        "def str_to_num(str):\n",
        "    return str.split(' ')[0]\n",
        "\n",
        "df2.No_of_days_the_device_has_been_active = df2.No_of_days_the_device_has_been_active.astype('str')\n",
        "\n",
        "df2.No_of_days_the_device_has_been_active=df2.No_of_days_the_device_has_been_active.apply(str_to_num)\n",
        "df2.No_of_days_the_device_has_been_active = df2.No_of_days_the_device_has_been_active.astype('int')\n",
        "df2.info()"
      ]
    },
    {
      "cell_type": "code",
      "execution_count": null,
      "id": "987a69d7-53ed-499c-9fe1-b7e8d5d3e1d0",
      "metadata": {
        "id": "987a69d7-53ed-499c-9fe1-b7e8d5d3e1d0"
      },
      "outputs": [],
      "source": [
        "for col in ['month','week_day']:\n",
        "    df2[col]=df2[col].astype('object')\n",
        "\n",
        "df2['metric4']=df2['metric4'].astype('int64')"
      ]
    },
    {
      "cell_type": "code",
      "execution_count": null,
      "id": "559c4783-8d02-454d-bda8-7012fdc29197",
      "metadata": {
        "id": "559c4783-8d02-454d-bda8-7012fdc29197",
        "outputId": "8f6a62d5-abbb-4eef-f482-348f239db35e"
      },
      "outputs": [
        {
          "name": "stdout",
          "output_type": "stream",
          "text": [
            "<class 'pandas.core.frame.DataFrame'>\n",
            "RangeIndex: 1169 entries, 0 to 1168\n",
            "Data columns (total 19 columns):\n",
            " #   Column                                 Non-Null Count  Dtype         \n",
            "---  ------                                 --------------  -----         \n",
            " 0   device                                 1169 non-null   object        \n",
            " 1   date                                   1169 non-null   datetime64[ns]\n",
            " 2   failure                                1169 non-null   int64         \n",
            " 3   metric1                                1169 non-null   int64         \n",
            " 4   metric2                                1169 non-null   int64         \n",
            " 5   metric3                                1169 non-null   object        \n",
            " 6   metric4                                1169 non-null   int64         \n",
            " 7   metric5                                1169 non-null   object        \n",
            " 8   metric6                                1169 non-null   int64         \n",
            " 9   metric7                                1169 non-null   object        \n",
            " 10  metric8                                1169 non-null   int64         \n",
            " 11  metric9                                1169 non-null   object        \n",
            " 12  No_of_days_the_device_has_been_active  1169 non-null   int64         \n",
            " 13  month                                  1169 non-null   object        \n",
            " 14  week_day                               1169 non-null   object        \n",
            " 15  max_date                               1169 non-null   datetime64[ns]\n",
            " 16  failure_before                         1169 non-null   int64         \n",
            " 17  sector                                 1169 non-null   object        \n",
            " 18  equipment                              1169 non-null   object        \n",
            "dtypes: datetime64[ns](2), int64(8), object(9)\n",
            "memory usage: 173.6+ KB\n"
          ]
        }
      ],
      "source": [
        "df2.info()"
      ]
    },
    {
      "cell_type": "code",
      "execution_count": null,
      "id": "af25a17f-4516-48db-a9a4-0bd8b15d9874",
      "metadata": {
        "id": "af25a17f-4516-48db-a9a4-0bd8b15d9874",
        "outputId": "e8aab8e7-6277-446d-bdd2-08e77f2c85c8"
      },
      "outputs": [
        {
          "name": "stderr",
          "output_type": "stream",
          "text": [
            "/home/nabeel/.local/lib/python3.10/site-packages/seaborn/_oldcore.py:1498: FutureWarning: is_categorical_dtype is deprecated and will be removed in a future version. Use isinstance(dtype, CategoricalDtype) instead\n",
            "  if pd.api.types.is_categorical_dtype(vector):\n",
            "/home/nabeel/.local/lib/python3.10/site-packages/seaborn/_oldcore.py:1119: FutureWarning: use_inf_as_na option is deprecated and will be removed in a future version. Convert inf values to NaN before operating instead.\n",
            "  with pd.option_context('mode.use_inf_as_na', True):\n",
            "/home/nabeel/.local/lib/python3.10/site-packages/seaborn/_oldcore.py:1498: FutureWarning: is_categorical_dtype is deprecated and will be removed in a future version. Use isinstance(dtype, CategoricalDtype) instead\n",
            "  if pd.api.types.is_categorical_dtype(vector):\n",
            "/home/nabeel/.local/lib/python3.10/site-packages/seaborn/_oldcore.py:1119: FutureWarning: use_inf_as_na option is deprecated and will be removed in a future version. Convert inf values to NaN before operating instead.\n",
            "  with pd.option_context('mode.use_inf_as_na', True):\n"
          ]
        },
        {
          "data": {
            "image/png": "[encoded data removed]",
            "text/plain": [
              "<Figure size 1200x600 with 2 Axes>"
            ]
          },
          "metadata": {},
          "output_type": "display_data"
        }
      ],
      "source": [
        "\n",
        "# Set the style to a different one\n",
        "sns.set_style(\"whitegrid\")\n",
        "\n",
        "f, axarr = plt.subplots(1, 2, figsize=(12, 6))\n",
        "\n",
        "sns.histplot(df2['metric1'], ax=axarr[0], kde=True)\n",
        "axarr[0].set_title('Skewed Distribution')\n",
        "sns.histplot(np.log(1+df2['metric1']), ax=axarr[1], kde=True,color='orange')\n",
        "axarr[1].set_title('Log-Transformed Distribution')\n",
        "\n",
        "plt.show()\n"
      ]
    },
    {
      "cell_type": "code",
      "execution_count": null,
      "id": "3db4327d-1a18-4881-8be8-2b3865ac663e",
      "metadata": {
        "id": "3db4327d-1a18-4881-8be8-2b3865ac663e",
        "outputId": "2aee0902-7bc3-42ef-b53c-820e88053cd0"
      },
      "outputs": [
        {
          "name": "stderr",
          "output_type": "stream",
          "text": [
            "/home/nabeel/.local/lib/python3.10/site-packages/seaborn/_oldcore.py:1498: FutureWarning: is_categorical_dtype is deprecated and will be removed in a future version. Use isinstance(dtype, CategoricalDtype) instead\n",
            "  if pd.api.types.is_categorical_dtype(vector):\n",
            "/home/nabeel/.local/lib/python3.10/site-packages/seaborn/_oldcore.py:1119: FutureWarning: use_inf_as_na option is deprecated and will be removed in a future version. Convert inf values to NaN before operating instead.\n",
            "  with pd.option_context('mode.use_inf_as_na', True):\n",
            "/home/nabeel/.local/lib/python3.10/site-packages/seaborn/_oldcore.py:1498: FutureWarning: is_categorical_dtype is deprecated and will be removed in a future version. Use isinstance(dtype, CategoricalDtype) instead\n",
            "  if pd.api.types.is_categorical_dtype(vector):\n",
            "/home/nabeel/.local/lib/python3.10/site-packages/seaborn/_oldcore.py:1119: FutureWarning: use_inf_as_na option is deprecated and will be removed in a future version. Convert inf values to NaN before operating instead.\n",
            "  with pd.option_context('mode.use_inf_as_na', True):\n"
          ]
        },
        {
          "data": {
            "image/png": "[encoded data removed]",
            "text/plain": [
              "<Figure size 1200x600 with 2 Axes>"
            ]
          },
          "metadata": {},
          "output_type": "display_data"
        }
      ],
      "source": [
        "\n",
        "\n",
        "\n",
        "sns.set_style(\"darkgrid\")\n",
        "\n",
        "f, axarr = plt.subplots(1, 2, figsize=(12, 6))\n",
        "\n",
        "sns.histplot(df2['metric4'], ax=axarr[0], kde=True)\n",
        "axarr[0].set_title('Skewed Distribution')\n",
        "sns.histplot(np.log(1+df2['metric4']), ax=axarr[1], kde=True,color='orange')\n",
        "axarr[1].set_title('Log-Transformed Distribution')\n",
        "\n",
        "plt.show()\n",
        "\n",
        "\n",
        "\n",
        "\n"
      ]
    },
    {
      "cell_type": "code",
      "execution_count": null,
      "id": "fc97454d-cb28-4939-bcde-df83e32e2755",
      "metadata": {
        "id": "fc97454d-cb28-4939-bcde-df83e32e2755",
        "outputId": "47168e7e-f30c-4ca9-fb01-5029229ea200"
      },
      "outputs": [
        {
          "name": "stderr",
          "output_type": "stream",
          "text": [
            "/tmp/ipykernel_78262/71232362.py:2: UserWarning: \n",
            "\n",
            "`distplot` is a deprecated function and will be removed in seaborn v0.14.0.\n",
            "\n",
            "Please adapt your code to use either `displot` (a figure-level function with\n",
            "similar flexibility) or `histplot` (an axes-level function for histograms).\n",
            "\n",
            "For a guide to updating your code to use the new functions, please see\n",
            "https://gist.github.com/mwaskom/de44147ed2974457ad6372750bbe5751\n",
            "\n",
            "  sns.distplot(df2['metric2'],ax=axarr[0])\n",
            "/home/nabeel/.local/lib/python3.10/site-packages/seaborn/_oldcore.py:1498: FutureWarning: is_categorical_dtype is deprecated and will be removed in a future version. Use isinstance(dtype, CategoricalDtype) instead\n",
            "  if pd.api.types.is_categorical_dtype(vector):\n",
            "/home/nabeel/.local/lib/python3.10/site-packages/seaborn/_oldcore.py:1119: FutureWarning: use_inf_as_na option is deprecated and will be removed in a future version. Convert inf values to NaN before operating instead.\n",
            "  with pd.option_context('mode.use_inf_as_na', True):\n",
            "/tmp/ipykernel_78262/71232362.py:4: UserWarning: \n",
            "\n",
            "`distplot` is a deprecated function and will be removed in seaborn v0.14.0.\n",
            "\n",
            "Please adapt your code to use either `displot` (a figure-level function with\n",
            "similar flexibility) or `histplot` (an axes-level function for histograms).\n",
            "\n",
            "For a guide to updating your code to use the new functions, please see\n",
            "https://gist.github.com/mwaskom/de44147ed2974457ad6372750bbe5751\n",
            "\n",
            "  sns.distplot(np.log(1+df2['metric2']),ax=axarr[1],color='orange')\n",
            "/home/nabeel/.local/lib/python3.10/site-packages/seaborn/_oldcore.py:1498: FutureWarning: is_categorical_dtype is deprecated and will be removed in a future version. Use isinstance(dtype, CategoricalDtype) instead\n",
            "  if pd.api.types.is_categorical_dtype(vector):\n",
            "/home/nabeel/.local/lib/python3.10/site-packages/seaborn/_oldcore.py:1119: FutureWarning: use_inf_as_na option is deprecated and will be removed in a future version. Convert inf values to NaN before operating instead.\n",
            "  with pd.option_context('mode.use_inf_as_na', True):\n"
          ]
        },
        {
          "data": {
            "image/png": "[encoded data removed]",
            "text/plain": [
              "<Figure size 640x480 with 2 Axes>"
            ]
          },
          "metadata": {},
          "output_type": "display_data"
        }
      ],
      "source": [
        "\n",
        "f, axarr = plt.subplots(1,2)\n",
        "sns.distplot(df2['metric2'],ax=axarr[0])\n",
        "axarr[0].set_title('Skewed Distribution')\n",
        "sns.distplot(np.log(1+df2['metric2']),ax=axarr[1],color='orange')\n",
        "axarr[1].set_title('Log-Transformed Distribution')\n",
        "plt.show()"
      ]
    },
    {
      "cell_type": "code",
      "execution_count": null,
      "id": "cf2b19f6-7e57-4252-bb17-fdb0b5f8def2",
      "metadata": {
        "id": "cf2b19f6-7e57-4252-bb17-fdb0b5f8def2",
        "outputId": "cfe3c06e-3826-4743-d923-1d52b98e96a0"
      },
      "outputs": [
        {
          "name": "stderr",
          "output_type": "stream",
          "text": [
            "/home/nabeel/.local/lib/python3.10/site-packages/seaborn/_oldcore.py:1498: FutureWarning: is_categorical_dtype is deprecated and will be removed in a future version. Use isinstance(dtype, CategoricalDtype) instead\n",
            "  if pd.api.types.is_categorical_dtype(vector):\n",
            "/home/nabeel/.local/lib/python3.10/site-packages/seaborn/_oldcore.py:1119: FutureWarning: use_inf_as_na option is deprecated and will be removed in a future version. Convert inf values to NaN before operating instead.\n",
            "  with pd.option_context('mode.use_inf_as_na', True):\n",
            "/home/nabeel/.local/lib/python3.10/site-packages/seaborn/_oldcore.py:1498: FutureWarning: is_categorical_dtype is deprecated and will be removed in a future version. Use isinstance(dtype, CategoricalDtype) instead\n",
            "  if pd.api.types.is_categorical_dtype(vector):\n",
            "/home/nabeel/.local/lib/python3.10/site-packages/seaborn/_oldcore.py:1119: FutureWarning: use_inf_as_na option is deprecated and will be removed in a future version. Convert inf values to NaN before operating instead.\n",
            "  with pd.option_context('mode.use_inf_as_na', True):\n"
          ]
        },
        {
          "data": {
            "image/png": "[encoded data removed]",
            "text/plain": [
              "<Figure size 1200x600 with 2 Axes>"
            ]
          },
          "metadata": {},
          "output_type": "display_data"
        }
      ],
      "source": [
        "\n",
        "sns.set_style(\"ticks\")\n",
        "\n",
        "f, axarr = plt.subplots(1, 2, figsize=(12, 6))\n",
        "\n",
        "sns.histplot(df2['metric6'], ax=axarr[0], kde=True)\n",
        "axarr[0].set_title('Skewed Distribution')\n",
        "sns.histplot(np.log(1+df2['metric6']), ax=axarr[1], kde=True,color='orange')\n",
        "axarr[1].set_title('Log-Transformed Distribution')\n",
        "\n",
        "plt.show()"
      ]
    },
    {
      "cell_type": "code",
      "execution_count": null,
      "id": "74da1f00-f2b7-4c03-95e3-d258aa2014c5",
      "metadata": {
        "id": "74da1f00-f2b7-4c03-95e3-d258aa2014c5",
        "outputId": "94df171d-9447-45e3-8374-b05d350dec02"
      },
      "outputs": [
        {
          "name": "stdout",
          "output_type": "stream",
          "text": [
            "<class 'pandas.core.frame.DataFrame'>\n",
            "RangeIndex: 1169 entries, 0 to 1168\n",
            "Data columns (total 19 columns):\n",
            " #   Column                                 Non-Null Count  Dtype         \n",
            "---  ------                                 --------------  -----         \n",
            " 0   device                                 1169 non-null   object        \n",
            " 1   date                                   1169 non-null   datetime64[ns]\n",
            " 2   failure                                1169 non-null   int64         \n",
            " 3   metric1                                1169 non-null   float64       \n",
            " 4   metric2                                1169 non-null   float64       \n",
            " 5   metric3                                1169 non-null   object        \n",
            " 6   metric4                                1169 non-null   float64       \n",
            " 7   metric5                                1169 non-null   object        \n",
            " 8   metric6                                1169 non-null   float64       \n",
            " 9   metric7                                1169 non-null   object        \n",
            " 10  metric8                                1169 non-null   int64         \n",
            " 11  metric9                                1169 non-null   object        \n",
            " 12  No_of_days_the_device_has_been_active  1169 non-null   int64         \n",
            " 13  month                                  1169 non-null   object        \n",
            " 14  week_day                               1169 non-null   object        \n",
            " 15  max_date                               1169 non-null   datetime64[ns]\n",
            " 16  failure_before                         1169 non-null   int64         \n",
            " 17  sector                                 1169 non-null   object        \n",
            " 18  equipment                              1169 non-null   object        \n",
            "dtypes: datetime64[ns](2), float64(4), int64(4), object(9)\n",
            "memory usage: 173.6+ KB\n"
          ]
        }
      ],
      "source": [
        "from sklearn.preprocessing import StandardScaler\n",
        "scaler = StandardScaler()\n",
        "\n",
        "num_ftrs =['metric1','metric2','metric4','metric6']\n",
        "df2[num_ftrs]=scaler.fit_transform(df2[num_ftrs])\n",
        "\n",
        "df2.info()"
      ]
    },
    {
      "cell_type": "code",
      "execution_count": null,
      "id": "275ffca5-e136-4b7c-9210-4896a2b15062",
      "metadata": {
        "id": "275ffca5-e136-4b7c-9210-4896a2b15062",
        "outputId": "65fe74e0-603d-4a6f-cd89-77e00a90930c"
      },
      "outputs": [
        {
          "name": "stderr",
          "output_type": "stream",
          "text": [
            "/home/nabeel/.local/lib/python3.10/site-packages/seaborn/_oldcore.py:1498: FutureWarning: is_categorical_dtype is deprecated and will be removed in a future version. Use isinstance(dtype, CategoricalDtype) instead\n",
            "  if pd.api.types.is_categorical_dtype(vector):\n",
            "/home/nabeel/.local/lib/python3.10/site-packages/seaborn/_oldcore.py:1119: FutureWarning: use_inf_as_na option is deprecated and will be removed in a future version. Convert inf values to NaN before operating instead.\n",
            "  with pd.option_context('mode.use_inf_as_na', True):\n",
            "/home/nabeel/.local/lib/python3.10/site-packages/pandas/core/arraylike.py:396: RuntimeWarning: invalid value encountered in log\n",
            "  result = getattr(ufunc, method)(*inputs, **kwargs)\n",
            "/home/nabeel/.local/lib/python3.10/site-packages/seaborn/_oldcore.py:1498: FutureWarning: is_categorical_dtype is deprecated and will be removed in a future version. Use isinstance(dtype, CategoricalDtype) instead\n",
            "  if pd.api.types.is_categorical_dtype(vector):\n",
            "/home/nabeel/.local/lib/python3.10/site-packages/seaborn/_oldcore.py:1119: FutureWarning: use_inf_as_na option is deprecated and will be removed in a future version. Convert inf values to NaN before operating instead.\n",
            "  with pd.option_context('mode.use_inf_as_na', True):\n"
          ]
        },
        {
          "data": {
            "image/png": "[encoded data removed]",
            "text/plain": [
              "<Figure size 1200x600 with 2 Axes>"
            ]
          },
          "metadata": {},
          "output_type": "display_data"
        }
      ],
      "source": [
        "sns.set_style(\"dark\")\n",
        "\n",
        "f, axarr = plt.subplots(1, 2, figsize=(12, 6))\n",
        "\n",
        "sns.histplot(df2['metric1'], ax=axarr[0], kde=True, color='skyblue')\n",
        "axarr[0].set_title('Skewed Distribution')\n",
        "sns.histplot(np.log(1+df2['metric1']), ax=axarr[1], kde=True, color='orange')\n",
        "axarr[1].set_title('Log-Transformed Distribution')\n",
        "\n",
        "plt.show()"
      ]
    },
    {
      "cell_type": "code",
      "execution_count": null,
      "id": "db1fb200-4631-486d-974b-25a8ad86632b",
      "metadata": {
        "id": "db1fb200-4631-486d-974b-25a8ad86632b"
      },
      "outputs": [],
      "source": [
        "#df.drop(['metric3','metric5','metric6','metric8'],axis=1,inplace=True)"
      ]
    },
    {
      "cell_type": "code",
      "execution_count": null,
      "id": "2c4df694-66e2-448f-9720-272671a831f0",
      "metadata": {
        "id": "2c4df694-66e2-448f-9720-272671a831f0",
        "outputId": "66f293b9-c416-4aed-e8c7-2745d45244b2"
      },
      "outputs": [
        {
          "name": "stdout",
          "output_type": "stream",
          "text": [
            "<class 'pandas.core.frame.DataFrame'>\n",
            "RangeIndex: 1169 entries, 0 to 1168\n",
            "Data columns (total 19 columns):\n",
            " #   Column                                 Non-Null Count  Dtype         \n",
            "---  ------                                 --------------  -----         \n",
            " 0   device                                 1169 non-null   object        \n",
            " 1   date                                   1169 non-null   datetime64[ns]\n",
            " 2   failure                                1169 non-null   int64         \n",
            " 3   metric1                                1169 non-null   float64       \n",
            " 4   metric2                                1169 non-null   float64       \n",
            " 5   metric3                                1169 non-null   object        \n",
            " 6   metric4                                1169 non-null   float64       \n",
            " 7   metric5                                1169 non-null   object        \n",
            " 8   metric6                                1169 non-null   float64       \n",
            " 9   metric7                                1169 non-null   object        \n",
            " 10  metric8                                1169 non-null   int64         \n",
            " 11  metric9                                1169 non-null   object        \n",
            " 12  No_of_days_the_device_has_been_active  1169 non-null   int64         \n",
            " 13  month                                  1169 non-null   object        \n",
            " 14  week_day                               1169 non-null   object        \n",
            " 15  max_date                               1169 non-null   datetime64[ns]\n",
            " 16  failure_before                         1169 non-null   int64         \n",
            " 17  sector                                 1169 non-null   object        \n",
            " 18  equipment                              1169 non-null   object        \n",
            "dtypes: datetime64[ns](2), float64(4), int64(4), object(9)\n",
            "memory usage: 173.6+ KB\n"
          ]
        }
      ],
      "source": [
        "df2.info()"
      ]
    },
    {
      "cell_type": "code",
      "execution_count": null,
      "id": "1b2203ed-f523-4879-beb4-c6d37df046af",
      "metadata": {
        "id": "1b2203ed-f523-4879-beb4-c6d37df046af",
        "outputId": "68f75886-40f7-4df5-b43a-11c769fa9e96"
      },
      "outputs": [
        {
          "data": {
            "text/html": [
              "<div>\n",
              "<style scoped>\n",
              "    .dataframe tbody tr th:only-of-type {\n",
              "        vertical-align: middle;\n",
              "    }\n",
              "\n",
              "    .dataframe tbody tr th {\n",
              "        vertical-align: top;\n",
              "    }\n",
              "\n",
              "    .dataframe thead th {\n",
              "        text-align: right;\n",
              "    }\n",
              "</style>\n",
              "<table border=\"1\" class=\"dataframe\">\n",
              "  <thead>\n",
              "    <tr style=\"text-align: right;\">\n",
              "      <th></th>\n",
              "      <th>failure</th>\n",
              "      <th>metric1</th>\n",
              "      <th>metric2</th>\n",
              "      <th>metric3</th>\n",
              "      <th>metric4</th>\n",
              "      <th>metric5</th>\n",
              "      <th>metric6</th>\n",
              "      <th>metric7</th>\n",
              "      <th>metric8</th>\n",
              "      <th>metric9</th>\n",
              "      <th>No_of_days_the_device_has_been_active</th>\n",
              "      <th>month</th>\n",
              "      <th>week_day</th>\n",
              "      <th>failure_before</th>\n",
              "      <th>sector</th>\n",
              "      <th>equipment</th>\n",
              "    </tr>\n",
              "  </thead>\n",
              "  <tbody>\n",
              "    <tr>\n",
              "      <th>0</th>\n",
              "      <td>0</td>\n",
              "      <td>0.094795</td>\n",
              "      <td>-0.136309</td>\n",
              "      <td>0</td>\n",
              "      <td>0.534665</td>\n",
              "      <td>6</td>\n",
              "      <td>1.333502</td>\n",
              "      <td>0</td>\n",
              "      <td>0</td>\n",
              "      <td>7</td>\n",
              "      <td>5</td>\n",
              "      <td>1</td>\n",
              "      <td>1</td>\n",
              "      <td>0</td>\n",
              "      <td>S1F0</td>\n",
              "      <td>1085</td>\n",
              "    </tr>\n",
              "    <tr>\n",
              "      <th>1</th>\n",
              "      <td>0</td>\n",
              "      <td>-0.092146</td>\n",
              "      <td>-0.145660</td>\n",
              "      <td>0</td>\n",
              "      <td>-0.124295</td>\n",
              "      <td>5</td>\n",
              "      <td>4.008798</td>\n",
              "      <td>0</td>\n",
              "      <td>0</td>\n",
              "      <td>0</td>\n",
              "      <td>130</td>\n",
              "      <td>5</td>\n",
              "      <td>7</td>\n",
              "      <td>0</td>\n",
              "      <td>S1F0</td>\n",
              "      <td>13BB</td>\n",
              "    </tr>\n",
              "    <tr>\n",
              "      <th>2</th>\n",
              "      <td>0</td>\n",
              "      <td>-1.630184</td>\n",
              "      <td>-0.145660</td>\n",
              "      <td>3</td>\n",
              "      <td>-0.124295</td>\n",
              "      <td>6</td>\n",
              "      <td>1.289341</td>\n",
              "      <td>0</td>\n",
              "      <td>0</td>\n",
              "      <td>0</td>\n",
              "      <td>5</td>\n",
              "      <td>1</td>\n",
              "      <td>1</td>\n",
              "      <td>0</td>\n",
              "      <td>S1F0</td>\n",
              "      <td>166B</td>\n",
              "    </tr>\n",
              "    <tr>\n",
              "      <th>3</th>\n",
              "      <td>0</td>\n",
              "      <td>0.357937</td>\n",
              "      <td>-0.145660</td>\n",
              "      <td>0</td>\n",
              "      <td>-0.124295</td>\n",
              "      <td>12</td>\n",
              "      <td>-0.100105</td>\n",
              "      <td>0</td>\n",
              "      <td>0</td>\n",
              "      <td>0</td>\n",
              "      <td>47</td>\n",
              "      <td>2</td>\n",
              "      <td>1</td>\n",
              "      <td>0</td>\n",
              "      <td>S1F0</td>\n",
              "      <td>1E6Y</td>\n",
              "    </tr>\n",
              "    <tr>\n",
              "      <th>4</th>\n",
              "      <td>0</td>\n",
              "      <td>0.898989</td>\n",
              "      <td>-0.145660</td>\n",
              "      <td>0</td>\n",
              "      <td>-0.124295</td>\n",
              "      <td>6</td>\n",
              "      <td>1.359772</td>\n",
              "      <td>0</td>\n",
              "      <td>0</td>\n",
              "      <td>0</td>\n",
              "      <td>5</td>\n",
              "      <td>1</td>\n",
              "      <td>1</td>\n",
              "      <td>0</td>\n",
              "      <td>S1F0</td>\n",
              "      <td>1JE0</td>\n",
              "    </tr>\n",
              "  </tbody>\n",
              "</table>\n",
              "</div>"
            ],
            "text/plain": [
              "   failure   metric1   metric2 metric3   metric4 metric5   metric6 metric7  \\\n",
              "0        0  0.094795 -0.136309       0  0.534665       6  1.333502       0   \n",
              "1        0 -0.092146 -0.145660       0 -0.124295       5  4.008798       0   \n",
              "2        0 -1.630184 -0.145660       3 -0.124295       6  1.289341       0   \n",
              "3        0  0.357937 -0.145660       0 -0.124295      12 -0.100105       0   \n",
              "4        0  0.898989 -0.145660       0 -0.124295       6  1.359772       0   \n",
              "\n",
              "   metric8 metric9  No_of_days_the_device_has_been_active month week_day  \\\n",
              "0        0       7                                      5     1        1   \n",
              "1        0       0                                    130     5        7   \n",
              "2        0       0                                      5     1        1   \n",
              "3        0       0                                     47     2        1   \n",
              "4        0       0                                      5     1        1   \n",
              "\n",
              "   failure_before sector equipment  \n",
              "0               0   S1F0      1085  \n",
              "1               0   S1F0      13BB  \n",
              "2               0   S1F0      166B  \n",
              "3               0   S1F0      1E6Y  \n",
              "4               0   S1F0      1JE0  "
            ]
          },
          "execution_count": 65,
          "metadata": {},
          "output_type": "execute_result"
        }
      ],
      "source": [
        "df2.drop(['date','max_date','device'],axis=1,inplace=True)\n",
        "df2[df2['failure']==0].value_counts()\n",
        "df2.head()"
      ]
    },
    {
      "cell_type": "code",
      "execution_count": null,
      "id": "7a77f609-8460-4eb4-85ab-0ddd71a9d8ad",
      "metadata": {
        "id": "7a77f609-8460-4eb4-85ab-0ddd71a9d8ad"
      },
      "outputs": [],
      "source": [
        "# print(df2[df2['failure'] == 0 & (df2['failure_before']==0)].shape"
      ]
    },
    {
      "cell_type": "code",
      "execution_count": null,
      "id": "b4ab3b10-0bf4-4ef1-ad1a-0a0641ef81f4",
      "metadata": {
        "id": "b4ab3b10-0bf4-4ef1-ad1a-0a0641ef81f4",
        "outputId": "4ad80feb-701b-4fa8-d0d4-760655f00d46"
      },
      "outputs": [
        {
          "data": {
            "text/html": [
              "<div>\n",
              "<style scoped>\n",
              "    .dataframe tbody tr th:only-of-type {\n",
              "        vertical-align: middle;\n",
              "    }\n",
              "\n",
              "    .dataframe tbody tr th {\n",
              "        vertical-align: top;\n",
              "    }\n",
              "\n",
              "    .dataframe thead th {\n",
              "        text-align: right;\n",
              "    }\n",
              "</style>\n",
              "<table border=\"1\" class=\"dataframe\">\n",
              "  <thead>\n",
              "    <tr style=\"text-align: right;\">\n",
              "      <th></th>\n",
              "      <th>failure</th>\n",
              "      <th>metric1</th>\n",
              "      <th>metric2</th>\n",
              "      <th>metric4</th>\n",
              "      <th>metric6</th>\n",
              "      <th>metric7</th>\n",
              "      <th>No_of_days_the_device_has_been_active</th>\n",
              "      <th>failure_before</th>\n",
              "      <th>month_2</th>\n",
              "      <th>month_3</th>\n",
              "      <th>...</th>\n",
              "      <th>sector_W1F1</th>\n",
              "      <th>sector_Z1F0</th>\n",
              "      <th>sector_Z1F1</th>\n",
              "      <th>sector_Z1F2</th>\n",
              "      <th>week_day_2</th>\n",
              "      <th>week_day_3</th>\n",
              "      <th>week_day_4</th>\n",
              "      <th>week_day_5</th>\n",
              "      <th>week_day_6</th>\n",
              "      <th>week_day_7</th>\n",
              "    </tr>\n",
              "  </thead>\n",
              "  <tbody>\n",
              "    <tr>\n",
              "      <th>0</th>\n",
              "      <td>0</td>\n",
              "      <td>0.094795</td>\n",
              "      <td>-0.136309</td>\n",
              "      <td>0.534665</td>\n",
              "      <td>1.333502</td>\n",
              "      <td>0</td>\n",
              "      <td>0.016393</td>\n",
              "      <td>0</td>\n",
              "      <td>0</td>\n",
              "      <td>0</td>\n",
              "      <td>...</td>\n",
              "      <td>0</td>\n",
              "      <td>0</td>\n",
              "      <td>0</td>\n",
              "      <td>0</td>\n",
              "      <td>0</td>\n",
              "      <td>0</td>\n",
              "      <td>0</td>\n",
              "      <td>0</td>\n",
              "      <td>0</td>\n",
              "      <td>0</td>\n",
              "    </tr>\n",
              "    <tr>\n",
              "      <th>1</th>\n",
              "      <td>0</td>\n",
              "      <td>-0.092146</td>\n",
              "      <td>-0.145660</td>\n",
              "      <td>-0.124295</td>\n",
              "      <td>4.008798</td>\n",
              "      <td>0</td>\n",
              "      <td>0.426230</td>\n",
              "      <td>0</td>\n",
              "      <td>0</td>\n",
              "      <td>0</td>\n",
              "      <td>...</td>\n",
              "      <td>0</td>\n",
              "      <td>0</td>\n",
              "      <td>0</td>\n",
              "      <td>0</td>\n",
              "      <td>0</td>\n",
              "      <td>0</td>\n",
              "      <td>0</td>\n",
              "      <td>0</td>\n",
              "      <td>0</td>\n",
              "      <td>1</td>\n",
              "    </tr>\n",
              "    <tr>\n",
              "      <th>2</th>\n",
              "      <td>0</td>\n",
              "      <td>-1.630184</td>\n",
              "      <td>-0.145660</td>\n",
              "      <td>-0.124295</td>\n",
              "      <td>1.289341</td>\n",
              "      <td>0</td>\n",
              "      <td>0.016393</td>\n",
              "      <td>0</td>\n",
              "      <td>0</td>\n",
              "      <td>0</td>\n",
              "      <td>...</td>\n",
              "      <td>0</td>\n",
              "      <td>0</td>\n",
              "      <td>0</td>\n",
              "      <td>0</td>\n",
              "      <td>0</td>\n",
              "      <td>0</td>\n",
              "      <td>0</td>\n",
              "      <td>0</td>\n",
              "      <td>0</td>\n",
              "      <td>0</td>\n",
              "    </tr>\n",
              "    <tr>\n",
              "      <th>3</th>\n",
              "      <td>0</td>\n",
              "      <td>0.357937</td>\n",
              "      <td>-0.145660</td>\n",
              "      <td>-0.124295</td>\n",
              "      <td>-0.100105</td>\n",
              "      <td>0</td>\n",
              "      <td>0.154098</td>\n",
              "      <td>0</td>\n",
              "      <td>1</td>\n",
              "      <td>0</td>\n",
              "      <td>...</td>\n",
              "      <td>0</td>\n",
              "      <td>0</td>\n",
              "      <td>0</td>\n",
              "      <td>0</td>\n",
              "      <td>0</td>\n",
              "      <td>0</td>\n",
              "      <td>0</td>\n",
              "      <td>0</td>\n",
              "      <td>0</td>\n",
              "      <td>0</td>\n",
              "    </tr>\n",
              "    <tr>\n",
              "      <th>4</th>\n",
              "      <td>0</td>\n",
              "      <td>0.898989</td>\n",
              "      <td>-0.145660</td>\n",
              "      <td>-0.124295</td>\n",
              "      <td>1.359772</td>\n",
              "      <td>0</td>\n",
              "      <td>0.016393</td>\n",
              "      <td>0</td>\n",
              "      <td>0</td>\n",
              "      <td>0</td>\n",
              "      <td>...</td>\n",
              "      <td>0</td>\n",
              "      <td>0</td>\n",
              "      <td>0</td>\n",
              "      <td>0</td>\n",
              "      <td>0</td>\n",
              "      <td>0</td>\n",
              "      <td>0</td>\n",
              "      <td>0</td>\n",
              "      <td>0</td>\n",
              "      <td>0</td>\n",
              "    </tr>\n",
              "  </tbody>\n",
              "</table>\n",
              "<p>5 rows × 30 columns</p>\n",
              "</div>"
            ],
            "text/plain": [
              "   failure   metric1   metric2   metric4   metric6  metric7  \\\n",
              "0        0  0.094795 -0.136309  0.534665  1.333502        0   \n",
              "1        0 -0.092146 -0.145660 -0.124295  4.008798        0   \n",
              "2        0 -1.630184 -0.145660 -0.124295  1.289341        0   \n",
              "3        0  0.357937 -0.145660 -0.124295 -0.100105        0   \n",
              "4        0  0.898989 -0.145660 -0.124295  1.359772        0   \n",
              "\n",
              "   No_of_days_the_device_has_been_active  failure_before  month_2  month_3  \\\n",
              "0                               0.016393               0        0        0   \n",
              "1                               0.426230               0        0        0   \n",
              "2                               0.016393               0        0        0   \n",
              "3                               0.154098               0        1        0   \n",
              "4                               0.016393               0        0        0   \n",
              "\n",
              "   ...  sector_W1F1  sector_Z1F0  sector_Z1F1  sector_Z1F2  week_day_2  \\\n",
              "0  ...            0            0            0            0           0   \n",
              "1  ...            0            0            0            0           0   \n",
              "2  ...            0            0            0            0           0   \n",
              "3  ...            0            0            0            0           0   \n",
              "4  ...            0            0            0            0           0   \n",
              "\n",
              "   week_day_3  week_day_4  week_day_5  week_day_6  week_day_7  \n",
              "0           0           0           0           0           0  \n",
              "1           0           0           0           0           1  \n",
              "2           0           0           0           0           0  \n",
              "3           0           0           0           0           0  \n",
              "4           0           0           0           0           0  \n",
              "\n",
              "[5 rows x 30 columns]"
            ]
          },
          "execution_count": 67,
          "metadata": {},
          "output_type": "execute_result"
        }
      ],
      "source": [
        "df2.head()\n",
        "df2.shape\n",
        "#df2.drop(['metric1','metric7','metric5'],axis=1,inplace=True)\n",
        "df2.drop(['metric3','metric5','metric8','metric9','equipment'],axis=1,inplace=True)\n",
        "df2.failure_before.value_counts()\n",
        "df2\n",
        "\n",
        "# List of columns to exclude from get_dummies()\n",
        "columns_to_exclude = ['metric1','failure','metric2','metric4','metric6','metric7','No_of_days_the_device_has_been_active','failure_before']\n",
        "\n",
        "# Get dummy variables for all columns except those to exclude\n",
        "df2 = pd.get_dummies(df2, drop_first=True, columns=df2.columns.difference(columns_to_exclude))\n",
        "\n",
        "# df2 = pd.get_dummies(df2,drop_first=False)\n",
        "df2.replace({True: 1, False: 0}, inplace=True)\n",
        "df2['No_of_days_the_device_has_been_active']=(df2.No_of_days_the_device_has_been_active)/305\n",
        "df2.head()\n",
        "# df2 = pd.get_dummies(df2, columns=['sector'])\n",
        "# df2 = pd.get_dummies(df2, columns=['equipment'])\n"
      ]
    },
    {
      "cell_type": "code",
      "execution_count": null,
      "id": "26a250a3-65d2-4bdc-be66-bf47c7acc994",
      "metadata": {
        "id": "26a250a3-65d2-4bdc-be66-bf47c7acc994",
        "outputId": "84dce6d4-72ac-417f-c600-c9b8bf163dfb"
      },
      "outputs": [
        {
          "name": "stdout",
          "output_type": "stream",
          "text": [
            "<class 'pandas.core.frame.DataFrame'>\n",
            "RangeIndex: 1169 entries, 0 to 1168\n",
            "Data columns (total 30 columns):\n",
            " #   Column                                 Non-Null Count  Dtype  \n",
            "---  ------                                 --------------  -----  \n",
            " 0   failure                                1169 non-null   int64  \n",
            " 1   metric1                                1169 non-null   float64\n",
            " 2   metric2                                1169 non-null   float64\n",
            " 3   metric4                                1169 non-null   float64\n",
            " 4   metric6                                1169 non-null   float64\n",
            " 5   metric7                                1169 non-null   int64  \n",
            " 6   No_of_days_the_device_has_been_active  1169 non-null   float64\n",
            " 7   failure_before                         1169 non-null   int64  \n",
            " 8   month_2                                1169 non-null   int64  \n",
            " 9   month_3                                1169 non-null   int64  \n",
            " 10  month_4                                1169 non-null   int64  \n",
            " 11  month_5                                1169 non-null   int64  \n",
            " 12  month_6                                1169 non-null   int64  \n",
            " 13  month_7                                1169 non-null   int64  \n",
            " 14  month_8                                1169 non-null   int64  \n",
            " 15  month_9                                1169 non-null   int64  \n",
            " 16  month_10                               1169 non-null   int64  \n",
            " 17  month_11                               1169 non-null   int64  \n",
            " 18  sector_S1F1                            1169 non-null   int64  \n",
            " 19  sector_W1F0                            1169 non-null   int64  \n",
            " 20  sector_W1F1                            1169 non-null   int64  \n",
            " 21  sector_Z1F0                            1169 non-null   int64  \n",
            " 22  sector_Z1F1                            1169 non-null   int64  \n",
            " 23  sector_Z1F2                            1169 non-null   int64  \n",
            " 24  week_day_2                             1169 non-null   int64  \n",
            " 25  week_day_3                             1169 non-null   int64  \n",
            " 26  week_day_4                             1169 non-null   int64  \n",
            " 27  week_day_5                             1169 non-null   int64  \n",
            " 28  week_day_6                             1169 non-null   int64  \n",
            " 29  week_day_7                             1169 non-null   int64  \n",
            "dtypes: float64(5), int64(25)\n",
            "memory usage: 274.1 KB\n"
          ]
        }
      ],
      "source": [
        "# df2.replace({True: 1, False: 0}, inplace=True)\n",
        "df2.info('failure')"
      ]
    },
    {
      "cell_type": "code",
      "execution_count": null,
      "id": "ace9bc77-9e25-43ef-8605-baa4a78b2779",
      "metadata": {
        "id": "ace9bc77-9e25-43ef-8605-baa4a78b2779"
      },
      "outputs": [],
      "source": [
        "# df2.failure.value_counts()\n",
        "# df2\n",
        "\n",
        "# failure0,  failure1 = df2.failure.value_counts()\n",
        "# failure0 , failure1"
      ]
    },
    {
      "cell_type": "code",
      "execution_count": null,
      "id": "96eb820a-394e-4b54-88ac-f5dbb30aa4cb",
      "metadata": {
        "id": "96eb820a-394e-4b54-88ac-f5dbb30aa4cb"
      },
      "outputs": [],
      "source": [
        "# #Dividing by class\n",
        "\n",
        "# class0=df2[df2['failure'] == 0]\n",
        "# class1=df2[df2['failure'] == 1]\n",
        "# class0.shape, class1.shape"
      ]
    },
    {
      "cell_type": "code",
      "execution_count": null,
      "id": "d0a6aa61-7980-45b7-ab42-923365b97081",
      "metadata": {
        "id": "d0a6aa61-7980-45b7-ab42-923365b97081",
        "outputId": "a55e95a1-20f9-45d3-d6d8-7a90a5ed13f9"
      },
      "outputs": [
        {
          "data": {
            "text/plain": [
              "(1169,)"
            ]
          },
          "execution_count": 71,
          "metadata": {},
          "output_type": "execute_result"
        }
      ],
      "source": [
        "X = df2.drop('failure',axis=1)\n",
        "Y = df2.failure\n",
        "Y.shape"
      ]
    },
    {
      "cell_type": "code",
      "execution_count": null,
      "id": "7b9998c8-80c9-4bca-b19b-4f23ca15ed80",
      "metadata": {
        "id": "7b9998c8-80c9-4bca-b19b-4f23ca15ed80",
        "outputId": "bed62808-7034-4aa9-f483-7836ecc584cc"
      },
      "outputs": [
        {
          "data": {
            "text/plain": [
              "((1169, 29),\n",
              " failure\n",
              " 0    1068\n",
              " 1     101\n",
              " Name: count, dtype: int64)"
            ]
          },
          "execution_count": 72,
          "metadata": {},
          "output_type": "execute_result"
        }
      ],
      "source": [
        "X.shape, Y.value_counts()"
      ]
    },
    {
      "cell_type": "code",
      "execution_count": null,
      "id": "40d21480-5795-4aec-adf4-f690356d3b4a",
      "metadata": {
        "id": "40d21480-5795-4aec-adf4-f690356d3b4a",
        "outputId": "9c936564-ab52-4213-e77d-77127705bac2"
      },
      "outputs": [
        {
          "data": {
            "text/html": [
              "<div>\n",
              "<style scoped>\n",
              "    .dataframe tbody tr th:only-of-type {\n",
              "        vertical-align: middle;\n",
              "    }\n",
              "\n",
              "    .dataframe tbody tr th {\n",
              "        vertical-align: top;\n",
              "    }\n",
              "\n",
              "    .dataframe thead th {\n",
              "        text-align: right;\n",
              "    }\n",
              "</style>\n",
              "<table border=\"1\" class=\"dataframe\">\n",
              "  <thead>\n",
              "    <tr style=\"text-align: right;\">\n",
              "      <th></th>\n",
              "      <th>metric1</th>\n",
              "      <th>metric2</th>\n",
              "      <th>metric4</th>\n",
              "      <th>metric6</th>\n",
              "      <th>metric7</th>\n",
              "      <th>No_of_days_the_device_has_been_active</th>\n",
              "      <th>failure_before</th>\n",
              "      <th>month_2</th>\n",
              "      <th>month_3</th>\n",
              "      <th>month_4</th>\n",
              "      <th>...</th>\n",
              "      <th>sector_W1F1</th>\n",
              "      <th>sector_Z1F0</th>\n",
              "      <th>sector_Z1F1</th>\n",
              "      <th>sector_Z1F2</th>\n",
              "      <th>week_day_2</th>\n",
              "      <th>week_day_3</th>\n",
              "      <th>week_day_4</th>\n",
              "      <th>week_day_5</th>\n",
              "      <th>week_day_6</th>\n",
              "      <th>week_day_7</th>\n",
              "    </tr>\n",
              "  </thead>\n",
              "  <tbody>\n",
              "    <tr>\n",
              "      <th>593</th>\n",
              "      <td>0.936289</td>\n",
              "      <td>-0.14566</td>\n",
              "      <td>-0.124295</td>\n",
              "      <td>0.481388</td>\n",
              "      <td>0</td>\n",
              "      <td>0.311475</td>\n",
              "      <td>0</td>\n",
              "      <td>0</td>\n",
              "      <td>0</td>\n",
              "      <td>1</td>\n",
              "      <td>...</td>\n",
              "      <td>0</td>\n",
              "      <td>0</td>\n",
              "      <td>0</td>\n",
              "      <td>0</td>\n",
              "      <td>0</td>\n",
              "      <td>0</td>\n",
              "      <td>0</td>\n",
              "      <td>0</td>\n",
              "      <td>0</td>\n",
              "      <td>1</td>\n",
              "    </tr>\n",
              "    <tr>\n",
              "      <th>788</th>\n",
              "      <td>1.268502</td>\n",
              "      <td>-0.14566</td>\n",
              "      <td>-0.124295</td>\n",
              "      <td>-2.581149</td>\n",
              "      <td>0</td>\n",
              "      <td>0.265574</td>\n",
              "      <td>0</td>\n",
              "      <td>0</td>\n",
              "      <td>1</td>\n",
              "      <td>0</td>\n",
              "      <td>...</td>\n",
              "      <td>0</td>\n",
              "      <td>0</td>\n",
              "      <td>0</td>\n",
              "      <td>0</td>\n",
              "      <td>0</td>\n",
              "      <td>0</td>\n",
              "      <td>0</td>\n",
              "      <td>0</td>\n",
              "      <td>0</td>\n",
              "      <td>1</td>\n",
              "    </tr>\n",
              "    <tr>\n",
              "      <th>490</th>\n",
              "      <td>-0.509442</td>\n",
              "      <td>-0.14566</td>\n",
              "      <td>-0.124295</td>\n",
              "      <td>0.524871</td>\n",
              "      <td>0</td>\n",
              "      <td>0.963934</td>\n",
              "      <td>0</td>\n",
              "      <td>0</td>\n",
              "      <td>0</td>\n",
              "      <td>0</td>\n",
              "      <td>...</td>\n",
              "      <td>0</td>\n",
              "      <td>0</td>\n",
              "      <td>0</td>\n",
              "      <td>0</td>\n",
              "      <td>0</td>\n",
              "      <td>1</td>\n",
              "      <td>0</td>\n",
              "      <td>0</td>\n",
              "      <td>0</td>\n",
              "      <td>0</td>\n",
              "    </tr>\n",
              "    <tr>\n",
              "      <th>654</th>\n",
              "      <td>0.999364</td>\n",
              "      <td>-0.14566</td>\n",
              "      <td>0.141824</td>\n",
              "      <td>-0.265935</td>\n",
              "      <td>8</td>\n",
              "      <td>0.252459</td>\n",
              "      <td>0</td>\n",
              "      <td>0</td>\n",
              "      <td>1</td>\n",
              "      <td>0</td>\n",
              "      <td>...</td>\n",
              "      <td>0</td>\n",
              "      <td>0</td>\n",
              "      <td>0</td>\n",
              "      <td>0</td>\n",
              "      <td>0</td>\n",
              "      <td>1</td>\n",
              "      <td>0</td>\n",
              "      <td>0</td>\n",
              "      <td>0</td>\n",
              "      <td>0</td>\n",
              "    </tr>\n",
              "    <tr>\n",
              "      <th>963</th>\n",
              "      <td>-0.013114</td>\n",
              "      <td>-0.14566</td>\n",
              "      <td>-0.124295</td>\n",
              "      <td>1.281557</td>\n",
              "      <td>0</td>\n",
              "      <td>0.016393</td>\n",
              "      <td>0</td>\n",
              "      <td>0</td>\n",
              "      <td>0</td>\n",
              "      <td>0</td>\n",
              "      <td>...</td>\n",
              "      <td>0</td>\n",
              "      <td>1</td>\n",
              "      <td>0</td>\n",
              "      <td>0</td>\n",
              "      <td>0</td>\n",
              "      <td>0</td>\n",
              "      <td>0</td>\n",
              "      <td>0</td>\n",
              "      <td>0</td>\n",
              "      <td>0</td>\n",
              "    </tr>\n",
              "    <tr>\n",
              "      <th>...</th>\n",
              "      <td>...</td>\n",
              "      <td>...</td>\n",
              "      <td>...</td>\n",
              "      <td>...</td>\n",
              "      <td>...</td>\n",
              "      <td>...</td>\n",
              "      <td>...</td>\n",
              "      <td>...</td>\n",
              "      <td>...</td>\n",
              "      <td>...</td>\n",
              "      <td>...</td>\n",
              "      <td>...</td>\n",
              "      <td>...</td>\n",
              "      <td>...</td>\n",
              "      <td>...</td>\n",
              "      <td>...</td>\n",
              "      <td>...</td>\n",
              "      <td>...</td>\n",
              "      <td>...</td>\n",
              "      <td>...</td>\n",
              "      <td>...</td>\n",
              "    </tr>\n",
              "    <tr>\n",
              "      <th>1044</th>\n",
              "      <td>1.408988</td>\n",
              "      <td>-0.14566</td>\n",
              "      <td>-0.124295</td>\n",
              "      <td>-0.595187</td>\n",
              "      <td>0</td>\n",
              "      <td>0.426230</td>\n",
              "      <td>0</td>\n",
              "      <td>0</td>\n",
              "      <td>0</td>\n",
              "      <td>0</td>\n",
              "      <td>...</td>\n",
              "      <td>0</td>\n",
              "      <td>1</td>\n",
              "      <td>0</td>\n",
              "      <td>0</td>\n",
              "      <td>0</td>\n",
              "      <td>0</td>\n",
              "      <td>0</td>\n",
              "      <td>0</td>\n",
              "      <td>0</td>\n",
              "      <td>1</td>\n",
              "    </tr>\n",
              "    <tr>\n",
              "      <th>1095</th>\n",
              "      <td>-1.037965</td>\n",
              "      <td>-0.14566</td>\n",
              "      <td>-0.124295</td>\n",
              "      <td>1.547588</td>\n",
              "      <td>0</td>\n",
              "      <td>0.344262</td>\n",
              "      <td>0</td>\n",
              "      <td>0</td>\n",
              "      <td>0</td>\n",
              "      <td>1</td>\n",
              "      <td>...</td>\n",
              "      <td>0</td>\n",
              "      <td>1</td>\n",
              "      <td>0</td>\n",
              "      <td>0</td>\n",
              "      <td>0</td>\n",
              "      <td>1</td>\n",
              "      <td>0</td>\n",
              "      <td>0</td>\n",
              "      <td>0</td>\n",
              "      <td>0</td>\n",
              "    </tr>\n",
              "    <tr>\n",
              "      <th>1130</th>\n",
              "      <td>-1.671598</td>\n",
              "      <td>-0.14566</td>\n",
              "      <td>-0.111622</td>\n",
              "      <td>-0.240766</td>\n",
              "      <td>0</td>\n",
              "      <td>0.429508</td>\n",
              "      <td>0</td>\n",
              "      <td>0</td>\n",
              "      <td>0</td>\n",
              "      <td>0</td>\n",
              "      <td>...</td>\n",
              "      <td>0</td>\n",
              "      <td>0</td>\n",
              "      <td>1</td>\n",
              "      <td>0</td>\n",
              "      <td>0</td>\n",
              "      <td>0</td>\n",
              "      <td>0</td>\n",
              "      <td>0</td>\n",
              "      <td>0</td>\n",
              "      <td>0</td>\n",
              "    </tr>\n",
              "    <tr>\n",
              "      <th>860</th>\n",
              "      <td>0.229988</td>\n",
              "      <td>-0.14566</td>\n",
              "      <td>-0.124295</td>\n",
              "      <td>-2.581311</td>\n",
              "      <td>0</td>\n",
              "      <td>0.757377</td>\n",
              "      <td>0</td>\n",
              "      <td>0</td>\n",
              "      <td>0</td>\n",
              "      <td>0</td>\n",
              "      <td>...</td>\n",
              "      <td>1</td>\n",
              "      <td>0</td>\n",
              "      <td>0</td>\n",
              "      <td>0</td>\n",
              "      <td>0</td>\n",
              "      <td>1</td>\n",
              "      <td>0</td>\n",
              "      <td>0</td>\n",
              "      <td>0</td>\n",
              "      <td>0</td>\n",
              "    </tr>\n",
              "    <tr>\n",
              "      <th>1126</th>\n",
              "      <td>0.566489</td>\n",
              "      <td>-0.14566</td>\n",
              "      <td>-0.124295</td>\n",
              "      <td>-0.873162</td>\n",
              "      <td>0</td>\n",
              "      <td>0.013115</td>\n",
              "      <td>0</td>\n",
              "      <td>0</td>\n",
              "      <td>0</td>\n",
              "      <td>0</td>\n",
              "      <td>...</td>\n",
              "      <td>0</td>\n",
              "      <td>0</td>\n",
              "      <td>1</td>\n",
              "      <td>0</td>\n",
              "      <td>0</td>\n",
              "      <td>0</td>\n",
              "      <td>0</td>\n",
              "      <td>0</td>\n",
              "      <td>0</td>\n",
              "      <td>1</td>\n",
              "    </tr>\n",
              "  </tbody>\n",
              "</table>\n",
              "<p>818 rows × 29 columns</p>\n",
              "</div>"
            ],
            "text/plain": [
              "       metric1  metric2   metric4   metric6  metric7  \\\n",
              "593   0.936289 -0.14566 -0.124295  0.481388        0   \n",
              "788   1.268502 -0.14566 -0.124295 -2.581149        0   \n",
              "490  -0.509442 -0.14566 -0.124295  0.524871        0   \n",
              "654   0.999364 -0.14566  0.141824 -0.265935        8   \n",
              "963  -0.013114 -0.14566 -0.124295  1.281557        0   \n",
              "...        ...      ...       ...       ...      ...   \n",
              "1044  1.408988 -0.14566 -0.124295 -0.595187        0   \n",
              "1095 -1.037965 -0.14566 -0.124295  1.547588        0   \n",
              "1130 -1.671598 -0.14566 -0.111622 -0.240766        0   \n",
              "860   0.229988 -0.14566 -0.124295 -2.581311        0   \n",
              "1126  0.566489 -0.14566 -0.124295 -0.873162        0   \n",
              "\n",
              "      No_of_days_the_device_has_been_active  failure_before  month_2  month_3  \\\n",
              "593                                0.311475               0        0        0   \n",
              "788                                0.265574               0        0        1   \n",
              "490                                0.963934               0        0        0   \n",
              "654                                0.252459               0        0        1   \n",
              "963                                0.016393               0        0        0   \n",
              "...                                     ...             ...      ...      ...   \n",
              "1044                               0.426230               0        0        0   \n",
              "1095                               0.344262               0        0        0   \n",
              "1130                               0.429508               0        0        0   \n",
              "860                                0.757377               0        0        0   \n",
              "1126                               0.013115               0        0        0   \n",
              "\n",
              "      month_4  ...  sector_W1F1  sector_Z1F0  sector_Z1F1  sector_Z1F2  \\\n",
              "593         1  ...            0            0            0            0   \n",
              "788         0  ...            0            0            0            0   \n",
              "490         0  ...            0            0            0            0   \n",
              "654         0  ...            0            0            0            0   \n",
              "963         0  ...            0            1            0            0   \n",
              "...       ...  ...          ...          ...          ...          ...   \n",
              "1044        0  ...            0            1            0            0   \n",
              "1095        1  ...            0            1            0            0   \n",
              "1130        0  ...            0            0            1            0   \n",
              "860         0  ...            1            0            0            0   \n",
              "1126        0  ...            0            0            1            0   \n",
              "\n",
              "      week_day_2  week_day_3  week_day_4  week_day_5  week_day_6  week_day_7  \n",
              "593            0           0           0           0           0           1  \n",
              "788            0           0           0           0           0           1  \n",
              "490            0           1           0           0           0           0  \n",
              "654            0           1           0           0           0           0  \n",
              "963            0           0           0           0           0           0  \n",
              "...          ...         ...         ...         ...         ...         ...  \n",
              "1044           0           0           0           0           0           1  \n",
              "1095           0           1           0           0           0           0  \n",
              "1130           0           0           0           0           0           0  \n",
              "860            0           1           0           0           0           0  \n",
              "1126           0           0           0           0           0           1  \n",
              "\n",
              "[818 rows x 29 columns]"
            ]
          },
          "execution_count": 73,
          "metadata": {},
          "output_type": "execute_result"
        }
      ],
      "source": [
        "# # Y\n",
        "from sklearn.model_selection import train_test_split\n",
        "\n",
        "X_train, X_test, Y_train, Y_test = train_test_split(X, Y, test_size=0.30, random_state = 42)\n",
        "X_train\n"
      ]
    },
    {
      "cell_type": "code",
      "execution_count": null,
      "id": "d2a48400-8ebe-40e1-8a92-560f8450bce1",
      "metadata": {
        "id": "d2a48400-8ebe-40e1-8a92-560f8450bce1",
        "outputId": "16ed4d22-d723-415a-fb5f-fbd628851623"
      },
      "outputs": [
        {
          "data": {
            "text/plain": [
              "((1494, 29), 1494)"
            ]
          },
          "execution_count": 74,
          "metadata": {},
          "output_type": "execute_result"
        }
      ],
      "source": [
        "from imblearn.over_sampling import SMOTE\n",
        "\n",
        "# Create SMOTE object\n",
        "# Create SMOTE object with custom sampling strategy\n",
        "smote = SMOTE(sampling_strategy='auto', random_state=42)\n",
        "\n",
        "\n",
        "# Apply SMOTE to resample the dataset\n",
        "X_train,Y_train= smote.fit_resample(X_train, Y_train)\n",
        "\n",
        "\n",
        "X_train.shape, Y_train.shape[0]\n",
        "\n"
      ]
    },
    {
      "cell_type": "code",
      "execution_count": null,
      "id": "fd19f259-200a-4351-b9e3-1bfdac81dc49",
      "metadata": {
        "id": "fd19f259-200a-4351-b9e3-1bfdac81dc49",
        "outputId": "dae22797-3be4-418c-9389-fbb0eaf35352"
      },
      "outputs": [
        {
          "name": "stdout",
          "output_type": "stream",
          "text": [
            "       metric1   metric2   metric4   metric6  metric7  \\\n",
            "0     0.094795 -0.136309  0.534665  1.333502        0   \n",
            "1    -0.092146 -0.145660 -0.124295  4.008798        0   \n",
            "2    -1.630184 -0.145660 -0.124295  1.289341        0   \n",
            "3     0.357937 -0.145660 -0.124295 -0.100105        0   \n",
            "4     0.898989 -0.145660 -0.124295  1.359772        0   \n",
            "...        ...       ...       ...       ...      ...   \n",
            "1164 -0.358265 -0.145660 -0.124295 -0.061700        0   \n",
            "1165  0.794211 -0.145660 -0.124295 -0.044401        0   \n",
            "1166  1.519129 -0.145660 -0.124295  0.211274        0   \n",
            "1167 -0.702603 -0.145660 -0.124295 -0.736728        0   \n",
            "1168  0.118815 -0.145660 -0.124295 -1.013087        0   \n",
            "\n",
            "      No_of_days_the_device_has_been_active  failure_before  month_2  month_3  \\\n",
            "0                                  0.016393               0        0        0   \n",
            "1                                  0.426230               0        0        0   \n",
            "2                                  0.016393               0        0        0   \n",
            "3                                  0.154098               0        1        0   \n",
            "4                                  0.016393               0        0        0   \n",
            "...                                     ...             ...      ...      ...   \n",
            "1164                               0.954098               0        0        0   \n",
            "1165                               0.590164               0        0        0   \n",
            "1166                               0.272131               0        0        1   \n",
            "1167                               0.272131               0        0        1   \n",
            "1168                               0.311475               0        0        0   \n",
            "\n",
            "      month_4  ...  sector_W1F1  sector_Z1F0  sector_Z1F1  sector_Z1F2  \\\n",
            "0           0  ...            0            0            0            0   \n",
            "1           0  ...            0            0            0            0   \n",
            "2           0  ...            0            0            0            0   \n",
            "3           0  ...            0            0            0            0   \n",
            "4           0  ...            0            0            0            0   \n",
            "...       ...  ...          ...          ...          ...          ...   \n",
            "1164        0  ...            0            0            1            0   \n",
            "1165        0  ...            0            0            1            0   \n",
            "1166        0  ...            0            0            0            1   \n",
            "1167        0  ...            0            0            0            1   \n",
            "1168        1  ...            0            0            0            1   \n",
            "\n",
            "      week_day_2  week_day_3  week_day_4  week_day_5  week_day_6  week_day_7  \n",
            "0              0           0           0           0           0           0  \n",
            "1              0           0           0           0           0           1  \n",
            "2              0           0           0           0           0           0  \n",
            "3              0           0           0           0           0           0  \n",
            "4              0           0           0           0           0           0  \n",
            "...          ...         ...         ...         ...         ...         ...  \n",
            "1164           0           0           0           0           0           1  \n",
            "1165           0           0           0           0           0           0  \n",
            "1166           1           0           0           0           0           0  \n",
            "1167           1           0           0           0           0           0  \n",
            "1168           0           0           0           0           0           1  \n",
            "\n",
            "[1169 rows x 29 columns]\n"
          ]
        }
      ],
      "source": [
        "print(X[:])\n",
        "\n",
        "from sklearn.metrics import roc_auc_score\n",
        "\n"
      ]
    },
    {
      "cell_type": "code",
      "execution_count": null,
      "id": "287a4c11-3b38-4f2c-8dac-e55f762a6dbc",
      "metadata": {
        "id": "287a4c11-3b38-4f2c-8dac-e55f762a6dbc",
        "outputId": "4c0f6c42-d5ed-4a78-b134-984f27427553"
      },
      "outputs": [
        {
          "name": "stdout",
          "output_type": "stream",
          "text": [
            "Accuracy: 0.9031339031339032\n",
            "Precision: 0.46296296296296297\n",
            "Recall: 0.8333333333333334\n",
            "F1 Score: 0.5952380952380952\n",
            "AUC-ROC Score: 0.8714953271028038\n"
          ]
        }
      ],
      "source": [
        "from sklearn.neighbors import KNeighborsClassifier\n",
        "from sklearn.metrics import accuracy_score, precision_score, recall_score, f1_score, roc_curve, make_scorer\n",
        "\n",
        "knn = KNeighborsClassifier(n_neighbors=5)\n",
        "knn.fit(X_train, Y_train)\n",
        "y_pred = knn.predict(X_test)\n",
        "\n",
        "accuracy = accuracy_score(Y_test, y_pred)\n",
        "print(\"Accuracy:\", accuracy)\n",
        "precision = precision_score(Y_test, y_pred)\n",
        "print(\"Precision:\", precision)\n",
        "recall = recall_score(Y_test, y_pred)\n",
        "print(\"Recall:\", recall)\n",
        "f1 = f1_score(Y_test, y_pred)\n",
        "print(\"F1 Score:\", f1)\n",
        "auc_roc_score = roc_auc_score(Y_test, y_pred)\n",
        "print(\"AUC-ROC Score:\", auc_roc_score)\n"
      ]
    },
    {
      "cell_type": "code",
      "execution_count": null,
      "id": "ea77e0b9-3033-4908-bff8-2baa6e09b1b1",
      "metadata": {
        "id": "ea77e0b9-3033-4908-bff8-2baa6e09b1b1",
        "outputId": "db7840fb-f8f9-4b41-9cec-dfaff56cd36c"
      },
      "outputs": [
        {
          "data": {
            "image/png": "[encoded data removed]",
            "text/plain": [
              "<Figure size 800x600 with 1 Axes>"
            ]
          },
          "metadata": {},
          "output_type": "display_data"
        }
      ],
      "source": [
        "y_probs = knn.predict_proba(X_test)[:, 1]\n",
        "fpr, tpr, thresholds = roc_curve(Y_test, y_probs)\n",
        "auc_roc = roc_auc_score(Y_test, y_probs)\n",
        "\n",
        "plt.figure(figsize=(8, 6))\n",
        "plt.plot(fpr, tpr, color='blue', lw=2, label='ROC curve (AUC = %0.2f)' % auc_roc)\n",
        "plt.plot([0, 1], [0, 1], color='gray', linestyle='--')\n",
        "plt.xlim([0.0, 1.0])\n",
        "plt.ylim([0.0, 1.05])\n",
        "plt.xlabel('False Positive Rate')\n",
        "plt.ylabel('True Positive Rate')\n",
        "plt.title('Receiver Operating Characteristic (ROC) Curve')\n",
        "plt.legend(loc=\"lower right\")\n",
        "plt.show()"
      ]
    },
    {
      "cell_type": "code",
      "execution_count": null,
      "id": "138669e8-7f99-4999-8d72-266132879da9",
      "metadata": {
        "id": "138669e8-7f99-4999-8d72-266132879da9",
        "outputId": "99fc32a1-83f3-4775-c545-5c1879d202dd"
      },
      "outputs": [
        {
          "name": "stdout",
          "output_type": "stream",
          "text": [
            "Best Parameters: {'algorithm': 'auto', 'n_neighbors': 3, 'p': 1, 'weights': 'distance'}\n",
            "Best Score (F1): 0.9645212189009325\n",
            "Test Precision Score: 0.9392943239097085\n",
            "Test Recall Score: 0.9287749287749287\n",
            "Test F1 Score: 0.9329137027467956\n",
            "AUC-ROC Score: 0.8401869158878504\n"
          ]
        }
      ],
      "source": [
        "\n",
        "from sklearn import metrics\n",
        "from sklearn.model_selection import GridSearchCV\n",
        "\n",
        "knn_classifier = KNeighborsClassifier()\n",
        "\n",
        "param_grid = {\n",
        "    'n_neighbors': [3, 5, 7],  # Number of neighbors to use\n",
        "    'weights': ['uniform', 'distance'],  # Weight function used in prediction\n",
        "    'algorithm': ['auto', 'ball_tree', 'kd_tree', 'brute'],  # Algorithm used to compute the nearest neighbors\n",
        "    'p': [1, 2]  # Power parameter for the Minkowski metric\n",
        "}\n",
        "\n",
        "scorer = make_scorer(f1_score, average='weighted')\n",
        "\n",
        "grid_search = GridSearchCV(estimator=knn_classifier, param_grid=param_grid, scoring=scorer, cv=5)\n",
        "grid_search.fit(X_train, Y_train)\n",
        "\n",
        "best_params = grid_search.best_params_\n",
        "best_score = grid_search.best_score_\n",
        "\n",
        "print(\"Best Parameters:\", best_params)\n",
        "print(\"Best Score (F1):\", best_score)\n",
        "\n",
        "best_knn_classifier = KNeighborsClassifier(**best_params)\n",
        "\n",
        "best_knn_classifier.fit(X_train, Y_train)\n",
        "\n",
        "y_pred = best_knn_classifier.predict(X_test)\n",
        "\n",
        "\n",
        "precision = precision_score(Y_test, y_pred, average='weighted')\n",
        "recall = recall_score(Y_test, y_pred, average='weighted')\n",
        "f1 = f1_score(Y_test, y_pred, average='weighted')\n",
        "auc_roc = roc_auc_score(Y_test, y_pred, average='weighted')\n",
        "\n",
        "print(\"Test Precision Score:\", precision)\n",
        "print(\"Test Recall Score:\", recall)\n",
        "print(\"Test F1 Score:\", f1)\n",
        "print(\"AUC-ROC Score:\", auc_roc)\n",
        "\n",
        "# Accuracy: 0.9287749287749287 [This is the accuracy score I have got for the model sorry I forgot to print it during code my walkthrough]"
      ]
    },
    {
      "cell_type": "code",
      "execution_count": null,
      "id": "589ebac8-37e5-475a-8fb5-fb10c610d910",
      "metadata": {
        "id": "589ebac8-37e5-475a-8fb5-fb10c610d910",
        "outputId": "2602a442-b420-425d-9d6e-c94d584a7782"
      },
      "outputs": [
        {
          "data": {
            "image/png": "[encoded data removed]",
            "text/plain": [
              "<Figure size 800x600 with 1 Axes>"
            ]
          },
          "metadata": {},
          "output_type": "display_data"
        }
      ],
      "source": [
        "y_probs = best_knn_classifier.predict_proba(X_test)[:, 1]\n",
        "fpr, tpr, thresholds = roc_curve(Y_test, y_probs)\n",
        "auc_roc = roc_auc_score(Y_test, y_probs)\n",
        "\n",
        "plt.figure(figsize=(8, 6))\n",
        "plt.plot(fpr, tpr, color='blue', lw=2, label='ROC curve (AUC = %0.2f)' % auc_roc)\n",
        "plt.plot([0, 1], [0, 1], color='gray', linestyle='--')\n",
        "plt.xlim([0.0, 1.0])\n",
        "plt.ylim([0.0, 1.05])\n",
        "plt.xlabel('False Positive Rate')\n",
        "plt.ylabel('True Positive Rate')\n",
        "plt.title('Receiver Operating Characteristic (ROC) Curve')\n",
        "plt.legend(loc=\"lower right\")\n",
        "plt.show()"
      ]
    },
    {
      "cell_type": "code",
      "execution_count": null,
      "id": "7901d645-eab1-488b-8723-ac45e77b9fa7",
      "metadata": {
        "id": "7901d645-eab1-488b-8723-ac45e77b9fa7",
        "outputId": "eae5979e-1260-412b-90b4-90e55b1537fd"
      },
      "outputs": [
        {
          "name": "stdout",
          "output_type": "stream",
          "text": [
            "Accuracy: 0.9686609686609686\n",
            "Precision: 0.8275862068965517\n",
            "Recall: 0.8\n",
            "F1 Score: 0.8135593220338982\n",
            "AUC-ROC Score: 0.8922118380062305\n"
          ]
        }
      ],
      "source": [
        "import xgboost as xgb\n",
        "from sklearn import metrics\n",
        "model = xgb.XGBClassifier()\n",
        "\n",
        "model.fit(X_train,Y_train)\n",
        "\n",
        "y_pred = model.predict(X_test)\n",
        "\n",
        "accuracy = accuracy_score(Y_test, y_pred)\n",
        "print(\"Accuracy:\", accuracy)\n",
        "precision = precision_score(Y_test, y_pred)\n",
        "print(\"Precision:\", precision)\n",
        "recall = recall_score(Y_test, y_pred)\n",
        "print(\"Recall:\", recall)\n",
        "f1 = f1_score(Y_test, y_pred)\n",
        "print(\"F1 Score:\", f1)\n",
        "auc_roc_score = roc_auc_score(Y_test, y_pred)\n",
        "print(\"AUC-ROC Score:\", auc_roc_score)\n",
        "\n"
      ]
    },
    {
      "cell_type": "code",
      "execution_count": null,
      "id": "d4b85791-8eb8-4c9e-a9c8-664bcb40fb29",
      "metadata": {
        "id": "d4b85791-8eb8-4c9e-a9c8-664bcb40fb29",
        "outputId": "ff9d3af4-5f1d-44bf-d9ee-c0a670d179b2"
      },
      "outputs": [
        {
          "data": {
            "image/png": "[encoded data removed]",
            "text/plain": [
              "<Figure size 800x600 with 1 Axes>"
            ]
          },
          "metadata": {},
          "output_type": "display_data"
        }
      ],
      "source": [
        "y_probs = model.predict_proba(X_test)[:, 1]\n",
        "fpr, tpr, thresholds = roc_curve(Y_test, y_probs)\n",
        "auc_roc = roc_auc_score(Y_test, y_probs)\n",
        "\n",
        "plt.figure(figsize=(8, 6))\n",
        "plt.plot(fpr, tpr, color='blue', lw=2, label='ROC curve (AUC = %0.2f)' % auc_roc)\n",
        "plt.plot([0, 1], [0, 1], color='gray', linestyle='--')\n",
        "plt.xlim([0.0, 1.0])\n",
        "plt.ylim([0.0, 1.05])\n",
        "plt.xlabel('False Positive Rate')\n",
        "plt.ylabel('True Positive Rate')\n",
        "plt.title('Receiver Operating Characteristic (ROC) Curve')\n",
        "plt.legend(loc=\"lower right\")\n",
        "plt.show()"
      ]
    },
    {
      "cell_type": "code",
      "execution_count": null,
      "id": "ea326100-ba0f-475d-b33d-bc01febbfde9",
      "metadata": {
        "id": "ea326100-ba0f-475d-b33d-bc01febbfde9"
      },
      "outputs": [],
      "source": [
        "from sklearn.ensemble import AdaBoostClassifier\n",
        "from sklearn import metrics\n",
        "\n",
        "adaboost = AdaBoostClassifier(n_estimators=42, random_state=42)\n",
        "adaboost.fit(X_train, Y_train)\n",
        "y_pred = adaboost.predict(X_test)\n",
        "\n"
      ]
    },
    {
      "cell_type": "code",
      "execution_count": null,
      "id": "2de63b10-adf2-4dcb-b59e-9def8f20fcdd",
      "metadata": {
        "id": "2de63b10-adf2-4dcb-b59e-9def8f20fcdd",
        "outputId": "a8e633a1-26c6-4b5e-9871-b0d466996505"
      },
      "outputs": [
        {
          "name": "stdout",
          "output_type": "stream",
          "text": [
            "Accuracy: 0.9629629629629629\n",
            "Precision: 0.8148148148148148\n",
            "Recall: 0.7333333333333333\n",
            "F1 Score: 0.7719298245614035\n",
            "AUC-ROC Score: 0.8588785046728973\n"
          ]
        }
      ],
      "source": [
        "accuracy = accuracy_score(Y_test, y_pred)\n",
        "print(\"Accuracy:\", accuracy)\n",
        "precision = precision_score(Y_test, y_pred)\n",
        "print(\"Precision:\", precision)\n",
        "recall = recall_score(Y_test, y_pred)\n",
        "print(\"Recall:\", recall)\n",
        "f1 = f1_score(Y_test, y_pred)\n",
        "print(\"F1 Score:\", f1)\n",
        "auc_roc_score = roc_auc_score(Y_test, y_pred)\n",
        "print(\"AUC-ROC Score:\", auc_roc_score)"
      ]
    },
    {
      "cell_type": "code",
      "execution_count": null,
      "id": "bcc2b389-306b-4cf4-8ef0-d6e6e1a97cef",
      "metadata": {
        "id": "bcc2b389-306b-4cf4-8ef0-d6e6e1a97cef",
        "outputId": "e5e518d1-c3e6-4473-f7c9-2c671c573278"
      },
      "outputs": [
        {
          "data": {
            "image/png": "[encoded data removed]",
            "text/plain": [
              "<Figure size 800x600 with 1 Axes>"
            ]
          },
          "metadata": {},
          "output_type": "display_data"
        }
      ],
      "source": [
        "y_probs = adaboost.predict_proba(X_test)[:, 1]\n",
        "fpr, tpr, thresholds = roc_curve(Y_test, y_probs)\n",
        "auc_roc = roc_auc_score(Y_test, y_probs)\n",
        "\n",
        "plt.figure(figsize=(8, 6))\n",
        "plt.plot(fpr, tpr, color='blue', lw=2, label='ROC curve (AUC = %0.2f)' % auc_roc)\n",
        "plt.plot([0, 1], [0, 1], color='gray', linestyle='--')\n",
        "plt.xlim([0.0, 1.0])\n",
        "plt.ylim([0.0, 1.05])\n",
        "plt.xlabel('False Positive Rate')\n",
        "plt.ylabel('True Positive Rate')\n",
        "plt.title('Receiver Operating Characteristic (ROC) Curve')\n",
        "plt.legend(loc=\"lower right\")\n",
        "plt.show()"
      ]
    },
    {
      "cell_type": "code",
      "execution_count": null,
      "id": "97c23536-4e99-49c5-8227-c671e0733a59",
      "metadata": {
        "id": "97c23536-4e99-49c5-8227-c671e0733a59"
      },
      "outputs": [],
      "source": [
        "from sklearn.ensemble import RandomForestClassifier\n",
        "from sklearn import metrics\n",
        "\n",
        "# Create Random Forest classifier\n",
        "random_forest = RandomForestClassifier(n_estimators=100, random_state=42)\n",
        "\n",
        "# Train the model\n",
        "random_forest.fit(X_train, Y_train)\n",
        "\n",
        "# Predict on the test set\n",
        "y_pred = random_forest.predict(X_test)"
      ]
    },
    {
      "cell_type": "code",
      "execution_count": null,
      "id": "e7c80254-e059-4ae9-a0db-41f4f63ef581",
      "metadata": {
        "id": "e7c80254-e059-4ae9-a0db-41f4f63ef581",
        "outputId": "061a4196-5eab-4755-d5ea-0808876d2e3b"
      },
      "outputs": [
        {
          "name": "stdout",
          "output_type": "stream",
          "text": [
            "Accuracy: 0.9544159544159544\n",
            "Precision: 0.7692307692307693\n",
            "Recall: 0.6666666666666666\n",
            "F1 Score: 0.7142857142857142\n",
            "AUC-ROC Score: 0.8239875389408099\n"
          ]
        }
      ],
      "source": [
        "\n",
        "accuracy = accuracy_score(Y_test, y_pred)\n",
        "print(\"Accuracy:\", accuracy)\n",
        "precision = precision_score(Y_test, y_pred)\n",
        "print(\"Precision:\", precision)\n",
        "recall = recall_score(Y_test, y_pred)\n",
        "print(\"Recall:\", recall)\n",
        "f1 = f1_score(Y_test, y_pred)\n",
        "print(\"F1 Score:\", f1)\n",
        "auc_roc_score = roc_auc_score(Y_test, y_pred)\n",
        "print(\"AUC-ROC Score:\", auc_roc_score)\n"
      ]
    },
    {
      "cell_type": "code",
      "execution_count": null,
      "id": "17540823-ce6a-4ad2-8d82-62af4143379f",
      "metadata": {
        "id": "17540823-ce6a-4ad2-8d82-62af4143379f",
        "outputId": "74d8d47a-ce78-4631-b1c3-b96c3586010a"
      },
      "outputs": [
        {
          "data": {
            "image/png": "[encoded data removed]",
            "text/plain": [
              "<Figure size 800x600 with 1 Axes>"
            ]
          },
          "metadata": {},
          "output_type": "display_data"
        }
      ],
      "source": [
        "y_probs = random_forest.predict_proba(X_test)[:, 1]\n",
        "fpr, tpr, thresholds = roc_curve(Y_test, y_probs)\n",
        "auc_roc = roc_auc_score(Y_test, y_probs)\n",
        "\n",
        "plt.figure(figsize=(8, 6))\n",
        "plt.plot(fpr, tpr, color='blue', lw=2, label='ROC curve (AUC = %0.2f)' % auc_roc)\n",
        "plt.plot([0, 1], [0, 1], color='gray', linestyle='--')\n",
        "plt.xlim([0.0, 1.0])\n",
        "plt.ylim([0.0, 1.05])\n",
        "plt.xlabel('False Positive Rate')\n",
        "plt.ylabel('True Positive Rate')\n",
        "plt.title('Receiver Operating Characteristic (ROC) Curve')\n",
        "plt.legend(loc=\"lower right\")\n",
        "plt.show()"
      ]
    },
    {
      "cell_type": "code",
      "execution_count": null,
      "id": "223492a7-f0a6-4ca6-a4fa-4887cacfed1d",
      "metadata": {
        "id": "223492a7-f0a6-4ca6-a4fa-4887cacfed1d",
        "outputId": "839647a5-1e50-4d98-d229-2172a3db12ff"
      },
      "outputs": [
        {
          "name": "stdout",
          "output_type": "stream",
          "text": [
            "ccp_alpha : 0.0\n",
            "class_weight : None\n",
            "criterion : gini\n",
            "max_depth : None\n",
            "max_features : None\n",
            "max_leaf_nodes : None\n",
            "min_impurity_decrease : 0.0\n",
            "min_samples_leaf : 1\n",
            "min_samples_split : 2\n",
            "min_weight_fraction_leaf : 0.0\n",
            "random_state : 42\n",
            "splitter : best\n"
          ]
        }
      ],
      "source": [
        "from sklearn.tree import DecisionTreeClassifier\n",
        "from sklearn import metrics\n",
        "\n",
        "# Create Decision Tree classifier\n",
        "decision_tree = DecisionTreeClassifier(random_state=42)\n",
        "params = decision_tree.get_params()\n",
        "\n",
        "# Print the parameters\n",
        "for param, value in params.items():\n",
        "    print(param, ':', value)\n",
        "\n",
        "# Train the model\n",
        "decision_tree.fit(X_train, Y_train)\n",
        "\n",
        "# Predict on the test set\n",
        "y_pred = decision_tree.predict(X_test)\n"
      ]
    },
    {
      "cell_type": "code",
      "execution_count": null,
      "id": "e735cde7-4315-48cf-a5e9-14151c68a261",
      "metadata": {
        "id": "e735cde7-4315-48cf-a5e9-14151c68a261",
        "outputId": "c6bba9f9-57a8-445f-ff4a-e53e4ed8dd63"
      },
      "outputs": [
        {
          "name": "stdout",
          "output_type": "stream",
          "text": [
            "Accuracy: 0.9458689458689459\n",
            "Precision: 0.6571428571428571\n",
            "Recall: 0.7666666666666667\n",
            "F1 Score: 0.7076923076923077\n",
            "AUC-ROC Score: 0.8646417445482866\n"
          ]
        }
      ],
      "source": [
        "accuracy = accuracy_score(Y_test, y_pred)\n",
        "print(\"Accuracy:\", accuracy)\n",
        "precision = precision_score(Y_test, y_pred)\n",
        "print(\"Precision:\", precision)\n",
        "recall = recall_score(Y_test, y_pred)\n",
        "print(\"Recall:\", recall)\n",
        "f1 = f1_score(Y_test, y_pred)\n",
        "print(\"F1 Score:\", f1)\n",
        "\n",
        "\n",
        "\n",
        "from sklearn.datasets import make_classification\n",
        "\n",
        "auc_roc_score = roc_auc_score(Y_test, y_pred)\n",
        "\n",
        "print(\"AUC-ROC Score:\", auc_roc_score)\n"
      ]
    },
    {
      "cell_type": "code",
      "execution_count": null,
      "id": "0765074e-d59b-4061-95d8-77ccba70a714",
      "metadata": {
        "id": "0765074e-d59b-4061-95d8-77ccba70a714",
        "outputId": "83c224da-580b-4dbf-9c9c-91bfbe8bdff5"
      },
      "outputs": [
        {
          "data": {
            "image/png": "[encoded data removed]",
            "text/plain": [
              "<Figure size 800x600 with 1 Axes>"
            ]
          },
          "metadata": {},
          "output_type": "display_data"
        }
      ],
      "source": [
        "y_probs = decision_tree.predict_proba(X_test)[:, 1]\n",
        "fpr, tpr, thresholds = roc_curve(Y_test, y_probs)\n",
        "auc_roc = roc_auc_score(Y_test, y_probs)\n",
        "\n",
        "plt.figure(figsize=(8, 6))\n",
        "plt.plot(fpr, tpr, color='blue', lw=2, label='ROC curve (AUC = %0.2f)' % auc_roc)\n",
        "plt.plot([0, 1], [0, 1], color='gray', linestyle='--')\n",
        "plt.xlim([0.0, 1.0])\n",
        "plt.ylim([0.0, 1.05])\n",
        "plt.xlabel('False Positive Rate')\n",
        "plt.ylabel('True Positive Rate')\n",
        "plt.title('Receiver Operating Characteristic (ROC) Curve')\n",
        "plt.legend(loc=\"lower right\")\n",
        "plt.show()"
      ]
    },
    {
      "cell_type": "code",
      "execution_count": null,
      "id": "80e4e3ec-b065-4b15-ade9-e53886e94538",
      "metadata": {
        "id": "80e4e3ec-b065-4b15-ade9-e53886e94538",
        "outputId": "8e163340-8bd3-4496-a9d8-dbf8e007b7bc"
      },
      "outputs": [
        {
          "name": "stdout",
          "output_type": "stream",
          "text": [
            "Parameters: {'class_weight': None, 'max_depth': 10, 'min_samples_leaf': 4, 'min_samples_split': 10}\n",
            "Best Score (F1): 0.9584744829473957\n",
            "Test Precision Score: 0.9540903540903539\n",
            "Test Recall Score: 0.9487179487179487\n",
            "Test F1 Score: 0.9508070545806394\n",
            "AUC-ROC Score: 0.8813084112149533\n"
          ]
        }
      ],
      "source": [
        "#GridSearchCV on Decision  Tree Classifier\n",
        "from sklearn.model_selection import GridSearchCV\n",
        "from sklearn.metrics import make_scorer, f1_score, roc_auc_score, roc_curve\n",
        "\n",
        "\n",
        "\n",
        "dt_classifier = DecisionTreeClassifier(random_state=42)\n",
        "\n",
        "\n",
        "param_grid = {\n",
        "    'class_weight': [None, 'balanced'],\n",
        "    'max_depth': [None, 10, 20, 30],\n",
        "    'min_samples_split': [2, 5, 10],\n",
        "    'min_samples_leaf': [1, 2, 4]\n",
        "}\n",
        "\n",
        "\n",
        "scorer = make_scorer(f1_score, average='weighted')\n",
        "\n",
        "grid_search = GridSearchCV(estimator=dt_classifier, param_grid=param_grid, scoring=scorer, cv=5)\n",
        "grid_search.fit(X_train, Y_train)\n",
        "\n",
        "best_params = grid_search.best_params_\n",
        "best_score = grid_search.best_score_\n",
        "\n",
        "print(\"Parameters:\", best_params)\n",
        "print(\"Best Score (F1):\", best_score)\n",
        "\n",
        "best_dt_classifier = DecisionTreeClassifier(**best_params, random_state=42)\n",
        "best_dt_classifier.fit(X_train, Y_train)\n",
        "\n",
        "y_pred = best_dt_classifier.predict(X_test)\n",
        "\n",
        "\n",
        "precision=precision_score(Y_test, y_pred, average='weighted')\n",
        "recall=recall_score(Y_test, y_pred, average='weighted')\n",
        "f1 = f1_score(Y_test, y_pred, average='weighted')\n",
        "\n",
        "auc_roc=roc_auc_score(Y_test, y_pred, average='weighted')\n",
        "\n",
        "print(\"Test Precision Score:\", precision)\n",
        "\n",
        "\n",
        "print(\"Test Recall Score:\", recall)\n",
        "\n",
        "print(\"Test F1 Score:\", f1)\n",
        "\n",
        "print(\"AUC-ROC Score:\", auc_roc)\n",
        "#Accuracy: 0.9487179487179487 [This is the accuracy score I have got for the model sorry I forgot to print it during code my walkthrough]"
      ]
    },
    {
      "cell_type": "code",
      "execution_count": null,
      "id": "609e773c-1b14-44ef-b3c1-6cfc691db38e",
      "metadata": {
        "id": "609e773c-1b14-44ef-b3c1-6cfc691db38e",
        "outputId": "ed139a2c-6df7-4b5f-8e47-a5f398ca48ce"
      },
      "outputs": [
        {
          "name": "stdout",
          "output_type": "stream",
          "text": [
            "AUC-ROC Score: 0.8813084112149533\n"
          ]
        }
      ],
      "source": [
        "auc_roc_score = roc_auc_score(Y_test, y_pred)\n",
        "print(\"AUC-ROC Score:\", auc_roc_score)"
      ]
    },
    {
      "cell_type": "code",
      "execution_count": null,
      "id": "3d64074f-fb1e-48ac-a34e-f036b71899c7",
      "metadata": {
        "id": "3d64074f-fb1e-48ac-a34e-f036b71899c7",
        "outputId": "83bcfd93-c0ca-4347-b31c-98232f1da822"
      },
      "outputs": [
        {
          "data": {
            "image/png": "[encoded data removed]",
            "text/plain": [
              "<Figure size 800x600 with 1 Axes>"
            ]
          },
          "metadata": {},
          "output_type": "display_data"
        }
      ],
      "source": [
        "y_probs = best_dt_classifier.predict_proba(X_test)[:, 1]\n",
        "fpr, tpr, thresholds = roc_curve(Y_test, y_probs)\n",
        "auc_roc = roc_auc_score(Y_test, y_probs)\n",
        "\n",
        "plt.figure(figsize=(8, 6))\n",
        "plt.plot(fpr, tpr, color='blue', lw=2, label='ROC curve (AUC = %0.2f)' % auc_roc)\n",
        "plt.plot([0, 1], [0, 1], color='gray', linestyle='--')\n",
        "plt.xlim([0.0, 1.0])\n",
        "plt.ylim([0.0, 1.05])\n",
        "plt.xlabel('False Positive Rate')\n",
        "plt.ylabel('True Positive Rate')\n",
        "plt.title('Receiver Operating Characteristic (ROC) Curve')\n",
        "plt.legend(loc=\"lower right\")\n",
        "plt.show()"
      ]
    },
    {
      "cell_type": "code",
      "execution_count": null,
      "id": "6600f7cb-abb1-4758-b9a9-ea9e888b8aec",
      "metadata": {
        "id": "6600f7cb-abb1-4758-b9a9-ea9e888b8aec"
      },
      "outputs": [],
      "source": [
        "# Two of the best results obtained were:\n",
        "\n",
        "# DecisionTree(BestParams):\n",
        "# Parameters: {'class_weight': None, 'max_depth': 10, 'min_samples_leaf': 4, 'min_samples_split': 10}\n",
        "# Accuracy: 0.9487179487179487 [This is the accuracy score I have got for the model sorry I forgot to print it during code my walkthrough]\n",
        "# Best Score (F1): 0.9584744829473957\n",
        "# Test Precision Score: 0.9540903540903539\n",
        "# Test Recall Score: 0.9487179487179487\n",
        "# Test F1 Score: 0.9508070545806394\n",
        "# AUC-ROC Score: 0.8813084112149533\n",
        "\n",
        "\n",
        "#KNN(best_params)\n",
        "# Best Parameters: {'algorithm': 'auto', 'n_neighbors': 3, 'p': 1, 'weights': 'distance'}\n",
        "# Accuracy: 0.9287749287749287 [This is the accuracy score I have got for the model sorry I forgot to print it during code my walkthrough]\n",
        "# Best Score (F1): 0.9645212189009325\n",
        "# Test Precision Score: 0.9392943239097085\n",
        "# Test Recall Score: 0.9287749287749287\n",
        "# Test F1 Score: 0.9329137027467956\n",
        "# AUC-ROC Score: 0.8401869158878504\n",
        "\n",
        "\n",
        "\n",
        "\n"
      ]
    }
  ],
  "metadata": {
    "kernelspec": {
      "display_name": "Python 3 (ipykernel)",
      "language": "python",
      "name": "python3"
    },
    "language_info": {
      "codemirror_mode": {
        "name": "ipython",
        "version": 3
      },
      "file_extension": ".py",
      "mimetype": "text/x-python",
      "name": "python",
      "nbconvert_exporter": "python",
      "pygments_lexer": "ipython3",
      "version": "3.10.12"
    },
    "colab": {
      "provenance": []
    }
  },
  "nbformat": 4,
  "nbformat_minor": 5
}